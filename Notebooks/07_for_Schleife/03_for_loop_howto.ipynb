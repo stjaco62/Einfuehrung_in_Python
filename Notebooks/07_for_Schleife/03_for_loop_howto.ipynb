{
 "cells": [
  {
   "cell_type": "markdown",
   "metadata": {},
   "source": [
    " # How-Tos für For-Schleifen und Ranges\n",
    " ## For-Schleifen\n",
    " * [Elemente eines Strings verarbeiten](#Elemente-eines-Strings-verarbeiten)\n",
    " * [Elemente einer Liste verarbeiten](#Elemente-einer-Liste-verarbeiten)\n",
    " * [Elemente eines Ranges verarbeiten](#Elemente-eines-Ranges-verarbeiten)\n",
    " * [Mit `break` eine `for`-Schleife verlassen](#For-Schleife-mit-break-verlassen)"
   ]
  },
  {
   "cell_type": "markdown",
   "metadata": {},
   "source": [
    " ## Ranges\n",
    " * [Range mit Endwert](#Range-mit-Endwert)\n",
    " * [Range mit Startwert und Endwert](#Range-mit-Startwert-und-Endwert)\n",
    " * [Range mit Startwert, Endwert und Schrittweite](#Range-mit-Startwert,-Endwert-und-Schrittweite)"
   ]
  },
  {
   "cell_type": "markdown",
   "metadata": {},
   "source": [
    " ## Elemente eines Strings verarbeiten"
   ]
  },
  {
   "cell_type": "code",
   "execution_count": null,
   "metadata": {},
   "outputs": [],
   "source": [
    "s = \"Hallo Python-Progammierung\"\n",
    "for char in s:\n",
    "    print(char)\n",
    "\n",
    "count = 0\n",
    "for char in s:\n",
    "    if char == 'o':\n",
    "        count += 1\n",
    "        \n",
    "print(\"Die Zeichenkette enthällt den Buchstaben 'o'\", count, \"mal.\")    "
   ]
  },
  {
   "cell_type": "markdown",
   "metadata": {},
   "source": [
    " ## Elemente einer Liste verarbeiten"
   ]
  },
  {
   "cell_type": "code",
   "execution_count": null,
   "metadata": {},
   "outputs": [],
   "source": [
    "records = [\"Leave Home\", \"Rocket to Russia\", \"Road to Ruin\", \"Mondo Bizarro\"]\n",
    "\n",
    "for record in records:\n",
    "    print(\"Ich höre das Album:\", record)\n"
   ]
  },
  {
   "cell_type": "markdown",
   "metadata": {},
   "source": [
    "## For Schleife mit break verlassen"
   ]
  },
  {
   "cell_type": "code",
   "execution_count": null,
   "metadata": {},
   "outputs": [],
   "source": [
    "list1 = [2, 4, 12, 5, 37, 100, 23, 16, 36]\n",
    "for i in list1:\n",
    "    print(i)\n",
    "    if i == 12:\n",
    "        break"
   ]
  },
  {
   "cell_type": "markdown",
   "metadata": {},
   "source": [
    " ## Elemente eines Ranges verarbeiten"
   ]
  },
  {
   "cell_type": "code",
   "execution_count": null,
   "metadata": {},
   "outputs": [],
   "source": [
    "for i in range(10):\n",
    "    print(i, i**2, i**3)    \n"
   ]
  },
  {
   "cell_type": "markdown",
   "metadata": {},
   "source": [
    " ## Range mit Endwert"
   ]
  },
  {
   "cell_type": "code",
   "execution_count": null,
   "metadata": {},
   "outputs": [],
   "source": [
    "for number in range(10):\n",
    "    print(number)"
   ]
  },
  {
   "cell_type": "markdown",
   "metadata": {},
   "source": [
    " ## Range mit Startwert und Endwert"
   ]
  },
  {
   "cell_type": "code",
   "execution_count": null,
   "metadata": {},
   "outputs": [],
   "source": [
    "for number in range(10, 20):\n",
    "    print(number)\n"
   ]
  },
  {
   "cell_type": "markdown",
   "metadata": {},
   "source": [
    " ## Range mit Startwert, Endwert und Schrittweite"
   ]
  },
  {
   "cell_type": "code",
   "execution_count": null,
   "metadata": {},
   "outputs": [],
   "source": [
    "for number in range(10, 0, -2):\n",
    "    print(number)    "
   ]
  }
 ],
 "metadata": {
  "file_extension": ".py",
  "kernelspec": {
   "display_name": "Python 3 (ipykernel)",
   "language": "python",
   "name": "python3"
  },
  "language_info": {
   "codemirror_mode": {
    "name": "ipython",
    "version": 3
   },
   "file_extension": ".py",
   "mimetype": "text/x-python",
   "name": "python",
   "nbconvert_exporter": "python",
   "pygments_lexer": "ipython3",
   "version": "3.10.2"
  },
  "mimetype": "text/x-python",
  "name": "python",
  "npconvert_exporter": "python",
  "pygments_lexer": "ipython3",
  "version": 3
 },
 "nbformat": 4,
 "nbformat_minor": 2
}
