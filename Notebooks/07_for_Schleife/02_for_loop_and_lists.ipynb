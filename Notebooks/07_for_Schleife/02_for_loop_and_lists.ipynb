{
 "cells": [
  {
   "cell_type": "markdown",
   "metadata": {},
   "source": [
    "# for-Schleifen und Listen\n",
    "## Voraussetzungen\n",
    "Diese Einheit setzt voraus, dass Sie folgende Inhalte kennen: Variablen, Ein- und Ausgabe, primitive Datentypen, Strings, Liste und for-loops mit ranges.\n",
    "## `for`-Schleifen und Listen\n",
    "Die `for`-Schleife im Zusammenhang mit Listen wurde schon kurz erwähnt. Dieses Notebook soll die Verarbeitung mit Listen durch Verwendung von`for`-loops vertiefen. \n",
    "Es wurde schon gesagt, das Listen Sequenzen sind, dass sie sich daher für eben die `for`-loop eignen. Nochmal zur Wiederholung: Listen bestehen aus mehreren Elementen, die hintereinander in (eben) einer Liste stehen. \n",
    "## Eine Liste erstellen\n",
    "### Füllen einer Liste mit Werten\n",
    "Im folgenden Programm wird eine anfangs leere Liste nach und nach mit Zahlen eines `range` gefüllt.\n",
    "Wandeln Sie das Programm so ab, dass die Liste mit den Zahlen 10, 20, ... 100 gefüllt wird."
   ]
  },
  {
   "cell_type": "code",
   "execution_count": null,
   "metadata": {},
   "outputs": [],
   "source": [
    "list1 = []\n",
    "for i in range(0,10):\n",
    "    list1.append(i)\n",
    "print(list1)"
   ]
  },
  {
   "cell_type": "markdown",
   "metadata": {},
   "source": [
    "### Füllen einer Liste mit verschiedenen `inputs()`\n",
    "Statt der Werte des `range` kann auch jeweils ein `input()` eingelesen werden."
   ]
  },
  {
   "cell_type": "code",
   "execution_count": null,
   "metadata": {},
   "outputs": [],
   "source": [
    "list1 = []\n",
    "for i in range (0,10):\n",
    "    eingabe = input(\"Bitte einen Wert eingeben: \")\n",
    "    list1.append(eingabe)\n",
    "print(list1)"
   ]
  },
  {
   "cell_type": "markdown",
   "metadata": {},
   "source": [
    "### Eine beliebig lange Liste mit Werten eingeben\n",
    "In obigem Beispiel werden immer genau 10 Werte eingegeben. Wie kann das Programm so angepasst werden, dass beliebig viele Werte eingegeben werden? Bei einer `for`-Schleife muss man tricksen. (Eigentlich ist hier eine `while`-Schleife besser geeignet.)\n",
    "Eine Schleife kann mit Hilfe der Anweisung `break` direkt verlassen werden. Das heißt, der Schleifenkörper wird nicht mehr bis zum Ende durchlaufen sondern direkt abgebrochen. Insbesondere wird auch nicht zum Schleifenkopf zurückgesprungen sondern die Schleife direkt verlassen. Das `break` sollte in einer Schleife immer mit einer `if`-Abfrage verbunden werden. Überlegen Sie selber, warum das sonst wenig Sinn macht ...\n",
    "\n",
    "\n",
    "Das folgende Programm liest solange Werte ein, bis eine leere Eingabe gemacht wird (d.h. eine Eingabe, bei der direkt die Return-Taste (Eingabe-Taste) gedrückt wurde). Das Programm ist in sofern unschön, als das im `range` der `for`-Schleife eine Obergrenze eingegeben werden muss. (Hier ist eben die `while`-Schleife eleganter.)\n",
    "\n",
    "Quizfrage: Im folgenden Programm wird die for-Schleife durch eine leere Eingabe beendet. Ist diese leere Eingabe am Ende Teil der Liste `list1`?\n",
    "Wenn nein, ändern Sie den Code so ab, dass die leere Eingabe Teil der Liste wird. Wenn ja, ändern Sie den Code so ab, dass die leere Eingabe *nicht* mehr Teil der Liste ist."
   ]
  },
  {
   "cell_type": "code",
   "execution_count": null,
   "metadata": {},
   "outputs": [],
   "source": [
    "list1 = []\n",
    "for i in range(0,1000000):\n",
    "    eingabe = input(\"Bitte einen Wert eingeben: \")\n",
    "    if eingabe == \"\":\n",
    "        break\n",
    "    list1.append(eingabe)\n",
    "print(list1)"
   ]
  },
  {
   "cell_type": "markdown",
   "metadata": {},
   "source": [
    "## Listen ausgeben\n",
    "Die Ausgabe von Listen mit Hilfe der `for`-Schleife ist kein Problem und wurde schon vorgestellt. Zur Wiederholung schauen Sie sich einfach nochmal das folgende Beispiel an."
   ]
  },
  {
   "cell_type": "code",
   "execution_count": null,
   "metadata": {},
   "outputs": [],
   "source": [
    "list1 = [1, 2, 34, \"ad\", True, 3.456, 34, 2, 1]\n",
    "for element in list1:\n",
    "    print(element)"
   ]
  },
  {
   "cell_type": "markdown",
   "metadata": {},
   "source": [
    "## Listen bearbeiten\n",
    "Das bearbeiten von Listen kommt sehr häufig in Programmen vor. Im Folgenden gibt es ein paar Beispiele, die den Umgang mit `for`-Schleife und Listen vertiefen. Für die Beispiele werden immer Zahlenlisten verwendet.\n",
    "### Minimum in einer Zahlenliste finden.\n",
    "Ja, es gibt die Funktion `min()`. Aber wenn es die nicht gäbe, wie könnten Sie selber das Minimum in einer Liste finden?\n",
    "Sie gehen schrittweise durch die Liste und vergleichen die aktuelle Zahl mit dem bislang gefundenen Minimum. Ist die aktuelle Zahl kleiner als das bislang gefundene Minimum, dann wird die aktuelle Zahl zum (neuen) aktuellen Minimum. Ist man am Ende der Liste angekommen, dann ist das aktuelle Minimum auch das Minimum der gesamten Liste.\n",
    "Wichtig: Sie müssen am Anfang das \"aktuelle Minimum\" als Variable definieren und initialisieren. Aber mit welchem Wert? Wenn der Wert zu klein gewählt wird und in der Liste kein kleinerer Wert vorhanden ist, dann erhält man zum Schluss ein falsches Ergebnis. In diesem Fall kann man  einfach mit dem ersten Wert der Liste initialisieren. "
   ]
  },
  {
   "cell_type": "code",
   "execution_count": null,
   "metadata": {},
   "outputs": [],
   "source": [
    "# list1 enthält 100 Zufallszahlen zwischen 0 und 1000\n",
    "\n",
    "list1=[342, 185, 782, 847, 590, 556, 745, 430, 988, 832, 463, 803, 326, 511, 551, 928, 588, 820, 201, 269, 346, 57, 823, 693, 2, 688, 190, 505, 841, 389, 957, 354, 81, 909, 230, 977, 103, 445, 706, 932, 472, 218, 293, 442, 385, 200, 179, 852, 919, 402, 200, 753, 521, 501, 986, 366, 720, 342, 443, 456, 360, 770, 584, 85, 250, 209, 374, 363, 140, 107, 898, 658, 519, 622, 798, 298, 593, 983, 394, 200, 575, 790, 586, 604, 185, 95, 583, 301, 681, 754, 866, 141, 589, 749, 749, 708, 68, 458, 465, 507, 567]\n",
    "\n",
    "aktuelles_minimum = list1[0]\n",
    "for zahl in list1:\n",
    "    # Aktuelle Zahl mit Minimum vergleichen und ggfs. Minimum anpassen\n",
    "    if zahl < aktuelles_minimum:\n",
    "        aktuelles_minimum = zahl\n",
    "print(\"Das Minimum der Liste ist \", aktuelles_minimum)"
   ]
  },
  {
   "cell_type": "markdown",
   "metadata": {},
   "source": [
    "## Aufgabe 1\n",
    "Finden Sie das Maximum in der folgenden Zahlenliste **ohne** die Funktin `max()` zu verwenden."
   ]
  },
  {
   "cell_type": "code",
   "execution_count": null,
   "metadata": {},
   "outputs": [],
   "source": [
    "# list1 enthält 100 Zufallszahlen zwischen 0 und 1000\n",
    "\n",
    "list1=[342, 185, 782, 847, 590, 556, 745, 430, 988, 832, 463, 803, 326, 511, 551, 928, 588, 820, 201, 269, 346, 57, 823, 693, 2, 688, 190, 505, 841, 389, 957, 354, 81, 909, 230, 977, 103, 445, 706, 932, 472, 218, 293, 442, 385, 200, 179, 852, 919, 402, 200, 753, 521, 501, 986, 366, 720, 342, 443, 456, 360, 770, 584, 85, 250, 209, 374, 363, 140, 107, 898, 658, 519, 622, 798, 298, 593, 983, 394, 200, 575, 790, 586, 604, 185, 95, 583, 301, 681, 754, 866, 141, 589, 749, 749, 708, 68, 458, 465, 507, 567]\n"
   ]
  },
  {
   "cell_type": "markdown",
   "metadata": {},
   "source": [
    "## Alle Zahlen in einer Liste ausgeben\n",
    "In der folgenden Übung ist eine Liste mit verschiedenen Elementen gegeben. Dabei haben die Elemente einen unterschiedlichen Datentypen. Erzeugen Sie eine neue Liste, in der nur die Integerwerte der Liste stehen.\n",
    "Wie geht man vor? Man benötigt eine initiale neue Liste, die am Anfang leer ist `new_list = []`. Anschließend iteriert man über die Ausgangsliste, kontrolliert den Datentyp von jedem Element. Ist der Datentyp ein Integer, wir das Element an die neue Liste angehängt.\n",
    "\n",
    "Wie wird der Datentyp kontrolliert? Die Funktion `type()` hilft hier nicht weiter, da sie nicht als Bedingung abgefragt werden kann. Stattdessen hilft die Funktion `isinstance(var, class)`. In der Objekt-Orientierung spricht man von einer Instanziierung, wenn zu einer abstrakten Klasse ein konkretes Objekt definiert wird. Beispielsweise könnte Student eine Klasse sein, wenn sich jetzt Peter Müller immatrikuliert, wird er (in dem Software-System) eine Instanz der Klasse Student. \n",
    "\n",
    "Die Datentypen sind jeweils Klassen, jede Variable ist daher eine Instanziierung einer Klasse. Mit obiger Funktion kann überprüft werden, ob eine Variable (ein Objekt) eine Instanz einer Klasse ist. Der Rückgabewert ist entweder `True` oder `False`. \n",
    "\n"
   ]
  },
  {
   "cell_type": "code",
   "execution_count": null,
   "metadata": {},
   "outputs": [],
   "source": [
    "# Liste aus 100 zufälligen Werten, alle primitven Datentypen sind vorhanden.\n",
    "list1 = [22.19, True, 'b', 84, 67.31, 'l', 2.1, 93, True, True, 'r', 60.2, 'l', 'a', 92.43, 4.84, 15, '^', 75, False, False, 58, 15.91, 'q', '`', 18, 70.65, 'g', 98.09, 79.49, 65.38, 70, 60, 40, 37, 7.99, True, 'r', False, False, False, 17.75, '_', 0.41, False, 55, True, 31.19, 'a', 'z', 60.29, 44, False, 'i', 'u', 'k', 64.08, True, 88.77, 7.43, 16, 'u', 21, 'r', 23.1, True, 19.96, False, True, 't', 46.85, 'n', 90.85, True, 17, 89, 81.38, False, 35, 7, True, True, 57, True, False, 39.92, 'n', True, 85.59, 'x', 'p', 3.48, False, 92.23, 'j', 'v', False, 6, 6, 17.46]\n",
    "new_list = []\n",
    "for element in list1:\n",
    "    element = str(element)\n",
    "    if element.isdigit():\n",
    "        new_list.append(int(element))\n",
    "print(new_list)"
   ]
  },
  {
   "cell_type": "markdown",
   "metadata": {},
   "source": [
    "Das erste Ergebnis ist noch nicht zufriedenstellend. Alle boolschen Werte sind mit durchgerutscht. Warum? Ein `False` entspricht eben einer 0, ein `True` einem anderen Interger-Wert. Das Programm muss noch so angepasst werden, dass die boolschen Werte **nicht** mit in die neue Liste kopiert werden."
   ]
  },
  {
   "cell_type": "code",
   "execution_count": null,
   "metadata": {},
   "outputs": [],
   "source": [
    "# Liste aus 100 zufälligen Werten, alle primitven Datentypen sind vorhanden.\n",
    "list1 = ['t', 'i', 907, 'c', 571, 1, 282, 1, 480.9363005521724, 493.0348708264939, 1, 249.44004139111297, 'z', 392.77515784804973, 1, 's', 43, 191, 69, 722.0622457851592, 'o', False, 257.038876667413, 348.4433809422943, 1, 'l', 'q', 342, 484, 267.74159770406726, 'v', 'c', 'j', 1, 'h', False, 1, 'v', 308.89076884663325, 11.289660447286076, 'z', False, 596, 332, False, 'r', 269.70482858138166, 311, 'g', 243, 'p', False, 1, 'j', 200, 'p', 1, False, 760.728771538912, 410.713746861933, 900, 1, False, 1, 's', 'j', 617, False, 202, 179.2859101130938, 14.600071210760678, 'n', 'z', 301.9762654068494, False, 621, 1, False, 1, 1, 184, 'f', 1, 637, False, False, 'v', 616.8090911251313, 450.47298386996096, 1, 565, 983.8705580335267, 821.0245134899556, 428, 814, 1, 'x', 1, 935, 705.6575295198927]\n",
    "\n",
    "new_list = []\n",
    "for element in list1:\n",
    "    if isinstance(element, int) and not isinstance(element, bool):\n",
    "        new_list.append(element)\n",
    "print(new_list)"
   ]
  },
  {
   "cell_type": "markdown",
   "metadata": {},
   "source": [
    "## Listen sortieren\n",
    "Das Sortieren (von Listen) ist eines der Standardprobleme in der Informatik. In jedem Informatikstudium gibt es eine Vorlesung zu Algorithmen, in der das Sortieren thematisiert wird.\n",
    "\n",
    "Wie sortieren Sie? Stellen Sie sich vor, Sie haben einen Stapel mit hundert Klausuren und sollen den Stapel anhand der Matrikelnummer sortieren. Wie machen Sie das?\n",
    "\n",
    "### Bubblesort\n",
    "Ein einfaches und bekanntes Verfahren zum Sortieren ist Bubblesort. Sie haben eine Liste von Zahlen und diese soll von klein nach groß sortiert sein. Bubblesort geht durch die Liste und vergleicht der Reihe nach die beiden nebeneinander liegenden Elemente. Sind die in der richtigen Reihenfolge, dann bleiben sie wie sie sind. Sind sie in der falschen Reihenfolge, dann werden sie vertauscht. Ist man das erste Mal durch die Liste gegangen, dann steht die größte Zahl hinten. Dann wiederholt man das Verfahren. Jetzt sind die zwei größten Zahlen hinten an der richtigen Position. Wenn man das Verfahren n-mal (n = Anzahl der Elemente in der Liste) durchgeführt hat, ist die Liste sortiert.\n",
    "\n",
    "Kleines Problem noch: Wie vertauscht man die Werte zweier Variablen? Man benötigt eine dritte Variable als Zwischenspeicher!\n",
    "```python\n",
    "a = 5\n",
    "b = 7\n",
    "c = a\n",
    "a = b\n",
    "b = c\n",
    "# Die Werte von a und b sind vertauscht worden```\n",
    "Sie benötigen zwei `for`-Schleifen, die in einander verschachtelt sind. Wichtig: Die Schleifen laufen über den Index nicht über die Elemente! Nach jeder Runde wird die komplette Liste ausgegeben. Dies dient dazu, das Zwischenergebnis verständlich zu machen.\n"
   ]
  },
  {
   "cell_type": "code",
   "execution_count": null,
   "metadata": {},
   "outputs": [],
   "source": [
    "list1 = [98, 49, 60, 13, 62, 43, 92, 24, 9, 39]\n",
    "\n",
    "for i in range(0, len(list1)):\n",
    "    for j in range(0, len(list1)-1):\n",
    "        # Die zwei über den index j und j+1 gegebenen Elemente vergleichen und ggfs. tauschen\n",
    "        if list1[j] > list1[j+1]:\n",
    "            zwischenspeicher = list1[j]\n",
    "            list1[j] = list1[j+1]\n",
    "            list1[j+1] = zwischenspeicher\n",
    "print(list1)"
   ]
  },
  {
   "cell_type": "markdown",
   "metadata": {},
   "source": [
    "Möglicherweise wurden nicht alle Runden benötigt, das Ergebnis stand schon früher fest. Wie lange das Verfahren wirklich benötigt, hängt davon ab, wie \"unordentlich\" die Liste sortiert ist. \n",
    "Quizfrage: Warum darf die innere Schleife nur bis `len(list1) - 1` laufen? Dürfte man die äußere Schleife auch um eine Runde verkürzen?"
   ]
  },
  {
   "cell_type": "markdown",
   "metadata": {},
   "source": [
    "## Aufgabe 2\n",
    "Gegeben ist die Liste von oben, die mit den unterschiedlichen Datentypen. Schreiben Sie eine Programm, dass das Minimum aller Zahlen (Integer **und** Float) in dieser Liste sucht."
   ]
  },
  {
   "cell_type": "code",
   "execution_count": null,
   "metadata": {},
   "outputs": [],
   "source": [
    "# Liste von 100 Elementen unterschiedlichen Datentyps\n",
    "list1 = [22.19, True, 'b', 84, 67.31, 'l', 2.1, 93, True, True, 'r', 60.2, 'l', 'a', 92.43, 4.84, 15, '^', 75, False, False, 58, 15.91, 'q', '`', 18, 70.65, 'g', 98.09, 79.49, 65.38, 70, 60, 40, 37, 7.99, True, 'r', False, False, False, 17.75, '_', 0.41, False, 55, True, 31.19, 'a', 'z', 60.29, 44, False, 'i', 'u', 'k', 64.08, True, 88.77, 7.43, 16, 'u', 21, 'r', 23.1, True, 19.96, False, True, 't', 46.85, 'n', 90.85, True, 17, 89, 81.38, False, 35, 7, True, True, 57, True, False, 39.92, 'n', True, 85.59, 'x', 'p', 3.48, False, 92.23, 'j', 'v', False, 6, 6, 17.46]\n",
    "\n"
   ]
  },
  {
   "cell_type": "markdown",
   "metadata": {},
   "source": [
    "## Aufgabe 3\n",
    "Erzeugen Sie aus der Liste von eben eine neue Liste in der alle Zahlen (Interger und Float) sortiert aufgelistet sind."
   ]
  },
  {
   "cell_type": "code",
   "execution_count": null,
   "metadata": {},
   "outputs": [],
   "source": [
    "# Liste von 100 Elementen unterschiedlichen Datentyps\n",
    "list1 = [22.19, True, 'b', 84, 67.31, 'l', 2.1, 93, True, True, 'r', 60.2, 'l', 'a', 92.43, 4.84, 15, '^', 75, False, False, 58, 15.91, 'q', '`', 18, 70.65, 'g', 98.09, 79.49, 65.38, 70, 60, 40, 37, 7.99, True, 'r', False, False, False, 17.75, '_', 0.41, False, 55, True, 31.19, 'a', 'z', 60.29, 44, False, 'i', 'u', 'k', 64.08, True, 88.77, 7.43, 16, 'u', 21, 'r', 23.1, True, 19.96, False, True, 't', 46.85, 'n', 90.85, True, 17, 89, 81.38, False, 35, 7, True, True, 57, True, False, 39.92, 'n', True, 85.59, 'x', 'p', 3.48, False, 92.23, 'j', 'v', False, 6, 6, 17.46]\n",
    "\n"
   ]
  },
  {
   "cell_type": "markdown",
   "metadata": {},
   "source": [
    "## Aufgabe 4\n",
    "Zahlen sortieren geht auf sehr viele Arten. Implementieren Sie folgende Methode: In der Ursprungsliste wird das Minimum gesucht. Das Minimum wird in einer neuen Liste hinten angehängt `.append()` und in der Ursprungsliste gelöscht. Das Ganze Verfahren wiederholt man solange, bis die Ursprungsliste leer ist. Geben Sie nach jeder Runde (also wenn das Minimum von der alten Liste in die neue Liste geschoben wurde) beide Listen zur Kontrolle aus.\n"
   ]
  },
  {
   "cell_type": "code",
   "execution_count": null,
   "metadata": {},
   "outputs": [],
   "source": [
    "list1 = [98, 49, 60, 13, 62, 43, 92, 24, 9, 39]\n"
   ]
  }
 ],
 "metadata": {
  "file_extension": ".py",
  "kernelspec": {
   "display_name": "Python 3 (ipykernel)",
   "language": "python",
   "name": "python3"
  },
  "language_info": {
   "codemirror_mode": {
    "name": "ipython",
    "version": 3
   },
   "file_extension": ".py",
   "mimetype": "text/x-python",
   "name": "python",
   "nbconvert_exporter": "python",
   "pygments_lexer": "ipython3",
   "version": "3.12.2"
  },
  "mimetype": "text/x-python",
  "name": "python",
  "npconvert_exporter": "python",
  "pygments_lexer": "ipython3",
  "version": 3
 },
 "nbformat": 4,
 "nbformat_minor": 4
}
