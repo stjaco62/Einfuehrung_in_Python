{
 "cells": [
  {
   "cell_type": "markdown",
   "metadata": {},
   "source": [
    "# for-Schleifen und Ranges\n",
    "## Voraussetzungen\n",
    "Diese Einheit setzt voraus, dass Sie folgende Inhalte kennen: Variablen, Ein- und Ausgabe, primitive Datentypen, Strings und Listen.\n",
    "## `for`-Schleifen\n",
    "Schleifen werden in der Programmierung benötigt um eine Gruppe von Anweisungen mehrfach zu durchlaufen. Die Programmiersprache Python kennt zwei Schleifen, die `while`-Schleife und die `for`-Schleife. Die `for`-Schleife ist ein Sprachelement, dass sich sehr gut zur Bearbeitung von Zeichenketten (Buchstabe für Buchstabe), Listen (Element für Element) oder Zahlenintervallen eignet. Zeichenketten, Listen und Zahlenintervalle werden in Python auch allgemeiner als [*Sequenz*](https://docs.python.org/3/library/stdtypes.html#sequence-types-list-tuple-range) bezeichnet. Sequenz bedeutet nichts anderes, als das mehrere Teile aufeinander folgen. In einem String folgen Buchstaben aufeinander, in einer Liste folgen die einzelnen Listenelemente aufeinander. \n",
    "\n",
    "Bei der Bearbeitung einer Sequenz mit einer `for`-Schleife wird in jedem Durchlauf ein Element der Sequenz einer Variablen zugewiesen. Wenn z.B. eine `for`-Schleife über einen String iteriert, wird in jeder Schleife jeweils ein Zeichen bearbeitet. Was genau bearbeiten bedeutet, wird durch die Anweisungen im *Schleifenkörper* festgelegt. Genau wie bei `if-elif-else` wird der Schleifenkörper durch Einrücken festgelegt. Im Schleifenkörper werden alle Anweisungen ausgeführt. Die allgemeine Syntax der `for`-Schleife in Python ist:\n",
    "\n",
    "```python\n",
    "for Variable in Sequenz:\n",
    "    Anweisung_1\n",
    "    Anweisung_2\n",
    "    ...\n",
    "    Anweisung_n\n",
    "```\n",
    "Folgende Grafik verdeutlicht die Ausführung einer `for`-Schleife\n",
    "![for_loop.png](./img/for_loop.png)\n",
    "### Dokumentation\n",
    "Die offizielle Python-Dokumentation zur `for`-Schleife finden Sie [hier](https://docs.python.org/3/tutorial/controlflow.html#for-statements).\n",
    "### Beispiele\n",
    "Um z.B. eine Zeichenkette Buchstabe für Buchstabe zu durchlaufen und jeden Buchstaben auszugeben kann folgender Python-Code verwendet werden."
   ]
  },
  {
   "cell_type": "code",
   "execution_count": null,
   "metadata": {},
   "outputs": [],
   "source": [
    "for char in \"Hallo Python-Progammierung\":\n",
    "    print(char)\n"
   ]
  },
  {
   "cell_type": "markdown",
   "metadata": {},
   "source": [
    "Auf die gleiche Weise können Sie über eine Liste iterieren:"
   ]
  },
  {
   "cell_type": "code",
   "execution_count": null,
   "metadata": {},
   "outputs": [],
   "source": [
    "list1 = [3, 4, 234, -12, \"abc\", True]\n",
    "for element in list1:\n",
    "    print(element)"
   ]
  },
  {
   "cell_type": "markdown",
   "metadata": {},
   "source": [
    "Natürlich ist es auch möglich die `for`-Schleife mit anderen Kontrollstrukturen zu kombinieren. Im folgenden Beispiel wird ein `if-elif-else`-Konstrukt im Schleifenkörper platziert. Beachten Sie, dass der Anweisungsblock hinter dem `if` zweimal eingrückt wurde! Im Beispiel wird gezählt, wie häufig der Buchstabe \"o\" in der gegebenen Zeichenkette vorkommt. Also so etwas ähnliches wie die String-Methode `.count()`."
   ]
  },
  {
   "cell_type": "code",
   "execution_count": null,
   "metadata": {},
   "outputs": [],
   "source": [
    "count = 0\n",
    "for char in \"Hallo Python-Progammierung\":\n",
    "    if char == \"o\":\n",
    "        count += 1\n",
    "        \n",
    "print(\"Die Zeichenkette enthält\", count, \"mal den Buchstaben o\")\n"
   ]
  },
  {
   "cell_type": "markdown",
   "metadata": {},
   "source": [
    "## Aufgabe 1\n",
    "Nun sind Sie an der Reihe. Schreiben Sie ein Programm, welches zuerst die Eingabe eines Satzes und dann die Eingabe eines Buchstabens vom Anwender erwartet. Das Programm soll\n",
    "den eingegebenen Satz ausgeben und dabei jedes Auftreten des eingegebenen Buchstabens entfernen.\n",
    "\n",
    "Die Ausgabe soll wie folgt aussehen (Benutzereingaben zur Verdeutlichung __fett__):\n",
    "> Welcher Satz soll ausgegeben werden? __So soll das aussehen__  <br>\n",
    "> Welcher Buchstabe nicht? __s__ <br>\n",
    "So oll da auehen\n",
    "\n",
    "**Hinweis:** Lesen Sie mit Hilfe von input() zuerst den Satz ein, danach den zu streichenden Buchstaben. Erstellen Sie mit ```ergebnis = \"\"``` einen leeren String. Iterieren Sie anschließend über die Buchstaben. Wenn ein Buchstabe ungleich dem zu streichenden Buchstaben ist, fügen Sie diesen Buchstaben zu ergebnis hinzu ```ergebnis += buchstabe```. Hinter der `for`-Schleife geben Sie die Variable `ergebnis` aus."
   ]
  },
  {
   "cell_type": "code",
   "execution_count": null,
   "metadata": {},
   "outputs": [],
   "source": [
    "satz = input(\"Bitte einen Satz eingeben: \")\n",
    "buchstabe = input(\"Zu streichenden Buchstaben eingeben\")\n",
    "\n",
    "ergebnis = \"\"\n",
    "\n",
    "for char in satz:\n",
    "    if char != buchstabe:\n",
    "        ergebnis = ergebnis + char\n",
    "\n",
    "print(ergebnis)"
   ]
  },
  {
   "cell_type": "markdown",
   "metadata": {},
   "source": [
    "## Aufgabe 2\n",
    "Überarbeiten Sie das Programm von oben (Buchstabe \"o\" wird im String \"Hallo Python ...\" gezählt) so, dass zuerst der String, in dem gesucht werden soll per `input()` eingegeben wird und anschließend das zu zählende Zeichen."
   ]
  },
  {
   "cell_type": "code",
   "execution_count": null,
   "metadata": {},
   "outputs": [],
   "source": []
  },
  {
   "cell_type": "markdown",
   "metadata": {},
   "source": [
    "# Ranges\n",
    "In Python existiert ein eigener Datentyp um eine Sequenz von Zahlen zu repräsentieren. Dieser Datentyp wird als\n",
    "[*Range*](https://docs.python.org/3/library/stdtypes.html#ranges) bezeichnet. Ranges können in Python durch Aufruf der\n",
    "Funktion `range` erzeugt werden. Der Aufruf der 'range'-Funktion in Python ist in folgenden Code-Ausschnitt dargestellt:\n",
    "```python\n",
    "  range([start,] end [,step])\n",
    "  ```\n",
    "Der Aufruf der `range`-Funktion muss das Ende des Intervalls enthalten (im Parameter `end`). Außerdem können optional\n",
    "der Beginn des Intervalls (Parameter `start`) und eine Schrittweite (Paramteter `step`) übergeben werden. Eine\n",
    "Range, welche die Zahlen von 0 bis 4 enthält kann demnach mit folgendem Funktionsaufruf erstellt werden:\n",
    "```python\n",
    "  range(5) # -> 0 1 2 3 4\n",
    "```\n",
    "  Alternativ kann für eine Range auch ein von 0 abweichender Anfangswert definiert werden. Hierzu wird die `range`-Funktion mit zwei Parametern\n",
    "  aufgerufen. Folgender Funktionsaufruf erstellt einen Range im Intervall von 10 bis 15.\n",
    "```python\n",
    "  range(10,16) # -> 10 11 12 13 14 15\n",
    "```\n",
    "Mit Hilfe der Schrittweite kann der Abstand der Zahlen im Intervall definiert werden. Die Schrittweite kann dabei\n",
    "sowohl negativ als auch positiv sein.\n",
    "```python\n",
    "  range(2,12,3) # -> 2 5 8 11\n",
    "  range(20,5,-5) # -> 20 15 10\n",
    "```\n",
    "### Dokumentation\n",
    "Die Dokumentation zur `range`-Funktion finden Sie [hier](https://docs.python.org/3/tutorial/controlflow.html#the-range-function).\n",
    "\n",
    "### Ranges und die `for`-Schleife\n",
    "In Kombination mit der `for`-Schleife können Ranges verwendet werden um die Anzahl der Schleifendurchläufe zu steuern.\n",
    "Dies wird in den folgenden Beispielen näher erläutert. Um z.B. die Zahlen von 0 bis 9 auszugeben kann folgeder Python-Code verwendet werden:"
   ]
  },
  {
   "cell_type": "code",
   "execution_count": null,
   "metadata": {},
   "outputs": [],
   "source": [
    "for number in range(10):\n",
    "    print(number)\n"
   ]
  },
  {
   "cell_type": "markdown",
   "metadata": {},
   "source": [
    "Die Zahlen von 10 bis 19 lassen sich wie folgt ausgeben:"
   ]
  },
  {
   "cell_type": "code",
   "execution_count": null,
   "metadata": {},
   "outputs": [],
   "source": [
    "for number in range(10, 20):\n",
    "    print(number)\n"
   ]
  },
  {
   "cell_type": "markdown",
   "metadata": {},
   "source": [
    "Zu guter letzt kann auch noch die Schrittweite des Intervalls, dass durch die Range dargestellt wird, angepasst werden.\n",
    "Folgender Python-Code gibt z.B. alle Zahlen von 10 bis 0 in Zweierschritten aus."
   ]
  },
  {
   "cell_type": "code",
   "execution_count": null,
   "metadata": {},
   "outputs": [],
   "source": [
    "for number in range(10, 0, -2):\n",
    "    print(number)\n"
   ]
  },
  {
   "cell_type": "markdown",
   "metadata": {},
   "source": [
    "## Aufgabe 3\n",
    "Nun sind Sie wieder an der Reihe. Schreiben Sie ein Python-Programm, das als Eingabe drei natürlich Zahlen erwartet: von, bis und schrittweite. Anschließend werden die Zahlen in diesem Bereich mit der entsprechenden Schrittweite ausgegeben. Hinweis: Denken Sie daran, die Eingaben in den korrekten Datentypen umzuwandeln."
   ]
  },
  {
   "cell_type": "code",
   "execution_count": null,
   "metadata": {},
   "outputs": [],
   "source": []
  },
  {
   "cell_type": "markdown",
   "metadata": {},
   "source": [
    "## Aufgabe 4\n",
    "Eine weitere Aufgabe: Über `input()` wird eine ganze Zahl eingelesen. Berechnen Sie die Summe aller Zahlen von 1 bis zur eingebenen Zahl (einschließlich der eingebenen Zahl!). Hinweis: Sie müssen **vor** der Schleife eine Variable definieren (welcher Startwert?), zu der die einzelnen Zahlen in der Schleife hinzuaddiert werden.\n",
    "\n",
    "Die Ausgabe soll wie folgt aussehen (Benutzereingaben zur Verdeutlichung __fett__):\n",
    "> Bis zu welcher Zahl soll die Summe berechnet werden? __100__  <br>\n",
    "5050"
   ]
  },
  {
   "cell_type": "code",
   "execution_count": null,
   "metadata": {},
   "outputs": [],
   "source": []
  },
  {
   "cell_type": "markdown",
   "metadata": {},
   "source": [
    "## Aufgabe 5 - FizzBuzz\n",
    "Schreiben Sie ein Programm, dass die Zahlen von 1 bis 100 ausgibt.\n",
    "Dabei sollen alle Zahlen, die durch drei teilbar sind, durch \"Fizz\" und alle Zahlen die durch 5 teilbar sind werden durch \"Buzz\" ersetzt.\n",
    "Zahlen, die sowohl durch 3 als auch durch 5 teilbar sind, werden durch \"FizzBuzz\" ersetzt.\n",
    "Hinweis: Die Teilbarkeit können Sie mit dem Modulo-Operator `%` überprüfen.\n",
    "Die Ausgabe der Funktion soll wie folgt aussehen:\n",
    ">1  <br>\n",
    "2  <br>\n",
    "Fizz  <br>\n",
    "4  <br>\n",
    "Buzz  <br>\n",
    "Fizz  <br>\n",
    "7 <br>\n",
    "...\n"
   ]
  },
  {
   "cell_type": "code",
   "execution_count": null,
   "metadata": {},
   "outputs": [],
   "source": []
  },
  {
   "cell_type": "markdown",
   "metadata": {},
   "source": [
    "## Aufgabe 6 - Das kleine Einmal Eins\n",
    "Schreiben Sie ein Programm, dass die Zahlen des kleinen Einmal Eins ausgibt. D.h. das Ergebnis von folgenden Produkten: `1*1, 1*2, 1*3, ... 1*10, 2*1, 2*2, ... 2*10, 3*1, ... 4*1, ... 10*1, ... 10*10`. Hinweis: Sie benötigen **zwei** ineinander verschachtelte for-Schleifen\n",
    "Das Ergebnis sollte dann wie folgt aussehen:\n",
    ">1 <br>\n",
    "2 <br>\n",
    "... <br>\n",
    "100\n"
   ]
  },
  {
   "cell_type": "code",
   "execution_count": null,
   "metadata": {},
   "outputs": [],
   "source": []
  },
  {
   "cell_type": "code",
   "execution_count": null,
   "metadata": {},
   "outputs": [],
   "source": []
  }
 ],
 "metadata": {
  "file_extension": ".py",
  "kernelspec": {
   "display_name": "Python 3 (ipykernel)",
   "language": "python",
   "name": "python3"
  },
  "language_info": {
   "codemirror_mode": {
    "name": "ipython",
    "version": 3
   },
   "file_extension": ".py",
   "mimetype": "text/x-python",
   "name": "python",
   "nbconvert_exporter": "python",
   "pygments_lexer": "ipython3",
   "version": "3.12.2"
  },
  "mimetype": "text/x-python",
  "name": "python",
  "npconvert_exporter": "python",
  "pygments_lexer": "ipython3",
  "version": 3
 },
 "nbformat": 4,
 "nbformat_minor": 4
}
