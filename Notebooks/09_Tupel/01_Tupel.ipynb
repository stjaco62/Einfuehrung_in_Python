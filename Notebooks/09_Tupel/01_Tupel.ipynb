{
 "cells": [
  {
   "cell_type": "markdown",
   "metadata": {},
   "source": [
    "# Tupel\n",
    "Tupel (engl. tuple) sind genauso wie Listen ein komplexer Datentyp. Während Listen veränderbar sind, sind Tupel nicht veränderlich. Was das genau heißt, wie man Tupel am besten einsetzt und wie man Tupel sinnvoll mit Listen kombiniert, wird in diesem Notebook erklärt.\n",
    "## Voraussetzungen\n",
    "Diese Einheit setzt voraus, dass Sie folgende Inhalte kennen: \n",
    "\n",
    "- Datentypen\n",
    "- Variablen\n",
    "- Zuweisungen\n",
    "- Methoden\n",
    "- if-elif-else\n",
    "- Listen\n",
    "- for-Schleife.\n",
    "- Zugriff auf Dateien\n",
    "\n",
    "\n",
    "## Definition von Tupel\n",
    "Ein Tupel ist ein komplexer Datentyp, der aus mehreren Elementen besteht. Ein Tupel wird durch RUNDE Klammern ( ) dargestellt. Die einzelnen Elemente des Tupels werden durch Kommas voneinander getrennt. Genau wie Listen und einfachen Datentypen kann man einer Variablen ein Tupel zuweisen.\n",
    "Tupel können auch Tupel oder Listen als Elemente enthalten."
   ]
  },
  {
   "cell_type": "code",
   "execution_count": 1,
   "metadata": {},
   "outputs": [
    {
     "name": "stdout",
     "output_type": "stream",
     "text": [
      "(52066, 'Aachen', 'Eupener Str. 70', '0241-6009-12345')\n",
      "('Peter', 'Meier', 123456, 'BWL', 'pm12345s@university.edu', (52066, 'Aachen', 'Eupener Str. 70', '0241-6009-12345'))\n",
      "(12312, 'absbsb', [1, 2, 3, 4], ('a', 'b', 'c'), 'Ende')\n"
     ]
    }
   ],
   "source": [
    "adresse = (52066, \"Aachen\", \"Eupener Str. 70\", \"0241-6009-12345\")\n",
    "print(adresse)\n",
    "student = (\"Peter\", \"Meier\", 123456, \"BWL\", \"pm12345s@university.edu\", adresse)\n",
    "print (student)\n",
    "tup1 = (12312, \"absbsb\", [1,2,3,4], (\"a\",\"b\",\"c\"), \"Ende\")\n",
    "print(tup1)"
   ]
  },
  {
   "cell_type": "markdown",
   "metadata": {},
   "source": [
    "## Tupel sind unveränderbar\n",
    "Der große Unterschied zwischen Tupel und Liste ist: Listen können verändert werden, Tupel sind unveränderlich. Das heißt, man kann kein Element zu einem bestehenden Tupel hinzufügen, man kann kein Element eines Tupels löschen oder den Wert eines Elementes ändern.\n",
    "Das heißt nicht, dass man einer Variablen nicht ein anderes Tupel zuweisen kann (siehe folgendes Beispiel). Allerdigns gibt es **keine** Methoden für Tupel wie ```tupel.append()``` oder ```tupel.remove()```"
   ]
  },
  {
   "cell_type": "code",
   "execution_count": 2,
   "metadata": {},
   "outputs": [
    {
     "name": "stdout",
     "output_type": "stream",
     "text": [
      "a\n"
     ]
    },
    {
     "ename": "TypeError",
     "evalue": "'tuple' object does not support item assignment",
     "output_type": "error",
     "traceback": [
      "\u001b[0;31m---------------------------------------------------------------------------\u001b[0m",
      "\u001b[0;31mTypeError\u001b[0m                                 Traceback (most recent call last)",
      "Input \u001b[0;32mIn [2]\u001b[0m, in \u001b[0;36m<cell line: 3>\u001b[0;34m()\u001b[0m\n\u001b[1;32m      1\u001b[0m tup \u001b[38;5;241m=\u001b[39m (\u001b[38;5;241m1\u001b[39m, \u001b[38;5;241m2\u001b[39m, \u001b[38;5;124m\"\u001b[39m\u001b[38;5;124ma\u001b[39m\u001b[38;5;124m\"\u001b[39m)\n\u001b[1;32m      2\u001b[0m \u001b[38;5;28mprint\u001b[39m(tup[\u001b[38;5;241m2\u001b[39m])\n\u001b[0;32m----> 3\u001b[0m tup[\u001b[38;5;241m2\u001b[39m] \u001b[38;5;241m=\u001b[39m \u001b[38;5;124m\"\u001b[39m\u001b[38;5;124mb\u001b[39m\u001b[38;5;124m\"\u001b[39m\n",
      "\u001b[0;31mTypeError\u001b[0m: 'tuple' object does not support item assignment"
     ]
    }
   ],
   "source": [
    "tup = (1, 2, \"a\")\n",
    "print(tup[2])\n",
    "tup[2] = \"b\"\n"
   ]
  },
  {
   "cell_type": "code",
   "execution_count": 3,
   "metadata": {},
   "outputs": [
    {
     "name": "stdout",
     "output_type": "stream",
     "text": [
      "(1, 2, 3)\n",
      "('a', 'b', 'c', 'd')\n"
     ]
    }
   ],
   "source": [
    "tup = (1, 2, 3)\n",
    "print(tup)\n",
    "tup = (\"a\", \"b\", \"c\", \"d\")\n",
    "print(tup)"
   ]
  },
  {
   "cell_type": "markdown",
   "metadata": {},
   "source": [
    "## Wozu werden Tupel verwendet?\n",
    "Häufig hat man die Situation, dass ein einfacher Datentyp nicht ausreicht, um einen komplexen Sachverhalt zu beschreiben.\n",
    "- ```adresse = (PLZ, Stadt, Straße, Hausnummer)```\n",
    "- ```position = (x_koordinate, y_koordinate)```\n",
    "- ```datum = (tag, monat, jahr)```\n",
    "\n",
    "Es macht keinen Sinn, diesem Datentypen noch weitere Elemente hinzuzufügen oder einen Teil zu löschen. Wenn ich bei obiger Adresse noch eine Zeit hinzufüge, dann ist es eben keine Adresse mehr. In anderen Programmiersprachen gibt es hierfür das Konstrukt ```struct``` oder ```record```.\n",
    "Natürlich kann man umziehen und ```adresse``` einen neuen Wert zuweisen. Aber dann ist das in Python eine neue Adresse und keine geänderte Adresse."
   ]
  },
  {
   "cell_type": "markdown",
   "metadata": {},
   "source": [
    "## Interaktiv ein Tupel erzeugen\n",
    "Mit Hilfe der Funktion ```input()``` können nacheinander Werte eingelesen und zu einem Tupel zusammengesetzt werden."
   ]
  },
  {
   "cell_type": "code",
   "execution_count": 4,
   "metadata": {},
   "outputs": [
    {
     "name": "stdout",
     "output_type": "stream",
     "text": [
      "Bitte Namen eingeben: Stephan\n",
      "Bitte Vornamen eingeben: Jacobs\n",
      "Bitte Telefonnummer eingeben: 123\n",
      "Bitte Alter (Integer) eingeben: 234\n",
      "('Stephan', 'Jacobs', '123', '234')\n"
     ]
    }
   ],
   "source": [
    "name = input(\"Bitte Namen eingeben: \")\n",
    "vorname = input(\"Bitte Vornamen eingeben: \")\n",
    "telefon = input(\"Bitte Telefonnummer eingeben: \")\n",
    "alter = input(\"Bitte Alter (Integer) eingeben: \")\n",
    "mitarbeiter = (name, vorname, telefon, alter)\n",
    "\n",
    "print(mitarbeiter)"
   ]
  },
  {
   "cell_type": "markdown",
   "metadata": {},
   "source": [
    "## Schreibweisen mit Tupeln\n",
    "Es wurden einige verkürzende Schreibweisen entwickelt, die beim ersten Mal irritierend aussehen (ähnlich wie bei ```a += 1```)\n",
    "\n",
    "```student = \"Peter\", \"Meier\", 12345```\n",
    "\n",
    "ist das gleiche wie\n",
    "\n",
    "```student = (\"Peter\", \"Meier\", 12345)```\n",
    "\n",
    "Der Variablen ```student``` werden **nicht** drei Werte zugewiesen. Vielmehr wird aus den drei Werten **ein** Tupel erstellt, dieses wird der Variablen ```student``` zugewiesen.\n",
    "\n",
    "Umgekehrt können die verschiedenen Werte eines Tupels direkt mehreren Variablen zugewiesen werden:\n",
    "\n",
    "```name, vorname, matrikelnummer = student```\n",
    "\n",
    "wirkt sonderbar, zumal bisher betont wurde, dass auf der linken Seite einer Zuweisung nur **eine** Variable stehen darf. Tatsächlich ist das ebenfalls eine verkürzte Schreibweise bei der die einzelnen Werte des Tupels sukzessive den Variablen auf der linken Seite zugewiesen werden. Stimmt die Anzahl der Variablen **nicht** mit der Anzahl der Elemente des Tupels überein, gibt es eine Fehlermeldung."
   ]
  },
  {
   "cell_type": "code",
   "execution_count": 8,
   "metadata": {},
   "outputs": [
    {
     "name": "stdout",
     "output_type": "stream",
     "text": [
      "('Peter', 'Meier', 12345)\n",
      "Peter\n"
     ]
    }
   ],
   "source": [
    "student = \"Peter\", \"Meier\", 12345\n",
    "print(student)\n",
    "vorname, name, matrikelnummer = student\n",
    "print(vorname)"
   ]
  },
  {
   "cell_type": "markdown",
   "metadata": {},
   "source": [
    "## Tupel haben einen Index\n",
    "Genau wie Listen haben Tupel einen Index. Der wird genau wie bei Listen mit **eckigen** Klammern dargestellt. Und wie üblich in der Programmierung, beginnt der Index bei 0. Es können die selben negativen Indizes verwendet werden wie bei Listen.\n",
    "**Wichtig:** Auch wenn mit eckigen Klammern die einzelnen Elemente eines Tupels angesprochen werden, ist es immmer noch ein Tupel und keine Liste."
   ]
  },
  {
   "cell_type": "code",
   "execution_count": 9,
   "metadata": {},
   "outputs": [
    {
     "name": "stdout",
     "output_type": "stream",
     "text": [
      "52066\n",
      "Meier\n",
      "(52066, 'Aachen', 'Eupener Str. 70', '0241-6009-12345')\n",
      "Eupener Str. 70\n",
      "(52066, 'Aachen', 'Eupener Str. 70', '0241-6009-12345')\n",
      "Aachen\n",
      "(52066, 'Aachen')\n"
     ]
    }
   ],
   "source": [
    "adresse = (52066, \"Aachen\", \"Eupener Str. 70\", \"0241-6009-12345\")\n",
    "student = (\"Peter\", \"Meier\", 123456, \"BWL\", \"pm12345s@university.edu\", adresse)\n",
    "print(adresse[0])\n",
    "print(student[1])\n",
    "print(student[5])\n",
    "print(student[5][2])\n",
    "print(student[-1])\n",
    "print(adresse[-3])\n",
    "print(adresse[:2])"
   ]
  },
  {
   "cell_type": "markdown",
   "metadata": {},
   "source": [
    "## Nochmal: Tupel sind unveränderlich\n",
    "Wenn Sie über mit Hilfe des Index ein einzelnes Element eines Tupels verändern wollen, gibt es eine Fehlermeldung."
   ]
  },
  {
   "cell_type": "code",
   "execution_count": 12,
   "metadata": {},
   "outputs": [
    {
     "name": "stdout",
     "output_type": "stream",
     "text": [
      "(52066, 'Aachen', 'Goetherstr 1', '0241-6009-12345')\n"
     ]
    }
   ],
   "source": [
    "adresse = (52066, \"Aachen\", \"Eupener Str. 70\", \"0241-6009-12345\")\n",
    "#adresse[2] = \"Goethestraße 1\"\n",
    "PLZ, city, street, tel = adresse\n",
    "street = \"Goetherstr 1\"\n",
    "adresse = PLZ, city, street, tel\n",
    "print(adresse)"
   ]
  },
  {
   "cell_type": "markdown",
   "metadata": {},
   "source": [
    "## Teilbereichsoperatoren und weitere Methoden\n",
    "Die schon von den Listen bekannten Teilbereichsoperatoren funktionieren auch bei Tupeln. Ebenso gibt es einige Methoden, die man auf Tupel anwenden kann.\n",
    "### Teilbereichsoperator\n",
    "Genau wie bei Listen kann mit Hilfe von Indizes nicht nur auf ein einzelnes Element des Tupels sondern auf einen ganzen Bereich zugegriffen werden. Beispiel:\n",
    "- ```adresse[1:3]``` entspricht (\"Aachen, \"Eupener Str. 70\"). Der erste Index gehört noch zum Teilbereich, der zweite Index gerade nicht mehr.\n",
    "- ```adresse[:2]``` entspricht (52066, \"Aachen\")\n",
    "- ```adresse[3:]``` entspricht (\"Eupener Str. 70\", \"0241-6009-12345\")\n",
    "- ```adresse[:]``` entspricht dem gesamten Tupel\n",
    "\n",
    "### Funktionen und Methoden für Tupel\n",
    "Die Funktion ```len()``` funktioniert genauso wie für Listen. Sie gibt die Anzahl der Elemente eines Tupels zurück. Die Methode ```.count(value)``` gibt die Anzahl von Elementen mit dem Wert *value* zurück. Die Methode ```.index(value)``` gibt den Index des ersten Elements zurück, das den Wert *value* hat. Falls *value* im Tupel nicht existiert, gibt es eine Fehlermeldung.\n",
    "\n"
   ]
  },
  {
   "cell_type": "code",
   "execution_count": 13,
   "metadata": {},
   "outputs": [
    {
     "name": "stdout",
     "output_type": "stream",
     "text": [
      "('drei', 'four')\n",
      "6\n",
      "1\n",
      "4\n"
     ]
    }
   ],
   "source": [
    "zahlen = (1, 2, \"drei\", \"four\", \"V\", 6)\n",
    "print(zahlen[2:4])\n",
    "print(len(zahlen))\n",
    "print(zahlen.count(1))\n",
    "print(zahlen.index(\"V\"))"
   ]
  },
  {
   "cell_type": "markdown",
   "metadata": {},
   "source": [
    "## Mit Hilfe einer for-Schleife über ein Tupel iterieren\n",
    "Um alle Elemente eines Tupels auszugeben, kann man mit Hilfe einer for-Schleife auch über ein Tupel iterieren. Genau wie bei einer Liste."
   ]
  },
  {
   "cell_type": "code",
   "execution_count": 14,
   "metadata": {},
   "outputs": [
    {
     "name": "stdout",
     "output_type": "stream",
     "text": [
      "1\n",
      "2\n",
      "drei\n",
      "four\n",
      "V\n",
      "6\n"
     ]
    }
   ],
   "source": [
    "zahlen = (1, 2, \"drei\", \"four\", \"V\", 6)\n",
    "for element in zahlen:\n",
    "    print(element)"
   ]
  },
  {
   "cell_type": "markdown",
   "metadata": {},
   "source": [
    "## Ein Tupel, viele Tupel, Listen von Tupeln\n",
    "Angenommen, es soll nicht nur ein Student bearbeitet werden, sondern viele Studenten. Jeder Student wird durch ein Tupel dargestellt. Wie geht man jetzt mit vielen Studenten um? Man kombiniert die Eigenschaften von Listen und Tupeln! Jeder einzelne Student ist ein Tupel, die einzelnen Studenten (also die einzelnen Tupel) werden nacheinander in eine Liste gefügt."
   ]
  },
  {
   "cell_type": "code",
   "execution_count": null,
   "metadata": {},
   "outputs": [],
   "source": [
    "student1 = (\"Peter\", \"Meier\", 123456, \"BWL\", \"pm12345s@university.edu\")\n",
    "student2 = (\"Maria\", \"Schulze\", 234566, \"Mathematik\", \"ms23456@hs-hier.de\")\n",
    "list_of_students = [student1, student2]\n",
    "print(list_of_students)"
   ]
  },
  {
   "cell_type": "markdown",
   "metadata": {},
   "source": [
    "## Listen von Tupeln - ein häufig verwendetes Muster\n",
    "Die Kombination von Listen und Tupeln wird häufig in der Informatik verwendet. Dabei werden die beiden Konstrukte wie folgt verwendet:\n",
    "- Tupel: Mit Hilfe eines Tupels werden gleichartige Objekte beschrieben. Die Objekte bestehen immer aus den gleichen Attributen, die aber unterschiedliche Werte haben können. Beispiel: Studierende haben (in obigem Beispiel) immer einen Namen, einen Vornamen, eine Matrikelnummer, eine Studienfach und eine E-Mail. Natürlich sind die Namen und Matrikelnummern unterschiedlich. Aber die Struktur eines Studierenden (in diesem Programm) ist immer identisch.\n",
    "- Listen: Mit Hilfe von Listen werden immer gleichartige Elemente zusammengefasst. Es wird bewusst auf die Möglichkeit verzichtet, eine Liste von unterschiedlichen Datentypen zu erstellen. Stattdessen enthält eine Liste z.B. nur Studenten, die (s.o.) immer gleich strukturiert sind.\n",
    "\n",
    "Dieses Muster wird z.B. bei der Bearbeitung von (relationalen) Datenbanken verwendet. Jeder Datensatz hat die gleiche Struktur, eine Relation besteht aus gleich-strukturierten Datensätzen. Wie viele Datensätze es in einer Relation gibt, ist unbekannt. Jeder einzelne Datensatz kann in ein immer wieder gleich strukturiertes Tupel umgewandelt werden. Die einzelnen Tupel können in einer Liste gehängt werden. Da die Liste veränderbar ist, können einzelne Tupel gelöscht, die Reihenfolge geändert oder weitere Tupel hinzugefügt werden."
   ]
  },
  {
   "cell_type": "markdown",
   "metadata": {},
   "source": [
    "## Arbeiten mit Listen von Tupeln\n",
    "Da obige Struktur - Listen von (gleichartigen) Tupeln - häufig verwendet wird, gibt es entsprechende Programmiermuster, die immer wieder auftauchen.\n",
    "### Eine Liste aus Tupeln mit Hilfe einer Schleife erzeugen\n",
    "Zuerst wird eine leere Liste erzeugt, in der dann nach und nach die Tupel angehängt (```list.append()```) werden. Idealerweise hat die Liste einen \"sprechenden\" Namen, so dass man weiß, um was es sich handelt.\n",
    "```list_of_students = []```\n",
    "Mit Hilfe einer Schleife iteriert man eine bestimmte (oder vorher unbestimmte) Anzahl von Wiederholungen. Innerhalb dieser Wiederholung - also innerhalb des Schleifenkörpers - wird ein Tupel erstellt und schließlich an die Liste angehängt.\n",
    "\n",
    "```Python\n",
    "for i in range(10):\n",
    "   name = input(\"Bitte Namen eingeben: \")\n",
    "   ...\n",
    "   matrikelnummer = input(\"Bitte Matrikelnummer eingeben: \")\n",
    "   student = (name, ..., matrikelnummer)\n",
    "   list_of_students.append(student)```"
   ]
  },
  {
   "cell_type": "code",
   "execution_count": 15,
   "metadata": {},
   "outputs": [
    {
     "name": "stdout",
     "output_type": "stream",
     "text": [
      "Bitte Namen eingeben: qww\n",
      "Bitte Vornamen eingeben: qwe\n",
      "Bitte Studienfach eingeben: yy\n",
      "Bitte Matrikelnummer (Integer) eingeben: 123\n",
      "Bitte Namen eingeben: ert\n",
      "Bitte Vornamen eingeben: ert\n",
      "Bitte Studienfach eingeben: ddd\n",
      "Bitte Matrikelnummer (Integer) eingeben: 345\n",
      "Bitte Namen eingeben: tzu\n",
      "Bitte Vornamen eingeben: tzu\n",
      "Bitte Studienfach eingeben: t\n",
      "Bitte Matrikelnummer (Integer) eingeben: 678\n",
      "Bitte Namen eingeben: ui\n",
      "Bitte Vornamen eingeben: uio\n",
      "Bitte Studienfach eingeben: u\n",
      "Bitte Matrikelnummer (Integer) eingeben: 890\n",
      "Bitte Namen eingeben: dfg\n",
      "Bitte Vornamen eingeben: dfg\n",
      "Bitte Studienfach eingeben: d\n",
      "Bitte Matrikelnummer (Integer) eingeben: 111\n",
      "[('qww', 'qwe', 'yy', 123), ('ert', 'ert', 'ddd', 345), ('tzu', 'tzu', 't', 678), ('ui', 'uio', 'u', 890), ('dfg', 'dfg', 'd', 111)]\n"
     ]
    }
   ],
   "source": [
    "# Leere Liste erzeugen\n",
    "list_of_students = []\n",
    "\n",
    "# Schleife, in der Tupel erzeugt werden\n",
    "for i in range(5):\n",
    "    name = input(\"Bitte Namen eingeben: \")\n",
    "    vorname = input(\"Bitte Vornamen eingeben: \")\n",
    "    fach = input(\"Bitte Studienfach eingeben: \")\n",
    "    matrikelnummer = int(input(\"Bitte Matrikelnummer (Integer) eingeben: \"))\n",
    "# Aus den einzelnen Elementen ein Tupel erzeugen\n",
    "    student = (name, vorname, fach, matrikelnummer)\n",
    "# Tupel an die Liste anhängen\n",
    "    list_of_students.append(student)\n",
    "\n",
    "print(list_of_students)"
   ]
  },
  {
   "cell_type": "code",
   "execution_count": 19,
   "metadata": {},
   "outputs": [
    {
     "name": "stdout",
     "output_type": "stream",
     "text": [
      "('ert', 'ert', 'ddd', 345)\n"
     ]
    }
   ],
   "source": [
    "print(list_of_students[1])"
   ]
  },
  {
   "cell_type": "markdown",
   "metadata": {},
   "source": [
    "### Liste von Tupeln bearbeiten\n",
    "Falls eine Liste von Tupeln bereits vorhanden ist, dann kann über diese Liste mit einer Schleife iteriert werden. Da man als Entwickler weiß, wie die einzelnen Elemente strukturiert sind, kann man dieses Wissen ausnutzen. Im folgenden Beispiel wird diese Tatsache im Schleifenkörper ausgenutzt. Wenn jedes Element der Liste einen anderen Typ hätte, würde das Programm abstürzen."
   ]
  },
  {
   "cell_type": "code",
   "execution_count": 20,
   "metadata": {},
   "outputs": [
    {
     "name": "stdout",
     "output_type": "stream",
     "text": [
      "Der Studierende qwe qww mit der Nummer 123 studiert yy .\n",
      "Der Studierende ert ert mit der Nummer 345 studiert ddd .\n",
      "Der Studierende tzu tzu mit der Nummer 678 studiert t .\n",
      "Der Studierende uio ui mit der Nummer 890 studiert u .\n",
      "Der Studierende dfg dfg mit der Nummer 111 studiert d .\n"
     ]
    }
   ],
   "source": [
    "# Es wird auf obige Liste von Studierenden zugegriffen\n",
    "for student in list_of_students:\n",
    "    name, vorname, fach, matrikelnummer = student\n",
    "    print(\"Der Studierende\", vorname, name, \"mit der Nummer\", matrikelnummer, \"studiert\", fach, \".\")"
   ]
  },
  {
   "cell_type": "markdown",
   "metadata": {},
   "source": [
    "## Konvertierung von Tupeln\n",
    "Es gibt Funktionen, wie ```int()```, um den Datentyp z.B. eines Strings in eine Integer umzuwandeln. Eine ähnliche Konvertierung funktioniert auch zwischen Listen und Tupeln. ```list()``` verwandelt den Input in eine Liste, ```tuple()``` hat als Rückgabewert ein Tupel."
   ]
  },
  {
   "cell_type": "code",
   "execution_count": 24,
   "metadata": {},
   "outputs": [
    {
     "name": "stdout",
     "output_type": "stream",
     "text": [
      "(1, 2, 'a', 2.3)\n",
      "[1, 2, 'a', 2.3]\n",
      "(23223, 2, 'a', 2.3)\n"
     ]
    }
   ],
   "source": [
    "l = [1,2,\"a\",2.3]\n",
    "t = tuple(l)\n",
    "print(t)\n",
    "l = list(t)\n",
    "print(l)"
   ]
  },
  {
   "cell_type": "markdown",
   "metadata": {},
   "source": [
    "## Veränderung von Tupeln\n",
    "Obwohl Tupel unveränderlich sind, kann man mit Hilfe obiger Funktionen Tupel verändern. Genauer: Ein Tupel wird in eine Liste verwandelt, die Liste wird verändert (beispielsweise wird ein Wert hinzugefügt), die Liste wird zurück in ein Tupel verändert und der alten Variablen zugewiesen. Genaugenommen wurde das Tupel natürlich nicht verändert. Der Variablen wurde ein neues Tupel zugewiesen."
   ]
  },
  {
   "cell_type": "code",
   "execution_count": null,
   "metadata": {},
   "outputs": [],
   "source": [
    "student = (\"Peter\", \"Müller\", 123456, \"BWL\")\n",
    "# Student wechselt von BWL in die Informatik\n",
    "student = list(student)\n",
    "student[3] = \"Informatik\"\n",
    "student = tuple(student)\n",
    "print(student)"
   ]
  },
  {
   "cell_type": "markdown",
   "metadata": {},
   "source": [
    "## Aufgaben\n",
    "### Aufgabe 1: Tupel erstellen\n",
    "Erstellen Sie ein Tupel zu einem Modul Ihres Studiums. Das Modul besteht aus der Modulnummer, Modulname, Dozent und Semester. Lesen Sie über `input()` die Werte ein, fügen Sie die Werte zu einem Tupel zusammen und geben Sie diese über `print()` aus."
   ]
  },
  {
   "cell_type": "code",
   "execution_count": null,
   "metadata": {},
   "outputs": [],
   "source": []
  },
  {
   "cell_type": "markdown",
   "metadata": {},
   "source": [
    "### Aufgabe 2: Tupel verändern\n",
    "Ntürlich geht das nicht. Tupel sind unveränderlich. Aber wie oben gesehen, kann man an der Stelle \"tricksen\". Erstellen Sie ein Tupel zu einem Dozenten \"Müller\". Der Dozent heiratet und ändert den Namen von \"Müller\" nach \"Meier\". Passen Sie das Tupel entsprechend an und geben Sie es über `print()` aus."
   ]
  },
  {
   "cell_type": "code",
   "execution_count": null,
   "metadata": {},
   "outputs": [],
   "source": []
  },
  {
   "cell_type": "markdown",
   "metadata": {},
   "source": [
    "### Aufgabe 3: Tupel aus einer Datei auslesen\n",
    "In der Datei \"Module.txt\" (im gleichen Ordner wie dieses Notebook) sind mehrere Module zusammengefasst. Jedes Modul steht in einer Zeile, die Zeilen sind wie folgt aufgebaut: Modulnummer; Modulname; Dozent; Semester.\n",
    "Zwischen den einzelnen Werten steht jeweils ein Semikolon als Separator.\n",
    "\n",
    "Lesen Sie die Datei aus und erstellen Sie eine Liste aus Tupeln, in denen jeweils ein Modul steht. Geben Sie die Liste mit Hilfe von `print()` aus.\n",
    "\n",
    "Hinweis: Verwenden Sie die folgenden `string`-Methoden:\n",
    "- `split()`, mit Hilfe dieser Methode wird ein String aufgesplittet. Als Argument wird das Zeichen übergeben, das die zu trennenden Teile separiert. In unserem Beispiel das Semikolon. Der Rückgabewert ist eine Liste von Strings. (Falls kein Separator als Argument übergeben wird, ist das Leerzeichen der Separator.)\n",
    "- `strip()`: Entfernt führende und schließende Leerzeichen, Zeilenumbrüche, TABs, ...\n"
   ]
  },
  {
   "cell_type": "code",
   "execution_count": null,
   "metadata": {},
   "outputs": [],
   "source": []
  },
  {
   "cell_type": "markdown",
   "metadata": {},
   "source": [
    "### Aufgabe 4: Liste von Modulen  ergänzen\n",
    "Nachdem die Liste ausgelesen ist, soll die Liste ergänzt und zurück in die Datei geschrieben werden. Erstellen Sie eine Schleife, in der weitere Module erzeugt und zur Modul-Liste hinzugefügt werden. Wenn eine leere Eingabe gemacht wird, bricht die Schleife ab. Die Liste wird zurück in die Datei geschrieben."
   ]
  },
  {
   "cell_type": "code",
   "execution_count": null,
   "metadata": {},
   "outputs": [],
   "source": [
    "modulnr = input(\"Modulnummer: \")\n",
    "modulnm = input(\"Modulname: \")\n",
    "modulve = input(\"Verantwortlcih: \")\n",
    "modulse = input(\"Semester: \")\n",
    "\n",
    "modul = (modulnr, modulnm, modulve, modulse)\n",
    "\n",
    "module.append(modul)\n",
    "\n",
    "print(module)"
   ]
  },
  {
   "cell_type": "code",
   "execution_count": null,
   "metadata": {},
   "outputs": [],
   "source": []
  }
 ],
 "metadata": {
  "kernelspec": {
   "display_name": "Python 3 (ipykernel)",
   "language": "python",
   "name": "python3"
  },
  "language_info": {
   "codemirror_mode": {
    "name": "ipython",
    "version": 3
   },
   "file_extension": ".py",
   "mimetype": "text/x-python",
   "name": "python",
   "nbconvert_exporter": "python",
   "pygments_lexer": "ipython3",
   "version": "3.10.2"
  }
 },
 "nbformat": 4,
 "nbformat_minor": 2
}
