{
 "cells": [
  {
   "cell_type": "markdown",
   "metadata": {},
   "source": [
    "# Einführung in Jupyter Notebooks\n",
    "Wir werden für die Einführung in die Python-Programmierung Juypter Notebooks verwenden. Das Juypter Projekt (https://jupyter.org/) entwickelt eine Open Source Software mit der spezielle Dokumente, die so genannten Jupyter Notebooks, erstellt werden können. Diese Dokuemnte können\n",
    "* Programm-Code\n",
    "* formatierten Text\n",
    "* Gleichungen \n",
    "* Visualisierungen\n",
    "\n",
    " \n",
    "\n",
    "enthalten. Sie eignen sich deshalb sehr gut, um eine Programmiersprache, wie z.B. Python, zu erlernen. In der Praxis werden Jupyter Notebooks für Anwendungen im Bereich Datenbereinigung und -transformation, numerische Simulation, statistische Modellierung, Datenvisualisierung und maschinelles Lernen eingesetzt. Diese Praxisrelevanz erkennen Sie auch daran, dass praktisch alle Cloud-Anbieter Möglichkeiten zum Hosting von Jupyter Notebooks bieten (Microsoft: (https://notebooks.azure.com/), Google: (https://cloud.google.com/datalab/)).\n",
    "\n",
    "Im Rahmen dieser Veranstaltung werden wir Ihnen Juypter Notebooks zur Verfügung stellen. Diese Notebooks enthalten sowohl die theoretischen **Inhalte der Vorlesung** als auch **Übungsaufgaben**."
   ]
  },
  {
   "cell_type": "markdown",
   "metadata": {},
   "source": [
    "## Der Aufbau von Jupyter Notebooks\n",
    "In der Kopfzeile des Jupyter Notebooks finden Sie eine Menüleiste. Diese enthält eine Reihe typischer Menüs (z.B. Datei, Bearbeiten, Anzeigen oder Einfügen). Unterhalb der Menüleiste befindet sich eine Symbolleisten. Folgende Tabelle gibt Ihnen eine Übersicht über die wichtigsten Funktionen der Symbolleiste. \n",
    "\n",
    "| Icon                                     | Funktion         |\n",
    "|------------------------------------------|------------------|\n",
    "|![save_icon.png](./img/save_icon.png)|Notebook speichern|\n",
    "|![plus_icon.png](./img/plus_icon.png)|Neue Zelle einfügen|\n",
    "|![edit_icon.png](./img/edit_icon.png)|Ausschneiden, kopieren, einfügen|\n",
    "|![run_icon.png](./img/run_icon.png)|Zelle ausführen|\n",
    "|![cell_type_icon.png](./img/cell_type_icon.png)|Zellentyp ändern|\n",
    "\n",
    "Wie Sie an der Bescheibung der wichtigsten Funktionen schon erkennen konnten, sind Zellen ein grundlegender Bestandteil von Jupyter Notebooks. Jedes Jupyter Notebook ist aus Zellen aufgebaut. Diese Zellen können entweder **Programm-Code** oder **formatierten Text** enthalten.  \n",
    "\n",
    "### Command-Mode und Edit-Mode\n",
    "Für die Zellen gibt es zwei verschiedene Modes: Command-Mode und Edit-Mode. Im Command-Mode werden die Markdown-Zellen (Text-Zellen) formatiert dargestellt, im Edit-Mode können Sie die Zellen verändern. Eine Code-Zelle kann ebenfalls im Edit-Mode verändert werden, d.h. Sie programmieren. Im Command-Mode wird das Programm dann ausgeführt.\n",
    "Doppelklicken Sie auf eine Zelle, dann geht diese in den Edit-Mode. (Bei den Markdown-Zellen verschwindet die Formatierung, stattdessen sind die \"Markdown-Befehle\" sichtbar (s.u.). Bei einer Code-Zelle im Edit-Mode erscheint einfach der Cursor.\n",
    "\n",
    "Wenn Sie eine Zelle in einem Jupyter Notizbuch bearbeitet haben und in den Command-Mode zurück wollen, müssen Sie die Zelle ausführen. Eine Zelle wird entweder durch Drücken des entsprechenden Knopfes in der Symbolleiste oder durch Drücken der Tastenkombination `<Umschalt> + <Eingabetaste>` ausgeführt. Nachdem Sie eine Zelle ausgeführt haben, stehen die von Ihnen vorgenommene Änderungen anderen Zellen zur Verfügung. Dies ist insbesondere dann wichtig, wenn eine Zelle Programm-Code enthält, auf dem nachfolgende Zellen aufbauen. Innerhalb von Zellen können Sie die `<Eingabetaste>` verwenden, um neue Zeilen in einer Zelle zu erstellen. Weiterhin können Sie in Jupyter Notebooks auch eine Reihe von Tastaturkürzeln verwenden. Diese können über den Menüpunkt **Hilfe -> Tastaturkürzel** eingesehen werden."
   ]
  },
  {
   "cell_type": "markdown",
   "metadata": {},
   "source": [
    "## Text-Zellen\n",
    "Innerhalb von Text-Zellen wird das Markdown-Format verwendet, um Text zu formatieren. Die wichtigsten Markdown-Elemente sind im folgenden kurz dargestellt.\n",
    "### Überschriften \n",
    "Überschriften werden in Markdown durch Verwendung des `#`-Zeichens, gefolgt von einem Leerzeichen dargestellt. \n",
    "Beispiel:\n",
    "```\n",
    "# Überschrift Ebene 1\n",
    "## Überschrift Ebene 2\n",
    "### Überschrift Ebene 3\n",
    "#### Überschrift Ebene 4\n",
    "```\n",
    "\n",
    "Darstellung im Juypter Notebook:\n",
    "> # Überschrift Ebene 1\n",
    "> ## Überschrift Ebene 2\n",
    "> ### Überschrift Ebene 3\n",
    "> #### Überschrift Ebene 4\n",
    "\n",
    "### Formatierung von Zeichen\n",
    "Sie können in Markdown diese Syntax verwerden `*kursiv*` um einen Text *kursiv* beziehungsweise `**fett**` um einen Text **fett** darzustellen. Einen Zeileumbruch können Sie mit den Zeichen `<br>` erstellen. Einen Abschnitt erstellen Sie, indem sie eine Leerzeile einfügen. Außerdem können sie mit den Zeichen `***` eine horizontale Linie einfügen. \n",
    "### Mathematische Formeln\n",
    "Um mathematische Formeln und Symbole einzufügen, verwenden Sie das `$`-Zeichen. \n",
    "Beipspiel:\n",
    "```\n",
    "$\\frac{n!}{k!(n-k)!} = \\binom{n}{k}$\n",
    "$\\sum_{i=1}^{10} t_i$\n",
    "```\n",
    "Darstellung im Juypter Notebook:\n",
    "> $\\frac{n!}{k!(n-k)!} = \\binom{n}{k}$\n",
    "\n",
    "> $\\sum_{i=1}^{10} t_i$\n",
    "\n",
    "### Aufzählungen und nummerierte Listen\n",
    "Zur Erstellung eines Aufzählungszeichens verwenden Sie das `*`-Zeichen gefolgt von einem Leerzeichen. Zur Erstellung von Unterpunkten verwenden Sie einen Tabulator gefolgt von einem `*`-Zeichen und einem Leerzeichen. \n",
    "\n",
    "Beispiel:\n",
    "```\n",
    "* Punkt 1\n",
    "* Punkt 2\n",
    "    * Unterpunkt 1\n",
    "    * Unterpunkt 2\n",
    "        * Weiterer Unterpunkt\n",
    "```\n",
    "\n",
    "Darstellung im Juypter Notebook:\n",
    "> * Punkt 1\n",
    "> * Punkt 2\n",
    ">     * Unterpunkt 1\n",
    ">     * Unterpunkt 2\n",
    ">         * Weiterer Unterpunkt\n",
    "\n",
    "Nummerierte Listen: erstellen Sie mit den Zeichen `1.`, gefolgt von einem Leerzeichen. Auch hier können Sie ein Tab verwenden um eine Unternummerierung zu erhalten.\n",
    "\n",
    "Beispiel:\n",
    "```\n",
    "1. Punkt 1\n",
    "1. Punkt 2\n",
    "    1. Unterpunkt 1\n",
    "    1. Unterpunkt 2\n",
    "        1. Weiterer Unterpunkt\n",
    "```\n",
    "\n",
    "Darstellung im Juypter Noptebook:\n",
    "> 1. Punkt 1\n",
    "> 1. Punkt 2\n",
    ">     1. Unterpunkt 1\n",
    ">     1. Unterpunkt 2\n",
    ">         1. Weiterer Unterpunkt\n",
    "\n",
    "\n",
    "### Grafiken\n",
    "Sie können Bilddateien direkt mit einem Jupyter Notebook verknüpfen. Ziehen Sie hierzu Ihre Bilder per Drag & Drop in die Mardown-Zelle, um sie an das Notizbuch anzuhängen. \n",
    "\n",
    "### Links\n",
    "Verwenden Sie folgenden Syntaxcode, um einen Link in das Jupyter Notebook einzufügen: `http://url` oder `[Linktext](http://url)`.\n",
    "\n",
    "Beispiel:\n",
    "```\n",
    "http://www.google.com\n",
    "[FH Aachen](www.fh-aachen.de)\n",
    "```\n",
    "\n",
    "Darstellung im Juypter Noptebook:\n",
    "\n",
    "http://www.google.com<br>\n",
    "[FH Aachen](https://www.fh-aachen.de)\n",
    "\n",
    "### Programm-Code\n",
    "Programm-Code können Sie in einer Text-Zelle durch Verwendung folgender Syntax einfügen:\n",
    "![code_snippet.png](./img/code_snippet.png)\n",
    "\n",
    "Darstellung im Juypter Noptebook:\n",
    "```python\n",
    "for _ in range(10):\n",
    "    print(\"Hello World\")\n",
    "```"
   ]
  },
  {
   "cell_type": "markdown",
   "metadata": {},
   "source": [
    "## Code-Zellen \n",
    "Neben Text-Zellen kann ein Jupyter Notebook auch Code-Zellen enthalten. In diesen Code-Zellen kann z.B. Python-Code geschrieben und ausgeführt werden. Wenn Sie in einer Code-Zelle die `<Umschalt>-<Eingabetaste>` drücken, wird der Python-Code in der Zelle ausgeführt.\n",
    "\n",
    "Testen Sie die Ausführung von Python Code in nachfolgender Zelle.\n"
   ]
  },
  {
   "cell_type": "code",
   "execution_count": null,
   "metadata": {},
   "outputs": [],
   "source": [
    "for _ in range(5):\n",
    "    print(\"Hello World\")"
   ]
  },
  {
   "cell_type": "markdown",
   "metadata": {},
   "source": [
    "Dadurch wird die Zelle ausgeführt und der Cursor in die nächste Zelle gesetzt. Falls keine nächste Zelle existert, \n",
    "wird eine neue Zelle erstellt, wenn Sie am Ende sind. Alternativ können Sie \n",
    "`<Control>-<Enter>`verwenden, um die aktuelle Zelle auszuführen und den Cursor in dieser Zelle zu behalten. \n",
    "\n",
    "Über den Befehl `%quickref` können Sie sich eine Liste von Hilfreichen Befehlen für Code Zellen ansehen. Testen Sie diese Funktion in der nächsten Zelle. "
   ]
  },
  {
   "cell_type": "code",
   "execution_count": null,
   "metadata": {},
   "outputs": [],
   "source": [
    "%quickref"
   ]
  },
  {
   "cell_type": "code",
   "execution_count": null,
   "metadata": {},
   "outputs": [],
   "source": [
    "x = input(\"Bitte einen Namen eingeben:\")\n",
    "print(\"Hallo\", x, \"wie geht's?\")"
   ]
  },
  {
   "cell_type": "code",
   "execution_count": null,
   "metadata": {},
   "outputs": [],
   "source": []
  }
 ],
 "metadata": {
  "kernelspec": {
   "display_name": "Python 3 (ipykernel)",
   "language": "python",
   "name": "python3"
  },
  "language_info": {
   "codemirror_mode": {
    "name": "ipython",
    "version": 3
   },
   "file_extension": ".py",
   "mimetype": "text/x-python",
   "name": "python",
   "nbconvert_exporter": "python",
   "pygments_lexer": "ipython3",
   "version": "3.10.2"
  }
 },
 "nbformat": 4,
 "nbformat_minor": 2
}
