{
 "cells": [
  {
   "cell_type": "markdown",
   "metadata": {},
   "source": [
    "# Listen\n",
    "Einfache Datentypen - Integer, Float, String, Boolean - reichen bei komplexeren Programmen nicht aus. Sie sollen beispielsweise eine beliebige (vorher nicht bekannte) Anzahl an Zahlen einlesen und anschließend in umgekehrter Reihenfolge ausgeben. Da sie nicht wissen, wieviele Zahlen es sind, können Sie nicht entsprechend viele Variablen var1, var2, var3 ... definieren. Sie benötigen eine Datenstruktur, die die Größe von alleine der Situation anpasst. Eine solche Datenstruktur ist eine Liste.\n",
    "## Voraussetzungen\n",
    "Diese Einheit setzt voraus, dass Sie folgende Inhalte kennen: [Variablen](../20_variables_and_datatypes/10_variables.ipynb), [Ein- und Ausgabe](../20_variables_and_datatypes/20_in_and_output.ipynb), [primitive Datentypen](../20_variables_and_datatypes/30_datatypes.ipynb) und [bedingte Anweisungen](../30_conditionals/30_conditionals.ipynb).\n",
    "## Definition von Listen\n",
    "Eine Liste ist ein komplexer Datentyp, der aus mehreren Elementen besteht. Eine Liste wird durch eckige Klammern [ ] dargestellt. Die einzelnen Elemente der Liste werden durch Kommas voneinander getrennt. Genau wie einfache Datentypen können Listen Variablen zugewiesen werden."
   ]
  },
  {
   "cell_type": "code",
   "execution_count": 1,
   "metadata": {},
   "outputs": [
    {
     "name": "stdout",
     "output_type": "stream",
     "text": [
      "[1, 3, 5, -23, 'a', 'abc', True, 3.234, []]\n"
     ]
    }
   ],
   "source": [
    "list1 = [1, 3, 5, -23, \"a\", \"abc\", True, 3.234, []]\n",
    "print(list1)"
   ]
  },
  {
   "cell_type": "markdown",
   "metadata": {},
   "source": [
    "## Eigenschaften von Listen\n",
    "Listen haben unter anderem folgende Eigenschaften:\n",
    "- Die Elemente eine Liste können verschieden Datentypen besitzen. Es ist also möglich, dass eine Liste gleichzeitig Elemente von den z.B. Datentyp `Integer`, `String` und `Boolean` enthält. \n",
    "- Die Elemente in einer Liste haben eine Reihenfolge (im Gegensatz z.B. zu Mengen, einem weiteren komplexen Datentyp). \n",
    "- Da es eine Reihenfolge gibt, kann man mit Hilfe eines Indexes auf die einzelnen Elemente einer Liste zugreifen. Die Elemente werden dabei von 0 an durchgezählt. Der Index wird in eckigen Klammmern an die Listen-Variable gehängt."
   ]
  },
  {
   "cell_type": "code",
   "execution_count": 5,
   "metadata": {},
   "outputs": [
    {
     "name": "stdout",
     "output_type": "stream",
     "text": [
      "[]\n"
     ]
    }
   ],
   "source": [
    "print(list1[8])"
   ]
  },
  {
   "cell_type": "markdown",
   "metadata": {},
   "source": [
    "- Listenelemente können verändert werden. Dazu wird z.B. über den Index ein neuer Wert eingelesen"
   ]
  },
  {
   "cell_type": "code",
   "execution_count": 6,
   "metadata": {},
   "outputs": [
    {
     "name": "stdout",
     "output_type": "stream",
     "text": [
      "[100, 3, 5, -23, 'a', 'abc', True, 3.234, []]\n"
     ]
    }
   ],
   "source": [
    "list1[0]=100\n",
    "print(list1)"
   ]
  },
  {
   "cell_type": "markdown",
   "metadata": {},
   "source": [
    "- wird auf einen Index außerhalb der Liste zugegriffen, gibt es eine Fehlermeldung"
   ]
  },
  {
   "cell_type": "code",
   "execution_count": 7,
   "metadata": {},
   "outputs": [
    {
     "ename": "IndexError",
     "evalue": "list assignment index out of range",
     "output_type": "error",
     "traceback": [
      "\u001b[0;31m---------------------------------------------------------------------------\u001b[0m",
      "\u001b[0;31mIndexError\u001b[0m                                Traceback (most recent call last)",
      "Cell \u001b[0;32mIn[7], line 1\u001b[0m\n\u001b[0;32m----> 1\u001b[0m \u001b[43mlist1\u001b[49m\u001b[43m[\u001b[49m\u001b[38;5;241;43m11\u001b[39;49m\u001b[43m]\u001b[49m \u001b[38;5;241m=\u001b[39m \u001b[38;5;124m\"\u001b[39m\u001b[38;5;124mabc\u001b[39m\u001b[38;5;124m\"\u001b[39m\n\u001b[1;32m      2\u001b[0m \u001b[38;5;28mprint\u001b[39m(list1)\n",
      "\u001b[0;31mIndexError\u001b[0m: list assignment index out of range"
     ]
    }
   ],
   "source": [
    "list1[11] = \"abc\"\n",
    "print(list1)"
   ]
  },
  {
   "cell_type": "markdown",
   "metadata": {},
   "source": [
    "- Listenelemente können gelöscht oder hinzugefügt werden. Hierfür gibt es unterschiedliche Funktionen und Methoden, die weiter unten erklärt werden.\n",
    "- Da Listen sehr häufig verwendet werden, gibt es eine Reihe von Methoden, die auf Listen angewendet werden können.\n",
    "- Listen können nicht nur einfache Datentypen als Element enhalten sondern auch komplexe. Insbesondere kann eine Liste eine andere enthalten."
   ]
  },
  {
   "cell_type": "code",
   "execution_count": 11,
   "metadata": {},
   "outputs": [
    {
     "name": "stdout",
     "output_type": "stream",
     "text": [
      "[1, 2, ['a', 'b', 'c'], 3, 4, [5.6, 7.8]]\n"
     ]
    }
   ],
   "source": [
    "list1 = [1, 2, [\"a\", \"b\", \"c\"], 3, 4, [5.6, 7.8]]\n",
    "print(list1)"
   ]
  },
  {
   "cell_type": "markdown",
   "metadata": {},
   "source": [
    "- Möchte man in obiger Liste z.B. auf das `\"a\"` der inneren Liste zugreifen, geht das mit Hilfe zweier Indizes. Entsprechend kann man mit Listen innerhalb von Listen innerhalb von Listen das Ganze beliebig kompliziert machen. Tatsächlich kann man sich eine zweidimensionale Matrix als Liste von Listen gleicher Länge vorstellen."
   ]
  },
  {
   "cell_type": "code",
   "execution_count": null,
   "metadata": {},
   "outputs": [],
   "source": [
    "print(list1[2][0])"
   ]
  },
  {
   "cell_type": "markdown",
   "metadata": {},
   "source": [
    "- Achtung: Sie dürfen NICHT den Variablennamen `list` verwenden, da es eine Funktion mit gleichem Namen gibt. Diese wandelt andere komplexe Datentypen (z.B. Tupel) in eine Liste."
   ]
  },
  {
   "cell_type": "markdown",
   "metadata": {},
   "source": [
    "## Listen haben einen Index. Oder auch zwei.\n",
    "Wie oben schon angedeutet haben Listen einen Index. Wie in der Informatik üblich beginnt man beim Nummerieren mit einer 0. Eine Liste, die aus 8 Elementen besteht, hat daher Indizes von 0 bis 7. \n",
    "Es gibt einen zweiten Index, der von hinten zählt. Das letzte Element hat zusätzlich den Index -1, das vorletzte den Index -2 usw. Das vereinfacht den Zugriff auf die Listen.\n",
    "<table>\n",
    "    <tr>\n",
    "        <td>Index von vorne</td><td>0</td><td>1</td><td>2</td><td>3</td>\n",
    "        <td>4</td><td>5</td>\n",
    "    </tr>\n",
    "    <tr>\n",
    "        <td>Listenelement</td><td>3</td><td>\"we\"</td><td>True</td><td>3.4</td>\n",
    "        <td>4</td><td>5</td>\n",
    "    </tr>\n",
    "    <tr>\n",
    "        <td>Index von hinten</td><td>-6</td><td>-5</td><td>-4</td><td>-3</td>\n",
    "        <td>-2</td><td>-1</td>\n",
    "    </tr>\n",
    "</table>"
   ]
  },
  {
   "cell_type": "code",
   "execution_count": 13,
   "metadata": {},
   "outputs": [
    {
     "name": "stdout",
     "output_type": "stream",
     "text": [
      "[4, 56, 'hallo', 5.67, False, 9, 8]\n",
      "8\n",
      "8\n",
      "False\n"
     ]
    }
   ],
   "source": [
    "list1 = [4, 56, \"hallo\", 5.67, False, 9, 8]\n",
    "print(list1)\n",
    "print(list1[6])\n",
    "print(list1[-1])\n",
    "print(list1[-3])"
   ]
  },
  {
   "cell_type": "markdown",
   "metadata": {},
   "source": [
    "## Einfaches Erstellen und Verändern von Listen\n",
    "- Häufig wird am Anfang eine leere Liste benötigt, die später im Programm gefüllt wird. Eine leeere Liste kann wie folgt erzeugt werden:"
   ]
  },
  {
   "cell_type": "code",
   "execution_count": 14,
   "metadata": {},
   "outputs": [
    {
     "name": "stdout",
     "output_type": "stream",
     "text": [
      "[]\n"
     ]
    }
   ],
   "source": [
    "list1 = []\n",
    "print(list1)"
   ]
  },
  {
   "cell_type": "markdown",
   "metadata": {},
   "source": [
    "- Erzeugen einer Liste mit Elementen (s.o.)\n",
    "- Ändern eines Listenelements über den Index (s.o.)\n",
    "- Listen können addiert (= hintereinander gehangen) werden.\n",
    "- Listen können mit einem Integerwert multipliziert werden."
   ]
  },
  {
   "cell_type": "code",
   "execution_count": 15,
   "metadata": {},
   "outputs": [
    {
     "name": "stdout",
     "output_type": "stream",
     "text": [
      "[1, 2, 3, 4, 5, 6]\n",
      "[1, 2, 3, 1, 2, 3, 1, 2, 3]\n"
     ]
    }
   ],
   "source": [
    "list1 = [1, 2, 3]\n",
    "list2 = [4, 5, 6]\n",
    "list3 = list1 + list2\n",
    "print(list3)\n",
    "list4 = list1 * 3\n",
    "print(list4)"
   ]
  },
  {
   "cell_type": "markdown",
   "metadata": {},
   "source": [
    "- Mit Hilfe des Schlüsselworts `in` lässt sich überprüfen, ob ein Wert innerhalb einer Liste vorhanden ist oder nicht. `value in list` hat als Rückgabewert entweder `True` oder `False`"
   ]
  },
  {
   "cell_type": "code",
   "execution_count": 16,
   "metadata": {},
   "outputs": [
    {
     "name": "stdout",
     "output_type": "stream",
     "text": [
      "True\n",
      "False\n"
     ]
    }
   ],
   "source": [
    "list1 = [1, 2, 3]\n",
    "print(1 in list1)\n",
    "print(\"abc\" in list1)"
   ]
  },
  {
   "cell_type": "markdown",
   "metadata": {},
   "source": [
    "### Aufgabe 1 - Einfache Liste erstellen\n",
    "Erstellen Sie eine Liste mit Vornamen. Geben Sie den vierten Vornamen aus. Geben Sie den Vornamen mit dem Index 4 aus."
   ]
  },
  {
   "cell_type": "code",
   "execution_count": null,
   "metadata": {},
   "outputs": [],
   "source": []
  },
  {
   "cell_type": "markdown",
   "metadata": {},
   "source": [
    "### Aufgabe 2 - Zweidimensionale Matrix erstellen\n",
    "Erstellen Sie eine zweidimensionale Matrix der Größe 3 * 3. Die Matrix soll die Werte 1 - 9 enthalten, pro Zeile drei Werte. Geben Sie die zweite Zeile aus. Geben Sie das \"untere, rechte\" Element aus. Geben Sie die linke Spalte aus."
   ]
  },
  {
   "cell_type": "code",
   "execution_count": null,
   "metadata": {},
   "outputs": [],
   "source": []
  },
  {
   "cell_type": "markdown",
   "metadata": {},
   "source": [
    "## Funktionen und Methoden für Listen\n",
    "Da Listen häufig verwendet werden, gibt es eine Reihe von Funktionen und Methoden, die auf Listen angewendet werden können.\n",
    "- Die Länge einer Liste lässt sich mit der Funktion `len()` ermitteln"
   ]
  },
  {
   "cell_type": "code",
   "execution_count": 17,
   "metadata": {},
   "outputs": [
    {
     "name": "stdout",
     "output_type": "stream",
     "text": [
      "6\n"
     ]
    }
   ],
   "source": [
    "list1 = [1, 2, 4, \"asdads\", True, 5.4]\n",
    "print(len(list1))"
   ]
  },
  {
   "cell_type": "markdown",
   "metadata": {},
   "source": [
    "- Listen, deren Werte geordnet werden können, können mit Hilfe der Funktion `sorted()` sortiert werden. Sind die Werte in einer Liste nicht sortierbar, gibt es eine Fehlermeldung."
   ]
  },
  {
   "cell_type": "code",
   "execution_count": 18,
   "metadata": {},
   "outputs": [
    {
     "name": "stdout",
     "output_type": "stream",
     "text": [
      "[-21, 3, 6, 7, 7, 12, 45]\n",
      "[' ', 'A', 'F', 'H', 'a', 'c', 'e', 'h', 'n', 'Ö']\n"
     ]
    },
    {
     "ename": "TypeError",
     "evalue": "'<' not supported between instances of 'str' and 'int'",
     "output_type": "error",
     "traceback": [
      "\u001b[0;31m---------------------------------------------------------------------------\u001b[0m",
      "\u001b[0;31mTypeError\u001b[0m                                 Traceback (most recent call last)",
      "Cell \u001b[0;32mIn[18], line 6\u001b[0m\n\u001b[1;32m      4\u001b[0m \u001b[38;5;28mprint\u001b[39m(\u001b[38;5;28msorted\u001b[39m(list1))\n\u001b[1;32m      5\u001b[0m list1 \u001b[38;5;241m=\u001b[39m [\u001b[38;5;28;01mTrue\u001b[39;00m, \u001b[38;5;241m56\u001b[39m, \u001b[38;5;124m\"\u001b[39m\u001b[38;5;124mabc\u001b[39m\u001b[38;5;124m\"\u001b[39m]\n\u001b[0;32m----> 6\u001b[0m \u001b[38;5;28mprint\u001b[39m(\u001b[38;5;28;43msorted\u001b[39;49m\u001b[43m(\u001b[49m\u001b[43mlist1\u001b[49m\u001b[43m)\u001b[49m)\n",
      "\u001b[0;31mTypeError\u001b[0m: '<' not supported between instances of 'str' and 'int'"
     ]
    }
   ],
   "source": [
    "list1 = [7, 3, 6, 7, 12, 45, -21]\n",
    "print(sorted(list1))\n",
    "list1 = (\"F\",\"H\", \" \", \"A\", \"a\", \"c\", \"h\", \"e\", \"n\", \"Ö\")\n",
    "print(sorted(list1))\n",
    "list1 = [True, 56, \"abc\"]\n",
    "print(sorted(list1))"
   ]
  },
  {
   "cell_type": "markdown",
   "metadata": {},
   "source": [
    "- Neben der Funktion `sorted()` gibt es noch die Methode `sort()`, die genauso sortiert wie die Funktion. "
   ]
  },
  {
   "cell_type": "code",
   "execution_count": 19,
   "metadata": {},
   "outputs": [
    {
     "name": "stdout",
     "output_type": "stream",
     "text": [
      "[-21, 3, 6, 7, 7, 12, 45]\n",
      "[' ', 'A', 'F', 'H', 'a', 'c', 'e', 'h', 'n']\n"
     ]
    },
    {
     "ename": "TypeError",
     "evalue": "'<' not supported between instances of 'str' and 'int'",
     "output_type": "error",
     "traceback": [
      "\u001b[0;31m---------------------------------------------------------------------------\u001b[0m",
      "\u001b[0;31mTypeError\u001b[0m                                 Traceback (most recent call last)",
      "Cell \u001b[0;32mIn[19], line 8\u001b[0m\n\u001b[1;32m      6\u001b[0m \u001b[38;5;28mprint\u001b[39m(list1)\n\u001b[1;32m      7\u001b[0m list1 \u001b[38;5;241m=\u001b[39m [\u001b[38;5;28;01mTrue\u001b[39;00m, \u001b[38;5;241m56\u001b[39m, \u001b[38;5;124m\"\u001b[39m\u001b[38;5;124mabc\u001b[39m\u001b[38;5;124m\"\u001b[39m]\n\u001b[0;32m----> 8\u001b[0m \u001b[43mlist1\u001b[49m\u001b[38;5;241;43m.\u001b[39;49m\u001b[43msort\u001b[49m\u001b[43m(\u001b[49m\u001b[43m)\u001b[49m\n\u001b[1;32m      9\u001b[0m \u001b[38;5;28mprint\u001b[39m(list1)\n",
      "\u001b[0;31mTypeError\u001b[0m: '<' not supported between instances of 'str' and 'int'"
     ]
    }
   ],
   "source": [
    "list1 = [7, 3, 6, 7, 12, 45, -21]\n",
    "list1.sort()\n",
    "print(list1)\n",
    "list1 = [\"F\",\"H\", \" \", \"A\", \"a\", \"c\", \"h\", \"e\", \"n\"]\n",
    "list1.sort()\n",
    "print(list1)\n",
    "list1 = [True, 56, \"abc\"]\n",
    "list1.sort()\n",
    "print(list1)"
   ]
  },
  {
   "cell_type": "markdown",
   "metadata": {},
   "source": [
    "- Der wesentliche Unterschied zwischen der Funktion und der Methode ist: Wird die Methode `sort()` auf `list1` angewendet, ist die Liste anschließend sortiert. Die Funktion `sorted()` hingegen lässt die eingebene Liste unverändert und gibt als Rückgabewert die sortierte Liste aus."
   ]
  },
  {
   "cell_type": "code",
   "execution_count": 20,
   "metadata": {},
   "outputs": [
    {
     "name": "stdout",
     "output_type": "stream",
     "text": [
      "[-21, 3, 6, 7, 7, 12, 45]\n",
      "[-21, 3, 6, 7, 7, 12, 45]\n",
      "[7, 3, 6, 7, 12, 45, -21]\n"
     ]
    }
   ],
   "source": [
    "list1 = [7, 3, 6, 7, 12, 45, -21]\n",
    "list1.sort()\n",
    "print(list1)\n",
    "list1 = [7, 3, 6, 7, 12, 45, -21]\n",
    "print(sorted(list1))\n",
    "print(list1)"
   ]
  },
  {
   "cell_type": "markdown",
   "metadata": {},
   "source": [
    "- mit Hilfe der Methode `append()` können Elemente an eine Liste angehängt werden. Der als Parameter übergebene Wert ist anschließend das letzte Elemente der Liste."
   ]
  },
  {
   "cell_type": "code",
   "execution_count": 21,
   "metadata": {},
   "outputs": [
    {
     "name": "stdout",
     "output_type": "stream",
     "text": [
      "[3, 4, 5, 'neues Ende']\n"
     ]
    }
   ],
   "source": [
    "list1 = [3, 4, 5]\n",
    "list1.append(\"neues Ende\")\n",
    "print(list1)"
   ]
  },
  {
   "cell_type": "markdown",
   "metadata": {},
   "source": [
    "- Während die Methode `append()` \"nur\" hinten anhängen kann, kann man mit der Methode `insert(index, value)` einen neuen Wert gezielt an eine bestimmte Position einfügen. Daher benötigt man eben auch zwei Parameter. Der Index gibt die Position an, Value ist der einzufügende Wert. Ist Index zu hoch, gibt es keine Fehlermeldung. Stattdessen wird der Wert einfach als letzte Element angehängt."
   ]
  },
  {
   "cell_type": "code",
   "execution_count": 23,
   "metadata": {},
   "outputs": [
    {
     "name": "stdout",
     "output_type": "stream",
     "text": [
      "[1, 100, 2, 3, 4]\n",
      "[1, 100, 2, 3, 4, 200, 300]\n"
     ]
    }
   ],
   "source": [
    "list1 = [1, 2, 3, 4]\n",
    "list1.insert(1, 100)\n",
    "print(list1)\n",
    "list1.insert(1000, 200)\n",
    "list1.insert(999, 300)\n",
    "print(list1)"
   ]
  },
  {
   "cell_type": "code",
   "execution_count": 27,
   "metadata": {},
   "outputs": [
    {
     "name": "stdout",
     "output_type": "stream",
     "text": [
      "[1, 100, 3, 4]\n",
      "[1, 100, 3, 2, 4]\n"
     ]
    }
   ],
   "source": [
    "list1 = [1, 2, 3, 4]\n",
    "list1[1] = 100\n",
    "print(list1)\n",
    "list1.insert(-1, 2)\n",
    "print(list1)"
   ]
  },
  {
   "cell_type": "markdown",
   "metadata": {},
   "source": [
    "- In der Informatik wird häufig die Datenstruktur \"Stack\" verwendet. Stack ist  ein Stapel. Man kann sich einen Stack wie einen Stapel Teller vorstellen. Eine wichtige Eigenschaft eines (Teller-)stapels ist es, dass man immer den obersten Teller wegnimmt oder einen Teller oben auf den Stapel drauflegt. Man spricht auch von Last-In-First-Out (LIFO). In der Informatik gibt es für diese beiden elementaren Operation zwei Begriffe Push (einen Teller auf den Stapel legen) und Pop (einen Teller vom Stapel herunternehmen). In Python ist das Push bereits durch die Methode `append()` realisiert. Daneben gibt es die Methode `pop()`. `pop()` wird ohne Parameter aufgerufen und erhält als Rückgabewert das Letzte Element der Liste. Dieses letzte Element wird dann gleichzeitig gelöscht."
   ]
  },
  {
   "cell_type": "code",
   "execution_count": 28,
   "metadata": {},
   "outputs": [
    {
     "name": "stdout",
     "output_type": "stream",
     "text": [
      "[7, 4, 6, 5, 10]\n",
      "10\n",
      "[7, 4, 6, 5]\n"
     ]
    }
   ],
   "source": [
    "list1 = [7, 4, 6, 5]\n",
    "list1.append(10)\n",
    "print(list1)\n",
    "x = list1.pop()\n",
    "print(x)\n",
    "print(list1)"
   ]
  },
  {
   "cell_type": "markdown",
   "metadata": {},
   "source": [
    "- Das Schlüsselwort `in` ist keine Methode bzw. Funktion. Mit Hilfe von `in` kann man überprüfen, ob ein Wert in einer Liste ist. Der Ausdruck `value in liste` liefert je nach Ergebnis `True` oder `False`"
   ]
  },
  {
   "cell_type": "code",
   "execution_count": 30,
   "metadata": {},
   "outputs": [
    {
     "name": "stdout",
     "output_type": "stream",
     "text": [
      "2 ist nicht dabei\n"
     ]
    }
   ],
   "source": [
    "list1 = [1, 5, 3, 4]\n",
    "if 2 in list1:\n",
    "    print(\"2 ist dabei\")\n",
    "else:\n",
    "    print(\"2 ist nicht dabei\")"
   ]
  },
  {
   "cell_type": "markdown",
   "metadata": {},
   "source": [
    "- Mit Hilfe der Methode `remove()` wird das erste Vorkommen des Wertes, der `remove()` übergeben wird, gelöscht. Falls der Wert nicht vorhanden ist, gibt es eine Fehlermeldung. Mit Hife der Methode `clear()` werden alle Werte aus der Liste gelöscht. Die Liste ist anschließend eine leere Liste."
   ]
  },
  {
   "cell_type": "code",
   "execution_count": 31,
   "metadata": {},
   "outputs": [
    {
     "name": "stdout",
     "output_type": "stream",
     "text": [
      "[1, 3, 4, 2]\n",
      "[]\n"
     ]
    },
    {
     "ename": "ValueError",
     "evalue": "list.remove(x): x not in list",
     "output_type": "error",
     "traceback": [
      "\u001b[0;31m---------------------------------------------------------------------------\u001b[0m",
      "\u001b[0;31mValueError\u001b[0m                                Traceback (most recent call last)",
      "Cell \u001b[0;32mIn[31], line 6\u001b[0m\n\u001b[1;32m      4\u001b[0m list1\u001b[38;5;241m.\u001b[39mclear()\n\u001b[1;32m      5\u001b[0m \u001b[38;5;28mprint\u001b[39m(list1)\n\u001b[0;32m----> 6\u001b[0m \u001b[43mlist1\u001b[49m\u001b[38;5;241;43m.\u001b[39;49m\u001b[43mremove\u001b[49m\u001b[43m(\u001b[49m\u001b[38;5;241;43m2\u001b[39;49m\u001b[43m)\u001b[49m\n",
      "\u001b[0;31mValueError\u001b[0m: list.remove(x): x not in list"
     ]
    }
   ],
   "source": [
    "list1 = [1, 2, 3, 4, 2]\n",
    "list1.remove(2)\n",
    "print(list1)\n",
    "list1.clear()\n",
    "print(list1)\n",
    "list1.remove(2)"
   ]
  },
  {
   "cell_type": "markdown",
   "metadata": {},
   "source": [
    "- Die Länge einer Liste, also die Anzahl der Elemente, kan mit der Funktion `len()` ermittelt werden."
   ]
  },
  {
   "cell_type": "code",
   "execution_count": null,
   "metadata": {},
   "outputs": [],
   "source": [
    "list1 = [1, 2, 4, 6]\n",
    "print(len(list1))"
   ]
  },
  {
   "cell_type": "markdown",
   "metadata": {},
   "source": [
    "### Aufgabe 3 - Liste erstellen, vergrößern, kürzen\n",
    "Erstellen Sie eine Liste mit zehn Zahlen. Über `input()` erfragen Sie eine weitere Zahl und fügen diese hinten an die Liste an. Über `input()` erfragen Sie einen Index und löschen das entsprechende Element der Liste. Mit `input()` erfragen Sie einen zweiten Wert und löschen diesen Wert **nicht** den Index. Geben Sie nach jeder Opertion die gesamte Liste aus."
   ]
  },
  {
   "cell_type": "code",
   "execution_count": 33,
   "metadata": {},
   "outputs": [
    {
     "name": "stdin",
     "output_type": "stream",
     "text": [
      " 23\n",
      " 45\n"
     ]
    },
    {
     "name": "stdout",
     "output_type": "stream",
     "text": [
      "[23, 45]\n"
     ]
    }
   ],
   "source": [
    "l = [int(input()), int(input())]\n",
    "print(l)"
   ]
  },
  {
   "cell_type": "markdown",
   "metadata": {},
   "source": [
    "### Aufgabe 4 - Matrix erweitern\n",
    "Nehmen sie obige 3x3-Matrix und erweitern Sie diese zu einer 4x4-Matrix. Geben Sie dazu über `input()` zuerst drei Werte eine, die die bisherigen Zeile hinten um ein Element erweitern. Geben Sie dann vier Elemente über `input()` ein, die eine vierte Zeile mit vier Elementen hinzufügen."
   ]
  },
  {
   "cell_type": "code",
   "execution_count": 36,
   "metadata": {},
   "outputs": [
    {
     "name": "stdout",
     "output_type": "stream",
     "text": [
      "[[1, 2, 3], [4, 5, 6], [7, 8, 9]]\n",
      "[[1, 2, 3, 0], [4, 5, 6], [7, 8, 9]]\n"
     ]
    }
   ],
   "source": [
    "m = [[1, 2, 3], [4, 5, 6], [7, 8, 9]]\n",
    "print(m)\n",
    "m[0].append(0)\n",
    "print(m)"
   ]
  },
  {
   "cell_type": "markdown",
   "metadata": {},
   "source": [
    "## Weitere Funktionen\n",
    "Es gibt noch eine Reihe weiterer Funktion bzw. Methoden für Listen, die im Folgenden ohne Beispiel aufgelistet werden:\n",
    "- `list1.count(value)` gibt die Anzahl der Vorkommen von value in list1 als Rückgabewert\n",
    "- `list1.reverse()` dreht die Liste um, d.h. das nullte Element wird zum letzten, das letzte Element wird das erste.\n",
    "- `min(list1)` gibt das kleinste Element der Liste zurück\n",
    "- `max(list1)` gibt das größte Element der Liste zurück\n",
    "Es gibt noch deutlich mehr Funktionen und Methoden zu Listen. Googlen Sie einfach mal im Internet. Gute Quellen sind z.B.\n",
    "\n",
    "- [https://www.w3resource.com/python/python-list.php](https://www.w3resource.com/python/python-list.php)\n",
    "- [https://www.w3schools.com/python/python_lists.asp](https://www.w3schools.com/python/python_lists.asp)"
   ]
  },
  {
   "cell_type": "markdown",
   "metadata": {},
   "source": [
    "## Mit Teillisten arbeiten\n",
    "Mit Hilfe des sogenannten Slice-Operators : kann man auf Teile einer Liste zugreifen. Beispielsweise erstellt `list1[1:3]` eine Teilliste die vom ersten (inklusive) bis zum dritten (exklusive) Element der Liste geht. Wird der Parameter vor dem : weggelassen, startet die Teilliste beim Anfang, wird der Parameter hinter dem : weggelassen, dann endet die Teilliste mit dem letzten Element der Originalliste."
   ]
  },
  {
   "cell_type": "code",
   "execution_count": 37,
   "metadata": {},
   "outputs": [
    {
     "name": "stdout",
     "output_type": "stream",
     "text": [
      "[4, 6]\n",
      "[0, 2, 4]\n",
      "[6, 8, 10]\n",
      "[0, 2, 4, 6, 8, 10]\n"
     ]
    }
   ],
   "source": [
    "list1 = [0, 2, 4, 6, 8, 10]\n",
    "print(list1[2:4])\n",
    "print(list1[:3])\n",
    "print(list1[3:]) \n",
    "print(list1[:])"
   ]
  },
  {
   "cell_type": "markdown",
   "metadata": {},
   "source": [
    "### Aufgabe 5 - Teillisten ausgeben\n",
    "Geben Sie aus obiger Liste die Elemente 0-4, die Elemente 4-8 sowie die Elemente 8-10 aus."
   ]
  },
  {
   "cell_type": "code",
   "execution_count": null,
   "metadata": {},
   "outputs": [],
   "source": []
  },
  {
   "cell_type": "markdown",
   "metadata": {},
   "source": [
    "### Aufgabe 6 - Zweidimensionale Slices\n",
    "Wie in Aufgabe 2 und 4 gezeigt, können Sie mit zwei Indizes auf die zwei Dimensionen einer Matrix zugreifen. Wie sieht das mit Slices aus? Tatsächlich funktioniert das nur eingeschränkt. Versuchen Sie mit Slices in zwei Dimensionen zu arbeiten. Was ist das Ergebnis?"
   ]
  },
  {
   "cell_type": "code",
   "execution_count": null,
   "metadata": {},
   "outputs": [],
   "source": []
  },
  {
   "cell_type": "markdown",
   "metadata": {},
   "source": [
    "## Listen von Listen\n",
    "Wie oben bereits erwähnt können `Liste`n beliebige Objekte enthalten. Somit kann eine `Liste` auch selbst wieder eine `Liste` enthalten. Der Zugriff erfolgt auch in diesem Fall über den Index."
   ]
  },
  {
   "cell_type": "code",
   "execution_count": null,
   "metadata": {},
   "outputs": [],
   "source": [
    "l = [42, 23, [1,2,3], \"Hallo\"]\n",
    "print(l[2]) #Das Ergebnis des Zugriffs auf den Index 2 ist eine Liste \n",
    "print(l[2][1]) #Auch auf die Liste, die innerhalb eine Liste enthalten ist, wird über den Index zugegriffen"
   ]
  },
  {
   "cell_type": "markdown",
   "metadata": {},
   "source": [
    "Eine `Liste` von `Liste`n kann z.B. verwendet werden, um eine Liste von Kursen und die zu den Kursen angemeldeten Studenten abzubilden."
   ]
  },
  {
   "cell_type": "code",
   "execution_count": null,
   "metadata": {},
   "outputs": [],
   "source": [
    "informationstechnik_1 = [[\"Max\", \"Meier\", 12345678, \"mm@web.de\"],[\"Lisa\", \"Müller\", 87654321, \"ml@web.de\"], [\"Markus\", \"Peter\", 11223344, \"mp@google.de\"]]\n",
    "sap_in_der_praxis = [[\"Lee\", \"Hollis\", 66666666, \"lee@spermbirds.com\"],[\"Joey\", \"Ramone\", 44445555, \"joey@ramones.de´´com\"], [\"Lemmy\", \"Kilmister\", 99999999, \"lemmy@ace-of-spaced.com\"]]\n",
    "\n",
    "vorlesungen = [informationstechnik_1, sap_in_der_praxis]\n",
    "\n",
    "print(vorlesungen)\n",
    "print(vorlesungen[1][2][0])"
   ]
  },
  {
   "cell_type": "markdown",
   "metadata": {},
   "source": [
    "## Strings sind auch nur Listen\n",
    "Genau wie `Liste`n gehört `String`s in Python zu den *sequentiellen Datentypen*. Ein String ist also sozusagen nur eine Liste (Sequenz) von Zeichen. Daher funktioniern einige der oben angegeben Funktionen und Methoden auch auf Strings."
   ]
  },
  {
   "cell_type": "code",
   "execution_count": 38,
   "metadata": {},
   "outputs": [
    {
     "name": "stdout",
     "output_type": "stream",
     "text": [
      "48\n",
      "FH Aachen, Fachbereich Wirtschaftswissenschaften  enthält ein 'A'\n",
      "FH Aachen,\n",
      "4\n",
      "[' ', ' ', ' ', ',', 'A', 'F', 'F', 'H', 'W', 'a', 'a', 'a', 'a', 'b', 'c', 'c', 'c', 'c', 'c', 'e', 'e', 'e', 'e', 'e', 'f', 'f', 'h', 'h', 'h', 'h', 'h', 'i', 'i', 'i', 'n', 'n', 'n', 'r', 'r', 's', 's', 's', 's', 's', 't', 't', 't', 'w']\n"
     ]
    }
   ],
   "source": [
    "hochschule = \"FH Aachen, Fachbereich Wirtschaftswissenschaften\"\n",
    "print(len(hochschule))\n",
    "if \"A\" in hochschule:\n",
    "    print(hochschule, \" enthält ein 'A'\")\n",
    "print(hochschule[:10])\n",
    "print(hochschule.count(\"a\"))\n",
    "print(sorted(hochschule))"
   ]
  },
  {
   "cell_type": "markdown",
   "metadata": {},
   "source": [
    "## Weitere komplexe Datentypen\n",
    "In Python existeren noch einige weiter komplexe Datentypen. Dazu gehören Tupel, Dictionaries (Mappings) und Mengen (Sets). Diese werden in weiteren Notebooks vorgestellt."
   ]
  }
 ],
 "metadata": {
  "file_extension": ".py",
  "kernelspec": {
   "display_name": "Python 3 (ipykernel)",
   "language": "python",
   "name": "python3"
  },
  "language_info": {
   "codemirror_mode": {
    "name": "ipython",
    "version": 3
   },
   "file_extension": ".py",
   "mimetype": "text/x-python",
   "name": "python",
   "nbconvert_exporter": "python",
   "pygments_lexer": "ipython3",
   "version": "3.12.2"
  },
  "mimetype": "text/x-python",
  "name": "python",
  "npconvert_exporter": "python",
  "pygments_lexer": "ipython3",
  "version": 3
 },
 "nbformat": 4,
 "nbformat_minor": 4
}
