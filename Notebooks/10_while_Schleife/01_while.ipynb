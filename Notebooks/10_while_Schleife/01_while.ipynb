{
 "cells": [
  {
   "cell_type": "markdown",
   "metadata": {},
   "source": [
    "# `while`-Schleife\n",
    "Die `for`-Schleife haben sie bereits kennengelernt. Es gibt noch eine zweite Schleife, die `while`-Schleife. Diese ist etwas allgemeiner aber auch etwas komplizierter.\n",
    "\n",
    "Die `for`-Schleife passt immer dann, wenn man eine Sequenz hat, z.B. eine Liste oder eine vorgegebene Anzahl (→ `range()`). Allerdings gibt es auch Situationen, bei denen keine Sequenz vorliegt und trotzdem ein bestimmter Vorgang wiederholt werden soll:\n",
    "- am Geldautomaten soll lange eine PIN eingegeben werden, bis die PIN richtig ist\n",
    "- es soll so lange eine Zahl eingegeben werden, bis es tatsächlich eine Zahl ist und ein String in eine Integer umgewandelt werden kann\n",
    "- es sollen soviele Fragen beantwortet werden, bis keine neue Frage mehr kommt\n",
    "In diesen Fällen funktioniert eine `for`-Schleife nur mit \"Tricksereien\", besser ist es eine `while`-Schleife einzusetzen.\n",
    "\n",
    "## Syntax der `while`-Schleife\n",
    "Eine `while`-Schleife ist (im einfachsten Fall) wie folgt augebaut:\n",
    "```Python\n",
    "while Bedingung:\n",
    "    Anweisung1\n",
    "    Anweisung2\n",
    "    ...\n",
    "    AnweisungN\n",
    "AnweisungA\n",
    "```\n",
    "\n",
    "Die Schleife beginnt mit dem Schlüsselwort `while`, danach folgt (wie bei einer `if`-Verzweigung) eine Bedingung gefolgt von einem Doppelpunkt.\n",
    "Der folgende Block ist wie bei allen anderen Kontrollstrukturen eingerückt. Wenn nicht mehr eingerückt ist, ist die `while`-Schleife zu Ende und es geht hinter der Schleife im nicht-eingerückten Teil weiter.\n",
    "\n",
    "Im Beispiel oben gehören die Anweisungen 1 - N zur `while`-Schleife, AnweisungA nicht mehr.\n",
    "\n",
    "## Semantik der `while`-Schleife\n",
    "Wenn das Programm zur Schleife kommt, wird die Bedingung hinter dem `while` überprüft. Ist diese Bedingung `True`, wird der Schleifenkörper durchlaufen. Am Ende der Schleife wird zurück zum `while` gesprungen und die Bedingung erneut überprüft. Die Schleife wird so lange durchlaufen, bis die Bedingung irgendwann `False` ist. Danach wird das Programm hinter der Schleife fortgesetzt. Was passiert, wenn beim ersten Erreichen der `while`-Schleife die Bedingung `False` ist? Dann wird der Schleifenkörper übersprungen und das Programm direkt hinter der Schleife fortgesetzt.\n",
    "\n",
    "## Beispiel: `input()` bis eine Zahl eingegeben wird\n",
    "Sie kennen das Problem: Über ein `input()` soll eine Zahl eingegeben werden. Damit mit der Zahl gerechnet werden kann, muss sie zuerst mit der Funktion `int()` in eine Integer umgewandelt werden. Und wenn der Benutzer keine Zahl eingibt stürzt das Programm bei der Umwandlung ab ..."
   ]
  },
  {
   "cell_type": "code",
   "execution_count": 3,
   "metadata": {},
   "outputs": [
    {
     "name": "stdout",
     "output_type": "stream",
     "text": [
      "Bitte eine Zahl eingeben: fhldsfkjg\n"
     ]
    },
    {
     "ename": "ValueError",
     "evalue": "invalid literal for int() with base 10: 'fhldsfkjg'",
     "output_type": "error",
     "traceback": [
      "\u001b[0;31m---------------------------------------------------------------------------\u001b[0m",
      "\u001b[0;31mValueError\u001b[0m                                Traceback (most recent call last)",
      "Input \u001b[0;32mIn [3]\u001b[0m, in \u001b[0;36m<cell line: 2>\u001b[0;34m()\u001b[0m\n\u001b[1;32m      1\u001b[0m zahl \u001b[38;5;241m=\u001b[39m \u001b[38;5;28minput\u001b[39m(\u001b[38;5;124m\"\u001b[39m\u001b[38;5;124mBitte eine Zahl eingeben: \u001b[39m\u001b[38;5;124m\"\u001b[39m)\n\u001b[0;32m----> 2\u001b[0m zahl \u001b[38;5;241m=\u001b[39m \u001b[38;5;28;43mint\u001b[39;49m\u001b[43m(\u001b[49m\u001b[43mzahl\u001b[49m\u001b[43m)\u001b[49m\n\u001b[1;32m      3\u001b[0m \u001b[38;5;28mprint\u001b[39m(zahl)\n",
      "\u001b[0;31mValueError\u001b[0m: invalid literal for int() with base 10: 'fhldsfkjg'"
     ]
    }
   ],
   "source": [
    "zahl = input(\"Bitte eine Zahl eingeben: \")\n",
    "zahl = int(zahl)\n",
    "print(zahl)"
   ]
  },
  {
   "cell_type": "markdown",
   "metadata": {},
   "source": [
    "Diese Situation kann mit Hilfe einer `while`-Schleife abgefangen werden: In der Bedingung der Schleife wird überprüft, ob es sich bei der Eingabe um eine Zahl handelt (Methode `.isdecimal()`). Solange keine Zahl eingegeben wird, muss immer wieder ein `input()` eingegeben werden. Erst wenn endlich eine Zahl vorliegt erfolgt **hinter** der Schleife die Umwandlung in eine `Integer`."
   ]
  },
  {
   "cell_type": "code",
   "execution_count": 4,
   "metadata": {},
   "outputs": [
    {
     "name": "stdout",
     "output_type": "stream",
     "text": [
      "Bitte Zahl eingeben: sdfs\n",
      "Bitte Zahl eingeben: sdfsdf\n",
      "Bitte Zahl eingeben: sdfsdrtert\n",
      "Bitte Zahl eingeben: erter\n",
      "Bitte Zahl eingeben: 234\n",
      "234\n"
     ]
    }
   ],
   "source": [
    "# Die Schleife läuft so lange, bis eine passender Input vorliegt\n",
    "zahl = \"x\"\n",
    "while not(zahl.isdecimal()):\n",
    "    zahl = input(\"Bitte Zahl eingeben: \")\n",
    "\n",
    "zahl = int(zahl)\n",
    "print(zahl)"
   ]
  },
  {
   "cell_type": "markdown",
   "metadata": {},
   "source": [
    "Eine *Unschönheit* der Schleife kann in obigem Beispiel schon gesehen werden: Damit die Bedingung abgefragt werden kann, muss die Variable `zahl` initialisiert worden sein. Allerdings **nicht** mit einer Zahl. Die Anweisung `zahl = \"x\"` hat nur den Zweck, die Variable mit etwas anderem als einer Integer zu initialisieren.\n",
    "\n",
    "Alternativ könnte man auch folgende Variante wählen:"
   ]
  },
  {
   "cell_type": "code",
   "execution_count": 6,
   "metadata": {},
   "outputs": [
    {
     "name": "stdout",
     "output_type": "stream",
     "text": [
      "Bitte Zahl eingeben: wewe\n",
      "Bitte Zahl eingeben: swsdf\n",
      "Bitte Zahl eingeben: sfdsf\n",
      "Bitte Zahl eingeben: cvb\n",
      "Bitte Zahl eingeben: 3455\n",
      "3455\n"
     ]
    }
   ],
   "source": [
    "# Die Schleife läuft so lange, bis eine passender Input vorliegt\n",
    "zahl = input(\"Bitte Zahl eingeben: \")\n",
    "while not(zahl.isdecimal()):\n",
    "    zahl = input(\"Bitte Zahl eingeben: \")\n",
    "\n",
    "zahl = int(zahl)\n",
    "print(zahl)"
   ]
  },
  {
   "cell_type": "markdown",
   "metadata": {},
   "source": [
    "In diesem Fall ist das erste `input`-Statement nicht ganz so \"sinnlos\". Allerdings hat man dann die Unschönheit, dass das das gleiche `input`-Statement zweimal kurz hintereinander steht. Auch das sieht nicht nach einem elegantem Programmierstil aus.\n",
    "Quizfrage: Warum darf in beiden Programmen das `int(zahl)` erst hinter der Schleife stehen?\n",
    "\n",
    "## Beispiel: Richtige PIN\n",
    "Im folgenden Beispiel ist eine geheime PIN gegeben. Der Nutzer soll eine PIN eingeben und kommt erst weiter (d.h. an der `while`-Schleife vorbei), wenn die richtige PIN eingegeben wurde? Im Grunde ist das Programm von der Struktur sehr ähnlich zum Programm oben."
   ]
  },
  {
   "cell_type": "code",
   "execution_count": 7,
   "metadata": {},
   "outputs": [
    {
     "name": "stdout",
     "output_type": "stream",
     "text": [
      "Bitte PIN eingeben: 234\n",
      "Die PIN war leider falsch.\n",
      "Bitte PIN eingeben: 34534\n",
      "Die PIN war leider falsch.\n",
      "Bitte PIN eingeben: 456456\n",
      "Die PIN war leider falsch.\n",
      "Bitte PIN eingeben: 34343\n",
      "Die PIN war leider falsch.\n",
      "Bitte PIN eingeben: 56756\n",
      "Die PIN war leider falsch.\n",
      "Bitte PIN eingeben: 1234\n",
      "1234 ist richtig\n"
     ]
    }
   ],
   "source": [
    "geheime_pin = 1234\n",
    "\n",
    "pin = int(input(\"Bitte PIN eingeben: \"))\n",
    "\n",
    "while pin != geheime_pin:\n",
    "    print(\"Die PIN war leider falsch.\")\n",
    "    pin = int(input(\"Bitte PIN eingeben: \"))\n",
    "\n",
    "print(pin, \"ist richtig\")"
   ]
  },
  {
   "cell_type": "markdown",
   "metadata": {},
   "source": [
    "In der Realität darf nicht so häufig eine PIN versuchen, bis man Erfolg hat. Am Geldautomaten ist typischerweise nach drei Versuchen Schluss. Wie kann dies in der Schleife mit dargestellt werden? \n",
    "\n",
    "Es wird eine kompliziertere Bedingung benötigt, die sowohl überprüft, ob die PIN in Ordnung ist aber auch die Anzahl der Versuche überprüft. Im folgenden Beispiel ist genau das realisiert."
   ]
  },
  {
   "cell_type": "code",
   "execution_count": 9,
   "metadata": {},
   "outputs": [
    {
     "name": "stdout",
     "output_type": "stream",
     "text": [
      "Bitte PIN eingeben: 123\n",
      "Die PIN war leider falsch.\n",
      "Bitte PIN eingeben: 234\n",
      "Die PIN war leider falsch.\n",
      "Bitte PIN eingeben: 1234\n",
      "1234 ist richtig\n"
     ]
    }
   ],
   "source": [
    "geheime_pin = 1234\n",
    "\n",
    "pin = int(input(\"Bitte PIN eingeben: \"))\n",
    "versuche = 1\n",
    "while (pin != geheime_pin) and (versuche < 3) :\n",
    "    print(\"Die PIN war leider falsch.\")\n",
    "    pin = int(input(\"Bitte PIN eingeben: \"))\n",
    "    versuche += 1\n",
    "    \n",
    "if (pin == geheime_pin):\n",
    "    print(pin, \"ist richtig\")\n",
    "else:\n",
    "    print(\"Dreimal die falsche PIN eingegeben, ihre Karte wird eingezogen\")"
   ]
  },
  {
   "cell_type": "markdown",
   "metadata": {},
   "source": [
    "Auch dieses Programm hat mehrere *Unschönheiten*. Es wird eine zweite Varibale `versuche` benötigt, die vor der Schleife initialisiert wird und in der Schleife hochgezählt werden muss. Nach der Schleife ist nicht direkt erkennbar, *warum* die Schleife beendet wurde. War die PIN korrekt oder wurde die Anzahl der Versuche überschritten? Da das nicht direkt klar ist, muss erst noch eine `if`-Abfrage verwendet werden."
   ]
  },
  {
   "cell_type": "markdown",
   "metadata": {},
   "source": [
    "## Beispiel: Einfacher Zähler\n",
    "In obigem Beispiel wurde ein Zähler (`versuche`) benötigt. Dieses Hochzählen von Variablen ist einerseits relativ simpel, andererseits sehr fehleranfällig. \n",
    "\n",
    "Im folgenden sollen mit Hilfe einer `while`-Schleife die Zahlen 1 - 10 über `print()` ausgegeben werden."
   ]
  },
  {
   "cell_type": "code",
   "execution_count": 12,
   "metadata": {},
   "outputs": [
    {
     "name": "stdout",
     "output_type": "stream",
     "text": [
      "1\n",
      "2\n",
      "3\n",
      "4\n",
      "5\n",
      "6\n",
      "7\n",
      "8\n",
      "9\n",
      "10\n"
     ]
    }
   ],
   "source": [
    "# Das folgende Programm soll von 1 - 10 zählen\n",
    "i = 0\n",
    "while i < 10:\n",
    "    i += 1\n",
    "    print(i)\n",
    "\n",
    "    \n",
    "        "
   ]
  },
  {
   "cell_type": "markdown",
   "metadata": {},
   "source": [
    "Sieht relativ einfach aus, ist es auch. **Aber** die Tücke steckt im Detail: Je nachdem wie das Programm aufgebaut ist, reagiert es im Detail unterschiedlich:\n",
    "- soll das i mit 1 oder mit 0 initialisiert werden?\n",
    "- soll die Bedingung `i <= 10` oder `i < 10` lauten?\n",
    "- soll das i mit einer 10 oder mit einer 11 verglichen werden?\n",
    "- soll im Schleifenkörper das Inkrement (`i += 1`) vor oder nach dem `print()` kommen?\n",
    "\n",
    "All diese kleinen Unterschiede führen zu einem anderen Verhalten des Programms. Daher sollten bei der Verwendung von `while`-Schleifen vor allem auch immer die \"Ränder\" überprüft werden. Versuchen Sie selber das obige Programm mit diesen Änderungen zu manipulieren und geben Sie eine Prognose ab, wie der Output des Programms sein wird.\n",
    "\n",
    "## Klassischer Fehler: Die Endlos-Schleife\n",
    "Ein weiterer Fehler, der auftreten kann, ist die Schleife, die nie wieder abbricht, die Endlos-Schleife. Eine solche Schleife liegt dann vor, wenn die Bedingung immer `True` bleibt. Wenn z.B. in obigem Beispiel das Inkrement im Schleifenkörper vergessen wird. Hinweis: Um die Endlos-Schleife anzuhalten, müssen Sie oben den Stop-Button ⬛ drücken."
   ]
  },
  {
   "cell_type": "code",
   "execution_count": 14,
   "metadata": {},
   "outputs": [
    {
     "name": "stdout",
     "output_type": "stream",
     "text": [
      "1\n",
      "2\n",
      "3\n",
      "4\n",
      "5\n",
      "6\n",
      "7\n",
      "8\n",
      "9\n",
      "10\n"
     ]
    }
   ],
   "source": [
    "# Das folgende Programm soll von 1 - 10 zählen\n",
    "i = 1\n",
    "while i<= 10:\n",
    "    print(i)\n",
    "    # Durch das auskommentierte (vergessene) Inkrement, läuft die \n",
    "    # Schleife endlos\n",
    "    i += 1"
   ]
  },
  {
   "cell_type": "markdown",
   "metadata": {},
   "source": [
    "Die letzten Beispiele hätte man alle besser mit Hilfe eine `for`-Schleife implementiert, die ist in diesen Fällen robuster. Wenn es geht, sollten Sie immer eine `for`-Schleife wählen, die ist einfacher und weniger fehleranfällig.\n",
    "\n",
    "## Beispiel: Zufällige Zahl raten\n",
    "Ein Beispiel, in dem sich die `while`-Schleife anbietet, ist das folgende: Es wird eine Zufallszahl zwischen 1 und 100 erzeugt. Anders als beim PIN-Programm ist diese geheime Zahl dem Leser des Programms nicht bekannt. Die Zahl soll erraten werden. Wenn falsch geraten wurde, gibt es ein Hinweis, dass die gesuchte Zahl entweder größer oder kleiner als die gerade eingegebene geratene Zahl ist. Wird die Zahl gefunden, bricht die Schleife ab.\n",
    "\n",
    "Verbessern Sie das Programm, indem nur 5 Versuche erlaubt sind, d.h. die `while`-Schleife bricht nach spätestens 5 Versuchen ab. Geben Sie am Ende aus, ob der Spieler gewonnen oder verloren hat."
   ]
  },
  {
   "cell_type": "code",
   "execution_count": 16,
   "metadata": {},
   "outputs": [
    {
     "name": "stdout",
     "output_type": "stream",
     "text": [
      "Bitte eine Zahl raten: 50\n",
      "Die Zahl war zu groß.\n",
      "Bitte eine Zahl raten: 25\n",
      "Die Zahl war zu groß.\n",
      "Bitte eine Zahl raten: 10\n",
      "Die Zahl war zu klein.\n",
      "Bitte eine Zahl raten: 15\n",
      "Die Zahl war zu klein.\n",
      "Bitte eine Zahl raten: 20\n",
      "Die Zahl war zu groß.\n",
      "Bitte eine Zahl raten: 18\n",
      "Die Zahl war zu groß.\n",
      "Bitte eine Zahl raten: 17\n",
      "Richtig! 17 war die gesuchte Zahl.\n"
     ]
    }
   ],
   "source": [
    "import random\n",
    "\n",
    "geheime_zahl = random.randint(1,100)\n",
    "\n",
    "geratene_zahl = int(input(\"Bitte eine Zahl raten: \"))\n",
    "\n",
    "while geratene_zahl != geheime_zahl:\n",
    "    if geratene_zahl < geheime_zahl:\n",
    "        print(\"Die Zahl war zu klein.\")\n",
    "    else: \n",
    "        print(\"Die Zahl war zu groß.\")\n",
    "        \n",
    "    geratene_zahl = int(input(\"Bitte eine Zahl raten: \"))\n",
    "\n",
    "print(\"Richtig!\", geratene_zahl, \"war die gesuchte Zahl.\")"
   ]
  },
  {
   "cell_type": "markdown",
   "metadata": {},
   "source": [
    "## Mit einem `break` vorzeitig aus der Schleife\n",
    "Genau wie bei der `for`-Schleife, kann man auch die `while`-Schleife mit einem `break` vorzeitig verlassen. Wird das Statement `break` ausgeführt, wird die Schleife verlassen ohne den Schleifenkörper noch bis zum Ende zu durchlaufen. Auch die Bedingung wird nicht mehr überprüft. Das `break` macht nur Sinn in Kombination mit einer `if`-Abfrage innerhalb der Schleife. Überlegen Sie warum ...\n",
    "\n",
    "Mit Hilfe des `break` lassen sich dann aber einige Dinge überraschend einfach programmieren.\n",
    "Es sollen (siehe Kapitel Tupel) mehrere Studierende eingelesen werden. Jeder Studierende \"besteht\" aus Matrikelnummer, Name, Vorname. Es ist nicht klar, wieviele Studierende erzeugt werden sollen (d.h. eine `while`-Schleife bietet sich an). Die Schleife soll dann abgebrochen werden, wenn bei der Matrikelnummer eine \"leere Eingabe\" gemacht wird, d.h. wenn einfach nur auf die Eingabetaste (Return) gedrückt wird. Das Problem kann wie folgt sehr schön erledigt werden:"
   ]
  },
  {
   "cell_type": "code",
   "execution_count": 17,
   "metadata": {},
   "outputs": [
    {
     "name": "stdout",
     "output_type": "stream",
     "text": [
      "Matrikelnummer eingeben: 123\n",
      "Namen eingeben: wer\n",
      "Vorname eingeben: wer\n",
      "Matrikelnummer eingeben: 234\n",
      "Namen eingeben: sdf\n",
      "Vorname eingeben: sdf\n",
      "Matrikelnummer eingeben: \n"
     ]
    }
   ],
   "source": [
    "while True:\n",
    "    matr = input(\"Matrikelnummer eingeben: \")\n",
    "    if matr == \"\":\n",
    "        break\n",
    "    name = input(\"Namen eingeben: \")\n",
    "    vorname = input(\"Vorname eingeben: \")\n",
    "    student = (matr, name, vorname)\n",
    "    "
   ]
  },
  {
   "cell_type": "markdown",
   "metadata": {},
   "source": [
    "Der Beginn `while True:` sorgt eigentlich für eine Endlos-Schleife, da `True` eben immer wahr ist. Die Schleife kann jetzt nur mit dem `break` verlassen werden. Nach derm ersten `input()` wird eben überprüft, ob eine Bedingung für das Beenden der Schleife vorliegt und falls ja, das `break` aufgerufen. D.h., die weiteren `input()`s werden nicht mehr durchlaufen."
   ]
  },
  {
   "cell_type": "markdown",
   "metadata": {},
   "source": [
    "## Der Vollständigkeit halber: `continue` und `else`\n",
    "Zwei seltener genutzte Varianten der `while`-Schleife sind die Verwendung der Schlüsselworte `continue` oder `else`. \n",
    "\n",
    "Mit `else` kann hinter der Schleife ein Block eingebaut werden. Dieser wird durchlaufen, wenn die Bedingung am Anfang der `while`-Schleife nicht (mehr) erfüllt wird. Egal ob dies beim ersten Durchlauf oder nach der hundersten Runde geschieht. In einer normalen Schleife, wird dieser `else`-Zweig nicht benötigt. Man macht ja eh nach Nicht-Erfüllung der Bedingung hinter der Schleife weiter. Interessant wird es dann, wenn auch ein `break` in der Schleife vorkommt. Dieses `break` überspringt den `else`-Block.\n",
    "\n",
    "Im folgenden Programm werden Zahlen eingelesen. Wird eine 0 eingelesen, wird die Summer aller bisherigen Zahlen ausgegeben. Wird eine \"Nicht-Zahl\" eingegeben, bricht die `while`-Schleife ab."
   ]
  },
  {
   "cell_type": "code",
   "execution_count": null,
   "metadata": {},
   "outputs": [],
   "source": [
    "summe = 0\n",
    "i = 1\n",
    "while i != 0:\n",
    "    i = input(\"Bitte eine Zahl eingeben: \")\n",
    "    if i.isdecimal():\n",
    "        i = int(i)\n",
    "        summe += i\n",
    "    else:\n",
    "        break\n",
    "\n",
    "if i == 0:\n",
    "    print (\"Die Summe der Zahlen ist\", summe)\n",
    "else:\n",
    "    print(\"Dann eben nicht\")"
   ]
  },
  {
   "cell_type": "markdown",
   "metadata": {},
   "source": [
    "Das Programm lässt sich mit Hilfe des `else`-Zweigs der `while`-Schleife etwas einfacher schreiben. Die zweite `if`-Abfrage wird nicht benötigt."
   ]
  },
  {
   "cell_type": "code",
   "execution_count": null,
   "metadata": {},
   "outputs": [],
   "source": [
    "summe = 0\n",
    "i = 1\n",
    "while i != 0:\n",
    "    i = input(\"Bitte eine Zahl eingeben: \")\n",
    "    if i.isdecimal():\n",
    "        i = int(i)\n",
    "        summe += i\n",
    "    else:\n",
    "        print(\"Dann eben nicht\")\n",
    "        break\n",
    "else:\n",
    "    print (\"Die Summe der Zahlen ist\", summe)\n",
    "    "
   ]
  },
  {
   "cell_type": "markdown",
   "metadata": {},
   "source": [
    "Trifft die Programmausführung auf continue, wird der restliche Teil des Schleifenköpers übersprungen und man geht direkt zurück zur Bedingung der Schleife. Genau wie das break macht auch das continue nur in Kombination mit einer if-Bedingung Sinn. Überlegen Sie selber, warum ...\n",
    "\n",
    "Obiges Programm kann auch mit Hilfe von `continue` vereinfacht werden. Vielleicht ist das die \"höflichere\" Variante, die nach einer ungültigen Eingabe dem Nutzer ermöglicht, weiter zu machen."
   ]
  },
  {
   "cell_type": "code",
   "execution_count": null,
   "metadata": {},
   "outputs": [],
   "source": [
    "summe = 0\n",
    "i = 1\n",
    "while i != 0:\n",
    "    i = input(\"Bitte eine Zahl eingeben: \")\n",
    "    if i.isdecimal():\n",
    "        i = int(i)\n",
    "    else:\n",
    "        continue\n",
    "    summe += i\n",
    "else:\n",
    "    print (\"Die Summe der Zahlen ist\", summe)"
   ]
  },
  {
   "cell_type": "markdown",
   "metadata": {},
   "source": [
    "## Zusammenfassung\n",
    "In den folgenden Abbildungen werden die verschiedenen Varianten der Schleife nochmal zusammengefasst.\n",
    "<img src=\"img\\while_loop.png\" width=40%>\n",
    "**Einfache `while`-Schleife**\n",
    "<img src=\"img\\while_loop_break.png\" width=40%>\n",
    "**`while`-Schleife mit `break`**\n",
    "<img src=\"img\\while_loop_else.png\" width=40%>\n",
    "**`while`-Schleife mit `else`**\n",
    "<img src=\"img\\while_loop_else_break.png\" width=40%>\n",
    "**`while`-Schleife mit `else` und `break`**\n",
    "<img src=\"img\\while_loop_continue.png\" width=40%>\n",
    "**`while`-Schleife mit `continue`**\n",
    "<img src=\"img\\while_loop_complete.png\" width=40%>\n",
    "**Vollständige `while`-Schleife**"
   ]
  },
  {
   "cell_type": "markdown",
   "metadata": {},
   "source": [
    "## Aufgaben zum selber bearbeiten\n",
    "### Aufgabe 1 Ein-Mal-Eins mit `while`\n",
    "Um zu zeigen, dass sie im Zweifel lieber eine `for`-Schleife verwenden sollen: Implementieren Sie die das schon bekannte Ein-Mal-Eins. Formatierung und Ausgabe ist egal. Einzige Nebenbedingung: Sie dürfen nur die `while`-Schleife verwenden."
   ]
  },
  {
   "cell_type": "code",
   "execution_count": null,
   "metadata": {},
   "outputs": [],
   "source": []
  },
  {
   "cell_type": "markdown",
   "metadata": {},
   "source": [
    "### Aufgabe 2 Module eingeben\n",
    "Ein Modul besteht aus Modulnummer, Modulname, Dozenten und Semester. Diese Werte werden zu einem Tupel zusammengefasst und in eine zuvor leere Liste gehängt. Erstellen Sie ein Programm, dass beliebig viele neue Module über `input()` aufnimmt. Wenn bei der Eingabe der Modulenummer ein leerer Wert eingegeben wird (nur Return), dann wird die Schleife beendet und die Liste ausgegeben. \n",
    "\n",
    "Ergänzung: Bei der Ausgabe iterieren Sie über die Liste und geben Sie jedes Tupel einzeln aus. Versuchen Sie dazu eine `while`-Schleife zu verwenden."
   ]
  },
  {
   "cell_type": "code",
   "execution_count": null,
   "metadata": {},
   "outputs": [],
   "source": []
  },
  {
   "cell_type": "markdown",
   "metadata": {},
   "source": [
    "### Aufgabe 3 Wertsteigerung\n",
    "Der Wert einer Immobilie steigt jedes Jahr um p Prozent an. Schreiben Sie ein Programm, welche den Zeitwert dieser Immobilie so lange berechnet, bis der Zeitwert (mehr als) doppelt so gross ist wie der heutige Anfangswert. Frag Sie über `input()` nach dem Prozentsatz und dem Anfangswert. Geben Sie zu jedem Jahr aus: Jahr und Zeitwert."
   ]
  },
  {
   "cell_type": "code",
   "execution_count": null,
   "metadata": {},
   "outputs": [],
   "source": []
  }
 ],
 "metadata": {
  "kernelspec": {
   "display_name": "Python 3 (ipykernel)",
   "language": "python",
   "name": "python3"
  },
  "language_info": {
   "codemirror_mode": {
    "name": "ipython",
    "version": 3
   },
   "file_extension": ".py",
   "mimetype": "text/x-python",
   "name": "python",
   "nbconvert_exporter": "python",
   "pygments_lexer": "ipython3",
   "version": "3.10.2"
  }
 },
 "nbformat": 4,
 "nbformat_minor": 2
}
