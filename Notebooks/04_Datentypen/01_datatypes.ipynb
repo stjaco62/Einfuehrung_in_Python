{
 "cells": [
  {
   "cell_type": "markdown",
   "metadata": {},
   "source": [
    " # Datentypen\n",
    " ## Voraussetzungen\n",
    " Diese Einheit setzt voraus, dass Sie folgende Inhalte kennen: Variablen, Ein- und Ausgabe.\n",
    "\n",
    " ## Primitive Datentypen\n",
    " In Python, wie auch in anderne Programamiersprachen, hat das Ergebnis der Auswertung eines Ausdrucks immer einen\n",
    " *Datentyp*. In den bisherigen Juypter Notebooks haben wir eine Reihe dieser *Datentypen* schon verwendet,\n",
    " ohne diese explizit zu erwähnen. Zum Beispiel enthält folgender Ausdruck zwei Werte vom *Datentyp* `Integer` (ganze Zahlen)"
   ]
  },
  {
   "cell_type": "code",
   "execution_count": null,
   "metadata": {},
   "outputs": [],
   "source": [
    "1 + 2"
   ]
  },
  {
   "cell_type": "markdown",
   "metadata": {},
   "source": [
    " Prinzipiell unterschiedet man in Python zwischen den primitiven und komplexen *Datentypen*. In diesem Notbook werden\n",
    " wir zunächst die verschienden primitiven *Datentypen* einführen. in Python sind die in folgender Tabelle dargestellten\n",
    " primitiven *Datentypen* verfügbar.\n",
    "\n",
    " | Beschreibung   | Python Datentyp | Beispiele    |\n",
    " |----------------|-----------------|--------------|\n",
    " | Ganze Zahlen   | `Integer`         | 42, 0, -11   |\n",
    " | Kommazahlen    | `Float`           | 2.0, -3.14   |\n",
    " | Wahrheitswerte | `Boolean`         | True, False  |\n",
    " | Zeichenketten  | `String`          | \"Hallo Welt\" |"
   ]
  },
  {
   "cell_type": "markdown",
   "metadata": {},
   "source": [
    " Die eingebaute Python Funktion `type()` (https://docs.python.org/3/library/functions.html#type) kann verwendet werden, um den *Datentyp* eines Ausdrucks zu ermitteln.\n",
    " In der folgenden Zelle wird die Funktion `type()` verwendet um den *Datentyp* der Werte 41, -3.14, True und\n",
    " \"Hallo Welt\" auszugeben."
   ]
  },
  {
   "cell_type": "code",
   "execution_count": 1,
   "metadata": {},
   "outputs": [
    {
     "name": "stdout",
     "output_type": "stream",
     "text": [
      "<class 'int'>\n",
      "<class 'str'>\n"
     ]
    }
   ],
   "source": [
    "x = type(42)\n",
    "print(x)\n",
    "y = type(\"wer\")\n",
    "print(y)"
   ]
  },
  {
   "cell_type": "code",
   "execution_count": 2,
   "metadata": {},
   "outputs": [
    {
     "name": "stdout",
     "output_type": "stream",
     "text": [
      "<class 'int'>\n",
      "<class 'float'>\n",
      "<class 'bool'>\n",
      "<class 'str'>\n"
     ]
    }
   ],
   "source": [
    "print(type(42))\n",
    "print(type(-3.14))\n",
    "print(type(True))\n",
    "\n",
    "s = \"Hallo Welt\"\n",
    "print(type(s))\n"
   ]
  },
  {
   "cell_type": "markdown",
   "metadata": {},
   "source": [
    "Kurze Erklärung zur Schreibweise von `print(type(42))`: Hier werden die beiden Funktionen `print()` und `type()` in einander verschachtelt. Das heißt, `type()` erhält als Eingabewert die 42. Als Ausgabe von `type()` wird jetzt der Wert `<class 'int'>` erzeugt. Diese Ausgabe dient als Eingabe von `print()`. Als Ausgabe von `print()` wird der Wert dann ausgegeben. \n",
    "\n",
    "Funktionen können in einander verschachtelt werden. Sie werden dann von innen nach außen aufgerufen. Die Ausgabe einer Funktion dient dann jeweils als Eingabe für die nächst äußere Funktion."
   ]
  },
  {
   "cell_type": "markdown",
   "metadata": {},
   "source": [
    " ## Integer\n",
    " Den ersten primitiven *Datentyp*, den wir im Detail besprechen ist der *Datentyp* `Integer`.\n",
    " Der *Datentyp* `Integer` wird verwendet, um ganze Zahlen darzustellen. Der Wertebereich des\n",
    " *Datentyps* umfasst also die Zahlen .., -3, -2, -1, 0, 1, 2, 3,... <br>\n",
    "\n",
    " Wichtig ist, dass der Wertebereich von `Integer` in Python lediglich durch den verfügbaren Arbeitsspeicher\n",
    " begrenzt ist. Somit können mit Python auch Berechnungen mit sehr großen Zahlen durchgeührt werden.\n",
    " in der folgenden Zelle sehen Sie einige Beispiele für den *Datentyp* `Integer`.\n",
    " Testen Sie auch selbst einige Zahlen."
   ]
  },
  {
   "cell_type": "code",
   "execution_count": 3,
   "metadata": {},
   "outputs": [
    {
     "name": "stdout",
     "output_type": "stream",
     "text": [
      "<class 'int'>\n",
      "<class 'int'>\n",
      "<class 'int'>\n",
      "100000000000000000000000000000000000000000000000000000000000000000000000000\n",
      "<class 'int'>\n"
     ]
    }
   ],
   "source": [
    "print(type(2))\n",
    "print(type(-5))\n",
    "\n",
    "x = 10000000000000000000000000000000000000\n",
    "print(type(x))\n",
    "\n",
    "x_quadrat = x * x\n",
    "print(x_quadrat)\n",
    "print(type(x_quadrat))\n"
   ]
  },
  {
   "cell_type": "markdown",
   "metadata": {},
   "source": [
    " ## Float\n",
    " Im Gegensatz zum *Datentyp* `Integer` wird der *Datentyp* `Float` verwendet, um Fließkommazahlen darzustellen.\n",
    " Dabei werden Nachkommastellen durch einen Punkt (`.`) abgetrennt. Wie in der nachfolgenden Zelle zu\n",
    " sehen, unterstützt der *Datentyp* `Float` auch die Exponentialschreibweise. Die Notation 6.62e-34 steht\n",
    " dabei für die Zahl $ 6.62 * 10^{-34} $."
   ]
  },
  {
   "cell_type": "code",
   "execution_count": 8,
   "metadata": {},
   "outputs": [
    {
     "name": "stdout",
     "output_type": "stream",
     "text": [
      "<class 'float'>\n",
      "<class 'float'>\n",
      "6.63e-34\n",
      "<class 'float'>\n",
      "1e+100\n",
      "<class 'float'>\n"
     ]
    }
   ],
   "source": [
    "print(type(0.1))\n",
    "print(type(0.0))\n",
    "\n",
    "h = 6.63e-34            # https://de.wikipedia.org/wiki/Plancksches_Wirkungsquantum\n",
    "print(h)\n",
    "print(type(h))\n",
    "\n",
    "g = 1e100               # https://de.wikipedia.org/wiki/Googol\n",
    "print(g)\n",
    "print(type(g))\n"
   ]
  },
  {
   "cell_type": "markdown",
   "metadata": {},
   "source": [
    " ## Operationen\n",
    " Eine Reihe von Operationen für primitive Datentypen haben Sie in der Einführugn zu Variablen schon kennengelernt.\n",
    " Folgende Tabelle stellt die wichtigsten Operationen nochmals dar.\n",
    "\n",
    "  |  Beschreibung   | Operator | Beispiel     | Ergebis    |\n",
    "  |-----------------|----------|--------------|------------|\n",
    "  | Addition        | +        | 2 + 3        | 5          |\n",
    "  | Subtraktion     | -        | 2 - 3        | -1         |\n",
    "  | Multiplikation  | *        | 2 * 3        | 6          |\n",
    "  | Division        | /        | 7 / 3        | 2.3333333333333335 |\n",
    "  | Ganzzahlige Division | //  | 7 // 3       | 2          |\n",
    "  | Modulo          | %        | 7 % 3        | 1          |\n",
    "  | Exponentiation  | **       | 2 ** 0.5     | 1.4142135623730951 |\n",
    "\n",
    " Wie bereits erwähnt gelten in Python die üblichen Prioritäten für arithmetische Operationen.\n",
    " Klammern können verwendet werden, um die Reihenfolge der Auswertung zu steuern."
   ]
  },
  {
   "cell_type": "markdown",
   "metadata": {},
   "source": [
    " ## Übung\n",
    " Testen Sie verschiedene Operationen für die *Datentypen* `Integer` und `Float`.\n",
    " Verwenden Sie dabei die Funktion type(), um den Typ einer Variablen zu ermitteln.\n",
    " Welcher Datentyp entsteht wenn ein `Integer`-Wert mit einem `Float`-Wert mittels eines Operators kombiniert wird?\n",
    " Ist das Ergebnis von Operationen auf `Integer`-Werten immer ein `Integer`-Wert?"
   ]
  },
  {
   "cell_type": "code",
   "execution_count": 9,
   "metadata": {},
   "outputs": [
    {
     "name": "stdout",
     "output_type": "stream",
     "text": [
      "<class 'int'>\n",
      "<class 'float'>\n",
      "Der kombinierte Wert ist vom Typ: <class 'float'>\n",
      "-1.23456789e+19\n",
      "3.0\n",
      "2e+307\n"
     ]
    }
   ],
   "source": [
    "integer_wert = 5\n",
    "print(type(integer_wert))\n",
    "\n",
    "float_wert = 6.78\n",
    "print(type(float_wert))\n",
    "\n",
    "kombinierter_wert = integer_wert + float_wert\n",
    "print(\"Der kombinierte Wert ist vom Typ:\", type(kombinierter_wert))\n",
    "\n",
    "# Weitere Werte zum experimentieren:\n",
    "print(-12345678900000000000.0)\n",
    "print(3/1)\n",
    "print(2e306 * 10)\n",
    "\n"
   ]
  },
  {
   "cell_type": "markdown",
   "metadata": {},
   "source": [
    " ## Genauigkeit von Operationen auf `Float`-Werten\n",
    " Führen Sie die Berechnungen in den nachfolgenen Beiden Zelle aus.\n",
    "\n",
    " Sind die berechenten Ergebnisse korrekt? Was könnte die Ursache für diese Ergebnisse sein?"
   ]
  },
  {
   "cell_type": "code",
   "execution_count": 11,
   "metadata": {},
   "outputs": [
    {
     "name": "stdout",
     "output_type": "stream",
     "text": [
      "0.30000000000000004\n"
     ]
    }
   ],
   "source": [
    "a = 0.1\n",
    "b = 0.2\n",
    "\n",
    "summe = a + b\n",
    "print(summe)\n"
   ]
  },
  {
   "cell_type": "code",
   "execution_count": 12,
   "metadata": {},
   "outputs": [
    {
     "name": "stdout",
     "output_type": "stream",
     "text": [
      "2.0000000000000004\n"
     ]
    }
   ],
   "source": [
    "wurzel_aus_2 = 2 ** 0.5\n",
    "\n",
    "zwei = wurzel_aus_2 ** 2\n",
    "print(zwei)\n"
   ]
  },
  {
   "cell_type": "markdown",
   "metadata": {},
   "source": [
    " Python stellt intern Fließkommazahlen mit einer Genauigkeit von 15 bis 16 Stellen im Binärsystem dar\n",
    " (https://de.wikipedia.org/wiki/IEEE_754). Durch diese Darstellung kann sowohl mit sehr großen und sehr kleine Zahlen\n",
    " gearbeitet werden. Allerdings kommt es in bestimmten Fällen zu Rundungsfehlern. Andere Zahlen können im\n",
    " Binärsystem nicht genau dargestellt werden (ähnlich der Zahl $1/3$ im Dezimalsystem).\n",
    "\n",
    " Einige weitere Beispiele zu möglichen Überaschungen bei der Arbeit mit Fließkommazahlen\n",
    " finden Sie hier: https://docs.python.org/3/tutorial/floatingpoint.html."
   ]
  },
  {
   "cell_type": "markdown",
   "metadata": {},
   "source": [
    " ## Boolean\n",
    " Wahrheitswerte werden mit dem Datentyp `Boolean` dargestellt. Der Datentyp `Boolean` kann nur zwei Werte annehmen,\n",
    " `True` oder `False`.\n",
    "\n",
    " Für den Datentyp `Boolean` existiert eine Reihe spezieller logischer Operatoren.\n",
    "\n",
    " | Operator       | Erklärung                 | Beispiel             |\n",
    " |----------------|---------------------------|-----------------------|\n",
    " | not            | Negation                  | not y                 |\n",
    " | and            | Logisches Und             | x and y               |\n",
    " | or             | Logisches Oder            | a or b or c           |\n",
    "\n",
    " ## Übung\n",
    " In folgender Zelle finden Sie einige Beispiele für die Verwendung von `Boolean`-Werten.\n",
    " Was passiert wenn Sie einen `Boolean` Wert mit einem `Integer` Wert kombinieren? Was bei einer Kombination mit einem\n",
    " `Float`-Wert? Welche Operatoren können Sie hierzu verwenden?\n",
    " Von welchem Datentyp ist das Ergebnis?"
   ]
  },
  {
   "cell_type": "code",
   "execution_count": 13,
   "metadata": {},
   "outputs": [
    {
     "name": "stdout",
     "output_type": "stream",
     "text": [
      "False\n",
      "True\n",
      "True and True:  True\n",
      "a and b:  False\n",
      "a or b:  True\n",
      "Komplexer logischer Ausdruck:  False\n"
     ]
    }
   ],
   "source": [
    "print(False and False)\n",
    "print(not False)\n",
    "\n",
    "a = True\n",
    "b = False\n",
    "\n",
    "print(\"True and True: \",True and True)\n",
    "print(\"a and b: \", a and b)\n",
    "print(\"a or b: \",a or b)\n",
    "\n",
    "print(\"Komplexer logischer Ausdruck: \", a and (b or (True and False)))"
   ]
  },
  {
   "cell_type": "markdown",
   "metadata": {},
   "source": [
    " ## String\n",
    " Zur Verarbeitung von Zeichenketten wird der Datentyp `String` verwendet. Beim Datentyp `String` handelt es\n",
    " sich streng genommen nicht um einen primitiven Datentyp sondern um einen sequentiellen Datentyp. Da\n",
    " Zeichenketten jedoch in einfachen Programmen sehr häufig vorkommen, wird der Datentyp `String` trotzdem\n",
    " schon eingeführt.\n",
    "\n",
    " In Python können `Strings` entweder mit einfachem oder doppeltem Anführungszeichen angelegt werden.\n",
    " Zwischen den beiden Variaten gibt es feine Unterschieden, auf die an dieser Stelle jedoch noch nicht\n",
    " eingegangen wird. Wir werden deshalb bevorzugt doppelte Anführungszeichen bei der Arbeit mit `Strings` verwenden.\n"
   ]
  },
  {
   "cell_type": "code",
   "execution_count": 14,
   "metadata": {},
   "outputs": [
    {
     "name": "stdout",
     "output_type": "stream",
     "text": [
      "<class 'str'>\n",
      "Hallo Welt\n",
      "HalloWelt\n",
      "HalloHalloHallo\n"
     ]
    }
   ],
   "source": [
    "print(type(\"Hallo Welt\"))\n",
    "\n",
    "a = \"Hallo\"\n",
    "b = \"Welt\"\n",
    "\n",
    "\n",
    "print(a, b)\n",
    "print(a+b)\n",
    "\n",
    "print(3*a)\n"
   ]
  },
  {
   "cell_type": "markdown",
   "metadata": {},
   "source": [
    "### String Methoden\n",
    "Es gibt in Python eine Reihe von Methoden, um `Strings` zu bearbeiten (https://docs.python.org/3/library/string.html).\n",
    "Eine kleine Auswahl dieser Methoden ist\n",
    "* `.lower()` ändert alle Großbuchstaben in Kleinbuchstaben.\n",
    "* `.upper()` ändert alle Kleinbuchstaben in Großbuchstaben.\n",
    "* `.replace()` dient dazu eine bestimmte Zeichenkette innerhalb eines `Strings` durch eine andere Zeichenkette zu ersetzen."
   ]
  },
  {
   "cell_type": "markdown",
   "metadata": {},
   "source": [
    " ## Übung\n",
    " Testen Sie verschiedene Operationen für `Strings`.\n",
    " Was passiert wenn Sie versuchen einen `String` und einen `Integer` zu addieren?\n",
    " Nutzen Sie außerdem die oben genannten Methoden, um `Strings` zu bearbeiten."
   ]
  },
  {
   "cell_type": "code",
   "execution_count": 15,
   "metadata": {},
   "outputs": [
    {
     "name": "stdout",
     "output_type": "stream",
     "text": [
      "RAMONES\n",
      "matchmaker\n"
     ]
    }
   ],
   "source": [
    "a = \"Ramones\"\n",
    "print(a.upper())\n",
    "\n",
    "print(\"hitchhiker\".replace(\"hi\", \"ma\"))"
   ]
  },
  {
   "cell_type": "markdown",
   "metadata": {},
   "source": [
    " ## Übung\n",
    " Lesen Sie zwei Zahlen ein, die der Benutzer eingeben soll (Hinweis: verwenden Sie die Funktion\n",
    " `input()`). Addieren Sie die eingelesenen Zahlen und geben Sie das Ergebnis aus.\n",
    "\n",
    " Welches Problem tritt auf? Von welchem Datentyp sind die eingelesenen Werte?"
   ]
  },
  {
   "cell_type": "code",
   "execution_count": 18,
   "metadata": {},
   "outputs": [
    {
     "name": "stdout",
     "output_type": "stream",
     "text": [
      "Erste Zahl:rtz\n"
     ]
    },
    {
     "ename": "ValueError",
     "evalue": "invalid literal for int() with base 10: 'rtz'",
     "output_type": "error",
     "traceback": [
      "\u001b[0;31m---------------------------------------------------------------------------\u001b[0m",
      "\u001b[0;31mValueError\u001b[0m                                Traceback (most recent call last)",
      "Input \u001b[0;32mIn [18]\u001b[0m, in \u001b[0;36m<cell line: 5>\u001b[0;34m()\u001b[0m\n\u001b[1;32m      1\u001b[0m a \u001b[38;5;241m=\u001b[39m \u001b[38;5;28minput\u001b[39m(\u001b[38;5;124m\"\u001b[39m\u001b[38;5;124mErste Zahl:\u001b[39m\u001b[38;5;124m\"\u001b[39m)\n\u001b[1;32m      3\u001b[0m \u001b[38;5;66;03m# Folgende Zeilen bitte ergänzen\u001b[39;00m\n\u001b[0;32m----> 5\u001b[0m b \u001b[38;5;241m=\u001b[39m \u001b[38;5;28;43mint\u001b[39;49m\u001b[43m(\u001b[49m\u001b[43ma\u001b[49m\u001b[43m)\u001b[49m\n\u001b[1;32m      7\u001b[0m \u001b[38;5;28mprint\u001b[39m(\u001b[38;5;28mtype\u001b[39m(b))\n",
      "\u001b[0;31mValueError\u001b[0m: invalid literal for int() with base 10: 'rtz'"
     ]
    }
   ],
   "source": [
    "a = input(\"Erste Zahl:\")\n",
    "\n",
    "# Folgende Zeilen bitte ergänzen\n",
    "\n",
    "b = int(a)\n",
    "\n",
    "print(type(b))\n"
   ]
  },
  {
   "cell_type": "markdown",
   "metadata": {},
   "source": [
    "## Konvertierung\n",
    "Operationen auf `Strings` führen teilweise zu unerwarteten Ergebnissen. Der Versuch, einen `String` und\n",
    "einen `Integer` zu addieren, führt zu einer Fehlermeldung. Die Addition von zwei `Strings` führt dazu,\n",
    "dass die beiden Zeichenketten zusammengefügt werden.\n",
    "\n",
    "Dies ist ein häufiges Problem wenn mit Benutzereingaben gearbeitet wird. Der Datentyp der Eingabe ist\n",
    "immer `String`. Dieser muss ggf. in einen andern Datentyp umgewandelt werden, (man sagt dazu konvertiert), bevor damit\n",
    "weitergearbeitet werden kanan. Zur Konvertierung zwischen den verschiedenen Datentypen stehen\n",
    "in Python eine Reihe von eingebauten Funktionen (https://docs.python.org/3/library/functions.html) zur Verfügung.\n",
    "\n",
    " | Funktion       | Erklärung                                                        | Beispiel             |\n",
    " |----------------|------------------------------------------------------------------|----------------------|\n",
    " | int()          | Konvertiert den übergebenen Parameter in den Datentyp `Integer´. | int(\"10\")            |\n",
    " | float()        | Konvertiert den übergebenen Parameter in den Datentyp `Float´.   | float(\"3.14\")        |\n",
    " | bool()         | Konvertiert den übergebenen Parameter in den Datentyp `Boolean´. | bool(\"Hallo \")       |\n",
    " | str()          | Konvertiert den übergebenen Parameter in den Datentyp `String  . | str(True)        |"
   ]
  },
  {
   "cell_type": "markdown",
   "metadata": {},
   "source": [
    " ## Übung\n",
    " Führen Sie einige Konvertierungen zwischen den verschienden Datentypen aus.\n",
    " Analysieren Sie welchen Datentyp und welchen Wert das Ergebnis der Konvertierung hat.\n",
    " Was passiert wenn Sie verschiedene Konvertierungen verketten?"
   ]
  },
  {
   "cell_type": "code",
   "execution_count": 19,
   "metadata": {},
   "outputs": [
    {
     "name": "stdout",
     "output_type": "stream",
     "text": [
      "Hallo2019\n",
      "False\n",
      "1\n",
      "True\n"
     ]
    }
   ],
   "source": [
    "s = \"Hallo\"\n",
    "i = 2019\n",
    "print(s + str(i))\n",
    "\n",
    "print(bool(0))\n",
    "\n",
    "print(int(bool(3)))\n",
    "\n",
    "print(str(bool(\"sdfs\")))\n",
    "\n"
   ]
  },
  {
   "cell_type": "code",
   "execution_count": 20,
   "metadata": {},
   "outputs": [
    {
     "data": {
      "text/plain": [
       "230000.0"
      ]
     },
     "execution_count": 20,
     "metadata": {},
     "output_type": "execute_result"
    }
   ],
   "source": [
    "float(\"2.3e5\")"
   ]
  },
  {
   "cell_type": "markdown",
   "metadata": {},
   "source": [
    "  ## Konvertierung und die Funktion `input()`\n",
    " Wie schon erwähnt ist das Ergebnis der Funktion `input()` immer vom Datentyp `String`. Wenn Sie einen\n",
    " anderen Datentyp benötigen, müssen Sie die eingegebenen Daten erst konvertieren. Das notwendige Vorgehen\n",
    " wird in den nachfolgenden Zellen dargestellt."
   ]
  },
  {
   "cell_type": "code",
   "execution_count": 47,
   "metadata": {},
   "outputs": [
    {
     "name": "stdout",
     "output_type": "stream",
     "text": [
      "Bitte geben Sie Ihr Alter ein: 345\n",
      "345\n"
     ]
    },
    {
     "data": {
      "text/plain": [
       "int"
      ]
     },
     "execution_count": 47,
     "metadata": {},
     "output_type": "execute_result"
    }
   ],
   "source": [
    "alter = input(\"Bitte geben Sie Ihr Alter ein: \")\n",
    "alter = int(alter)\n",
    "print(alter)\n",
    "type(alter)\n",
    "\n"
   ]
  },
  {
   "cell_type": "code",
   "execution_count": null,
   "metadata": {},
   "outputs": [],
   "source": [
    "# Alternative auch durch die Verkettung von Funktionen möglich\n",
    "alter = int(input(\"Bitte geben Sie Ihr Alter ein: \"))\n",
    "type(alter)\n"
   ]
  },
  {
   "cell_type": "markdown",
   "metadata": {},
   "source": [
    "  ## Übung\n",
    "  Erstellen Sie eine neue Version des Quaderprogramms, das Länge, Breite und Höhe über die Inputfunktion einliest.\n",
    "\n",
    "  - Hinweise:\n",
    "    - In der Funktion `print()` können Sie mehrere Parameter ausgeben. Diese müssen durch Komma getrennt werden\n",
    "      Beispiel: `print(a, b, c)`\n",
    "    - In der Funktion print() können Sie auch `Strings` direkt als Parameter übergeben.\n",
    "      Beispiel: `print(\"Das Ergebnis ist:\")`"
   ]
  },
  {
   "cell_type": "code",
   "execution_count": null,
   "metadata": {},
   "outputs": [],
   "source": []
  }
 ],
 "metadata": {
  "file_extension": ".py",
  "kernelspec": {
   "display_name": "Python 3 (ipykernel)",
   "language": "python",
   "name": "python3"
  },
  "language_info": {
   "codemirror_mode": {
    "name": "ipython",
    "version": 3
   },
   "file_extension": ".py",
   "mimetype": "text/x-python",
   "name": "python",
   "nbconvert_exporter": "python",
   "pygments_lexer": "ipython3",
   "version": "3.10.2"
  },
  "mimetype": "text/x-python",
  "name": "python",
  "npconvert_exporter": "python",
  "pygments_lexer": "ipython3",
  "version": 3
 },
 "nbformat": 4,
 "nbformat_minor": 2
}
