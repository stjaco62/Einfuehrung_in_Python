{
 "cells": [
  {
   "cell_type": "markdown",
   "metadata": {},
   "source": [
    "# Exkurs: Methoden\n",
    "Dieser Exkurs beschäftigt sich mit dem Begriff Methoden. (Exkurs = Sie müssen das nicht unbedingt durcharbeiten. Allerdings helfen die Erklärungen möglicherweise, eine besseres Verständnis zu bekommen.)\n",
    "\n",
    "In den bisherigen Kapiteln tauchten die Begriffe Funktion und Methoden auf. Beispielsweise gibt es die Funktion `print()` oder die String-Methode `.isdigit()`. Funktionen werden noch detailliert besprochen werden. Im Augenblick nur kurz: Funktionen \"machen\" irgendetwas. Z.B. druckt die Funktion `print()` die übergebenen Argumente aus. Methoden sind so ähnlich wie Funktionen, allerdings hängen die Methoden von Objekten ab. `.isdigit()` hängt z.B. an dem Objekt String.\n",
    "## Objekt-Orientierung\n",
    "In den 70'er Jahren wurde Software immer größer und komplexer. War zuvor die Hardware das Bottleneck bei der Systementwicklung, wurde jetzt die Komplexität der Software immer mehr zum limitierenden Faktor. Man spricht von der [Softwarekrise](https://de.wikipedia.org/wiki/Softwarekrise). Um Software besser programmierbar und wartbar zu machen, wurde die [Objekt-Orientierte Programmierung](https://de.wikipedia.org/wiki/Objektorientierte_Programmierung) entwickelt. Erste Anfänge gab es bereits mit Smalltalk Ende der 60'er Jahre. In der Breite hat sich die Objekt-Orientierung ab den 90er Jahren mit C++ bzw. Java durchgesetzt.\n",
    "\n",
    "In der Objekt-Orientierung gibt es Objekte, die zu bestimmten Klassen gehören. Damit kann man einfacher die Realität abbilden. Die Klassen bzw. deren Objekte haben Eigenschaften (Attribute) und Fähigkeiten (Methoden). Das Objekt `mein_Auto` der Klasse `auto` könnte z.B. die Methode `.fahren()` und das Attribut `höchstgeschwindigkeit` haben. \n",
    "\n",
    "Auch Python ist objekt-orientiert. Alle Variablen sind Objekte, haben bestimmte Attribute und Methoden. Bespielsweise hat die Klasse `string` die Methoden `.isdigit()` oder `.upper()`. Methoden können nur auf die Objekte der entsprechenden Klassen angewendet werden. Anders als Funktionen können Sie nicht **ohne** ein zugehöriges Objekt ausgeführt werden. Daher beginnt der Methodenname auch immer mit einem Punkt. Um die Methode auszuführen, wird das Objekt zusammen mit der Methode hingeschrieben (siehe Beispiel).\n"
   ]
  },
  {
   "cell_type": "code",
   "execution_count": null,
   "metadata": {},
   "outputs": [],
   "source": [
    "name = \"   Otto Normaverbraucher    \"    # name ist von der Klasse String. Also können String-Methoden verwendet werden\n",
    "print(name)\n",
    "name = name.strip()   # .strip() löscht führende und angehängte Leerzeichen\n",
    "print(name)\n",
    "name = name.upper()   # .upper() wandelt alle Buchstaben in Großbuchstaben\n",
    "print(name)\n",
    "bool_value = name.isdigit()   # .isdigit() gibt True zurück, wenn ein String nur aus Digits besteht, False sonst\n",
    "print(bool_value)"
   ]
  },
  {
   "cell_type": "markdown",
   "metadata": {},
   "source": [
    "## Methoden können nicht auf alle Objekt angewendet werden\n",
    "`.upper()` ist eine String-Methode, sie lässt sich z.B. nicht auf Interger anwenden. Führen Sie die folgende Zelle aus und schauen Sie sich die Fehlermeldung an."
   ]
  },
  {
   "cell_type": "code",
   "execution_count": null,
   "metadata": {},
   "outputs": [],
   "source": [
    "zahl = 1234\n",
    "zahl = zahl.upper()"
   ]
  },
  {
   "cell_type": "code",
   "execution_count": null,
   "metadata": {},
   "outputs": [],
   "source": []
  }
 ],
 "metadata": {
  "kernelspec": {
   "display_name": "Python 3 (ipykernel)",
   "language": "python",
   "name": "python3"
  },
  "language_info": {
   "codemirror_mode": {
    "name": "ipython",
    "version": 3
   },
   "file_extension": ".py",
   "mimetype": "text/x-python",
   "name": "python",
   "nbconvert_exporter": "python",
   "pygments_lexer": "ipython3",
   "version": "3.10.2"
  }
 },
 "nbformat": 4,
 "nbformat_minor": 4
}
