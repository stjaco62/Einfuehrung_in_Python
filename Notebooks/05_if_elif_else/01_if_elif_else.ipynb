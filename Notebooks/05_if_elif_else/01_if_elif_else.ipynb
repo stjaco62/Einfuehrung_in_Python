{
 "cells": [
  {
   "cell_type": "markdown",
   "metadata": {},
   "source": [
    "# Bedingte Anweisungen\n",
    " ## Voraussetzungen\n",
    "  Diese Einheit setzt voraus, dass Sie folgende Inhalte kennen: [Variablen](../20_variables_and_datatypes/10_variables.ipynb), [Ein- und Ausgabe](../20_variables_and_datatypes/20_in_and_output.ipynb), [primitive Datentypen](../20_variables_and_datatypes/30_datatypes.ipynb)."
   ]
  },
  {
   "cell_type": "markdown",
   "metadata": {},
   "source": [
    " ## Motivation\n",
    " Alle Ihre bisherigen Programme umfassen eine Sequenz von Anweisungen. Nach dem\n",
    " Start des Programms wurden die Anweisungen Schritt für Schritt abgearbeitet und das\n",
    " Programm danach beendet.\n",
    " Häufig ist es jdeoch notwendig, dass Teile eines Programms nur unter bestimmten Bedingungen ausgeführt werden.\n",
    " Zum Beispiel soll folgender Satz in ein [Pseudo-Code](https://de.wikipedia.org/wiki/Pseudocode) Programm\n",
    " überführt werden.\n",
    " > Wenn es morgen regnet, werde ich den Keller entrümpeln. Dann werde ich die Schränke aufräumen und die Fotos\n",
    " > sortieren. Ansonsten werde ich schwimmen gehen. Abends gehe ich mit meiner Frau ins Kino.\n",
    "\n",
    " Durch die textuelle Beschreibung ist nicht genau klar, was gemacht werden soll. Natürliche Sprache ist häufig\n",
    " unpräzise. Gemeint ist in diesem Beispiel vermutlich folgendes:\n",
    " ```\n",
    "    Wenn es morgen regnet, dann werde ich:\n",
    "       den Keller entrümpeln.\n",
    "       die Schränke aufräumen\n",
    "       die Fotos sortieren.\n",
    "    Ansonsten (also wenn es nicht regnet) werde ich:\n",
    "       schwimmen gehen.\n",
    "\n",
    "    Abends gehe ich mit meiner Frau ins Kino.\n",
    " ```\n",
    " Abhängig davon, ob die Bedingung wahr oder falsch ist, wird also entweder der eine oder der\n",
    "andere Pfad des Programms ausgeführt. Dies ist in folgender Graphik veranschaulicht.\n",
    " ![conditionals_2.png](./img/conditionals_2.png)"
   ]
  },
  {
   "cell_type": "markdown",
   "metadata": {},
   "source": [
    " ## Vergleichsoperatoren\n",
    " Für bedingte Anweisungen wird also eine Möglichkeit benötigt, Bedingungen zu formulieren. Hierzu\n",
    " können die Vergleichsoperatoren verwendet werden. Mit den in folgender Tabelle dargestellen Vergleichsoperatoren\n",
    " lassen sich Anweisungen formulieren, deren Ergebnis vom Datentyp `Boolean` ist. Wie bereits erläutert, kann der\n",
    " Datentyp `Boolean` nur die beiden Werte `True` und `False` annehmen.\n",
    "\n",
    " | Operator | Erklärung                    | Beispiel True        | Beispiel False       |\n",
    " |----------|------------------------------|----------------------|----------------------|\n",
    " | ==       | Prüfung auf Gleichheit       | 2 == 2               | 2 == 3               |\n",
    " | !=       | Prüfung auf Ungleichheit     | 2 != 3               | 2 != 2               |\n",
    " | <        | Prüfung auf \"Kleiner\"        | 2 < 3                | 3 < 2                |\n",
    " | >        | Prüfung auf \"Größer\"         | 3 > 2                | 2 > 3                |\n",
    " | <=       | Prüfung auf \"Kleiner gleich\" | 3 <= 3               | 3 <= 2               |\n",
    " | >=       | Prüfung auf \"Größer gleich\"  | 2 >= 2               | 2 >= 3               |\n",
    "\n",
    " ### Übung\n",
    " Machen Sie sich mit den Vergleichsoperatoren vertraut.\n",
    " Testen Sie auch komplexere Vergleiche, wie beispielsweise:\n",
    " ```python\n",
    " \"abc\" < \"abd\"\n",
    " \"abcd\" > \"abc\"\n",
    " 2 == 2.0\n",
    " 1 == True\n",
    " 0 != True\n",
    " ```"
   ]
  },
  {
   "cell_type": "code",
   "execution_count": 7,
   "metadata": {},
   "outputs": [
    {
     "data": {
      "text/plain": [
       "False"
      ]
     },
     "execution_count": 7,
     "metadata": {},
     "output_type": "execute_result"
    }
   ],
   "source": [
    "\"91\" < \"100\""
   ]
  },
  {
   "cell_type": "markdown",
   "metadata": {},
   "source": [
    " ## Bedingte Anweisungen\n",
    " Die Syntax für bedingte Anweisungen in Python ist:\n",
    " ```python\n",
    " if Bedingung:\n",
    "    Anweisung_1\n",
    "\n",
    "    Anweisung_n\n",
    " else:\n",
    "    Anweisung_1\n",
    "\n",
    "    Anweisung_m\n",
    " ```\n",
    "Eine Bedingung kann entweder wahr (`True`) oder falsch (`False`) sein. Im ersten Fall werden die\n",
    " Anweisungen direkt nach der Bedingung ausgeführt. Im zweiten Fall\n",
    " werden die Anweisungen nach `else` ausgeführt. Der `else`-Zweig ist optional, d.h. eine `if`-Bedingung kann auch ohne eine `else`-Alternative spezifiziert werden. Falls die Bedingung dann nicht zutrifft (also `False` ist), werden die Statements des `if`-Blocks einfach übersprungen."
   ]
  },
  {
   "cell_type": "code",
   "execution_count": 14,
   "metadata": {},
   "outputs": [
    {
     "name": "stdout",
     "output_type": "stream",
     "text": [
      "Bitte eine Zahl eingeben: 12\n"
     ]
    }
   ],
   "source": [
    "zahl = int(input(\"Bitte eine Zahl eingeben: \"))\n",
    "if zahl > 100:\n",
    "    print(zahl, \"ist größer als 100!\")\n",
    "\n"
   ]
  },
  {
   "cell_type": "code",
   "execution_count": 18,
   "metadata": {},
   "outputs": [
    {
     "name": "stdout",
     "output_type": "stream",
     "text": [
      "Bitte eine Zahl eingeben: 1\n",
      "1 ist kleiner oder gleich 100!\n",
      "Fertig\n"
     ]
    }
   ],
   "source": [
    "zahl = int(input(\"Bitte eine Zahl eingeben: \"))\n",
    "if zahl > 100:\n",
    "    print(zahl, \"ist größer als 100!\")\n",
    "else: \n",
    "    print(zahl, \"ist kleiner oder gleich 100!\")\n"
   ]
  },
  {
   "cell_type": "markdown",
   "metadata": {},
   "source": [
    "### Durch Einrücken werden die Grenzen von Code-Blöcken markiert\n",
    "Wie in den vorherigen Beispielen zu sehen ist werden in Python keine speziellen Sprachelemente zur Markierung von Code-Blöcken verwendet. (Andere Programmiersprachen verwenden hier Klammern oder Schlüsselworte wie \"begin\" und \"end\".) \n",
    "\n",
    "Als Code-Blöcke werden zusammengehörige Anweisungen\n",
    "bezeichent. Hier z.B. die Anweisungen im `if` oder `else`-Zweig der bedingten Anweisung.\n",
    "\n",
    "Stattdessen wird in Python die Einrückung zur Gruppierung von Anweisungen zu Code-Blöcken genutzt. Üblicherweise werden für die Einrückung Leerzeichen verwendet.\n",
    "\n",
    "Das Einrücken hat also eine Bedeutung! Daher dürfen Sie in einem Programm auch nicht willkürlich einrücken. Führen Sie den Code in der folgenden beiden Zellen aus. Überlegen Sie zuerst was passiert. "
   ]
  },
  {
   "cell_type": "code",
   "execution_count": 19,
   "metadata": {},
   "outputs": [
    {
     "ename": "IndentationError",
     "evalue": "unexpected indent (2362021268.py, line 2)",
     "output_type": "error",
     "traceback": [
      "\u001b[0;36m  Input \u001b[0;32mIn [19]\u001b[0;36m\u001b[0m\n\u001b[0;31m    b = 4\u001b[0m\n\u001b[0m    ^\u001b[0m\n\u001b[0;31mIndentationError\u001b[0m\u001b[0;31m:\u001b[0m unexpected indent\n"
     ]
    }
   ],
   "source": [
    "a = 3\n",
    "    b = 4\n",
    "print(a + b)"
   ]
  },
  {
   "cell_type": "code",
   "execution_count": 20,
   "metadata": {},
   "outputs": [
    {
     "ename": "IndentationError",
     "evalue": "expected an indented block after 'if' statement on line 2 (1748088127.py, line 3)",
     "output_type": "error",
     "traceback": [
      "\u001b[0;36m  Input \u001b[0;32mIn [20]\u001b[0;36m\u001b[0m\n\u001b[0;31m    print(\"Zahl ist größer als 0\")\u001b[0m\n\u001b[0m    ^\u001b[0m\n\u001b[0;31mIndentationError\u001b[0m\u001b[0;31m:\u001b[0m expected an indented block after 'if' statement on line 2\n"
     ]
    }
   ],
   "source": [
    "zahl = 100\n",
    "if zahl > 0:\n",
    "print(\"Zahl ist größer als 0\")"
   ]
  },
  {
   "cell_type": "markdown",
   "metadata": {},
   "source": [
    "Schauen Sie sich im folgenden Code die letzte Anweisung `print(\"Fertig\")` an. Diese ist nicht eingerückt. Was bedeutet das für das Programm? Verändern Sie das Programm und rücken das letzte Statement ein (genau unter das andere print). Wie verändert sich jetzt der Ablauf des Programms?"
   ]
  },
  {
   "cell_type": "code",
   "execution_count": null,
   "metadata": {},
   "outputs": [],
   "source": [
    "zahl = int(input(\"Bitte eine Zahl eingeben: \"))\n",
    "if zahl > 100:\n",
    "    print(zahl, \"ist größer als 100!\")\n",
    "else: \n",
    "    print(zahl, \"ist kleiner oder gleich 100!\")\n",
    "print(\"Fertig\")"
   ]
  },
  {
   "cell_type": "markdown",
   "metadata": {},
   "source": [
    "### Mehrere Bedingungen\n",
    "Zusätzlich ist es möglich, nacheinander mehrere Bedingungen zu prüfen. Die Sysntax hierzu ist:\n",
    " ```python\n",
    " if Bedingung_A:\n",
    "     Anweisung_1\n",
    " elif Bedingung_B:\n",
    "     Answeisung_2\n",
    " elif Bedingung_C:\n",
    "     Anweisung_3\n",
    " else:\n",
    "     Anweisung_4\n",
    " Anweisung_5\n",
    " ```\n",
    " In diesem Falle werden die Bedingungen der Reihe nach geprüft. Bei der ersten wahren Bedingung\n",
    " wird der zugehörige Code-Block (die  eingerückten Anweisungen) ausgeführt.\n",
    " Der Code-Block nach dem `else` wird nur ausgeführt, wenn keine Bedingung wahr war.\n",
    " Wurde ein Code-Block ausgeführt, werden keine weiteren Bedingungen geprüft. Die Reihenfolge\n",
    " der Bedingungen kann somit entscheidend sein. Dies wird in den nachfolgenden Beispielen veranschaulicht."
   ]
  },
  {
   "cell_type": "code",
   "execution_count": 23,
   "metadata": {},
   "outputs": [
    {
     "name": "stdout",
     "output_type": "stream",
     "text": [
      "Wieviel Grad Celsius ist es? 10\n",
      "kalt\n"
     ]
    }
   ],
   "source": [
    "temperatur = int(input(\"Wieviel Grad Celsius ist es? \"))\n",
    "\n",
    "if temperatur > 30:\n",
    "    print(\"heiss\")\n",
    "elif temperatur > 20:\n",
    "    print(\"warm\")\n",
    "else:\n",
    "    print(\"kalt\")\n",
    "\n"
   ]
  },
  {
   "cell_type": "code",
   "execution_count": 24,
   "metadata": {},
   "outputs": [
    {
     "name": "stdout",
     "output_type": "stream",
     "text": [
      "Wieviel Grad Celsius ist es? 34\n",
      "warm\n"
     ]
    }
   ],
   "source": [
    "temperatur = int(input(\"Wieviel Grad Celsius ist es? \"))\n",
    "\n",
    "if temperatur > 20:\n",
    "    print(\"warm\")\n",
    "elif temperatur > 30:\n",
    "    print(\"heiss\")\n",
    "else:\n",
    "    print(\"kalt\")\n"
   ]
  },
  {
   "cell_type": "markdown",
   "metadata": {},
   "source": [
    "## Komplexe Bedingungen\n",
    "Wie bei der Einführung zu den primitiven Datentypen gezeigt, können mit den Operatoren `and`, `or` und `not`\n",
    "komplexe Ausdrücke erstellt werden. Diese Operatoren können also verwendet werden, um\n",
    "komplexe Bedingungen zu formulieren, die aus verschiedenen Vergleichen bestehen. Auch hier können\n",
    "Klammern zur Gruppierung verwendet werden."
   ]
  },
  {
   "cell_type": "code",
   "execution_count": 26,
   "metadata": {},
   "outputs": [
    {
     "name": "stdout",
     "output_type": "stream",
     "text": [
      "Bitte eine Zahl eingeben: 30\n"
     ]
    }
   ],
   "source": [
    "zahl = int(input(\"Bitte eine Zahl eingeben: \"))\n",
    "if (zahl % 3 == 0) and (zahl % 5 == 0) and not(zahl % 2 == 0):\n",
    "    print(zahl, \"ist durch 3 und 5 teilbar.\")"
   ]
  },
  {
   "cell_type": "markdown",
   "metadata": {},
   "source": [
    " ## Verschachtelung\n",
    " Bedingte Anweisungen können verschachtelt werden. Das heißt eine `if`-Anweisung kann selbst ein oder\n",
    " mehrere `if`-Anweisungen enthalten. Das wird manchmal benötigt um mehrere Bedingungen nacheinander\n",
    " zu prüfen."
   ]
  },
  {
   "cell_type": "code",
   "execution_count": 28,
   "metadata": {},
   "outputs": [
    {
     "name": "stdout",
     "output_type": "stream",
     "text": [
      "Bitte aktuelle Temperatur eingeben: 25\n",
      "Es ist warm\n",
      "Warm und trocken, schön!\n",
      "Warm, trocken, windstill: Einfach nur in der Sonne liegen\n"
     ]
    }
   ],
   "source": [
    "temperatur = int(input(\"Bitte aktuelle Temperatur eingeben: \"))\n",
    "regen = False\n",
    "wind = False\n",
    "\n",
    "if temperatur > 20:\n",
    "    print(\"Es ist warm\")\n",
    "    if regen:\n",
    "        print(\"Sommer in Aachen, warmer Regen\")\n",
    "        if wind:\n",
    "            print(\"Es ist warm, es regnet und der Wind weht!\")\n",
    "        else:\n",
    "            print(\"Warm, Regen, windstill\")\n",
    "    else:\n",
    "        print(\"Warm und trocken, schön!\")\n",
    "        if wind:\n",
    "            print(\"Warm und trocken und windig: Gutes Segelwetter\")\n",
    "        else:\n",
    "            print(\"Warm, trocken, windstill: Einfach nur in der Sonne liegen\")\n",
    "else:\n",
    "    print(\"Wenn es kalt ist, sind mir Regen und Wind egal\")"
   ]
  },
  {
   "cell_type": "markdown",
   "metadata": {},
   "source": [
    " ## Übung\n",
    " Untersuchen Sie das vorherige Beispiel und überlegen Sie , warum die Bedingungen verschachtelt wurden.\n",
    " Wäre es möglich das Programm so umzuschreiben, dass keine Verschachtelungen notwendig sind? Versuchen Sie es ..."
   ]
  },
  {
   "cell_type": "code",
   "execution_count": null,
   "metadata": {},
   "outputs": [],
   "source": []
  },
  {
   "cell_type": "markdown",
   "metadata": {},
   "source": [
    " ## Übung\n",
    " Schreiben Sie ein Programm, dass die Eingabe an einem Geldautomaten simuliert. Hierzu sind folgende Schritte\n",
    " durchzuführen:\n",
    " - Fragen Sie zuerst nach der PIN\n",
    " - Vergleichen Sie die Eingabe mit einer von Ihnen gewählten Konstanten.\n",
    " - Die folgenden Schritte werden nur ausgeführt, wenn die korrekte PIN eingegeben wurde:\n",
    "     - Fragen Sie, wieviel Geld abgehoben werden soll.\n",
    "     - Vergleichen Sie den Betrag mit einem fixen Kontostand.\n",
    "     - Wenn das Konto gedeckt ist geben Sie einen entsprechende Ausgabe (\"Geld wird ausgegeben\") und den neuen Kontostand aus.\n",
    "     - Wenn das Konto nicht gedeckt ist, geben Sie eine entsprechende Fehlermeldung aus.\n",
    " - Falls die PIN falsch eingegeben wurde, wird eine Fehlermeldung ausgegeben."
   ]
  },
  {
   "cell_type": "code",
   "execution_count": 35,
   "metadata": {},
   "outputs": [
    {
     "name": "stdout",
     "output_type": "stream",
     "text": [
      "Bitte PIN eingeben! wert\n"
     ]
    },
    {
     "ename": "ValueError",
     "evalue": "invalid literal for int() with base 10: 'wert'",
     "output_type": "error",
     "traceback": [
      "\u001b[0;31m---------------------------------------------------------------------------\u001b[0m",
      "\u001b[0;31mValueError\u001b[0m                                Traceback (most recent call last)",
      "Input \u001b[0;32mIn [35]\u001b[0m, in \u001b[0;36m<cell line: 5>\u001b[0;34m()\u001b[0m\n\u001b[1;32m      1\u001b[0m PIN \u001b[38;5;241m=\u001b[39m \u001b[38;5;241m1234\u001b[39m\n\u001b[1;32m      2\u001b[0m Kontostand \u001b[38;5;241m=\u001b[39m \u001b[38;5;241m1000\u001b[39m\n\u001b[0;32m----> 5\u001b[0m eingabe_pin \u001b[38;5;241m=\u001b[39m \u001b[38;5;28;43mint\u001b[39;49m\u001b[43m(\u001b[49m\u001b[38;5;28;43minput\u001b[39;49m\u001b[43m(\u001b[49m\u001b[38;5;124;43m\"\u001b[39;49m\u001b[38;5;124;43mBitte PIN eingeben! \u001b[39;49m\u001b[38;5;124;43m\"\u001b[39;49m\u001b[43m)\u001b[49m\u001b[43m)\u001b[49m\n\u001b[1;32m      6\u001b[0m \u001b[38;5;28;01mif\u001b[39;00m eingabe_pin \u001b[38;5;241m==\u001b[39m PIN:\n\u001b[1;32m      7\u001b[0m     eingabe_geld \u001b[38;5;241m=\u001b[39m \u001b[38;5;28mint\u001b[39m(\u001b[38;5;28minput\u001b[39m(\u001b[38;5;124m\"\u001b[39m\u001b[38;5;124mWieviel Geld so abgehoben werden? \u001b[39m\u001b[38;5;124m\"\u001b[39m))\n",
      "\u001b[0;31mValueError\u001b[0m: invalid literal for int() with base 10: 'wert'"
     ]
    }
   ],
   "source": [
    "PIN = 1234\n",
    "Kontostand = 1000\n",
    "\n",
    "\n",
    "eingabe_pin = int(input(\"Bitte PIN eingeben! \"))\n",
    "if eingabe_pin == PIN:\n",
    "    eingabe_geld = int(input(\"Wieviel Geld so abgehoben werden? \"))\n",
    "    if eingabe_geld <= Kontostand:\n",
    "        print(\"Hier sind\", eingabe_geld, \"Euro.\")\n",
    "        Kontostand -= eingabe_geld\n",
    "        print(\"Neuer Kontostand: \", Kontostand, \"Euro.\")\n",
    "    else:\n",
    "        print(\"So viel Geld ist nicht auf dem Konto.\")\n",
    "        \n",
    "else:\n",
    "    print(\"Die PIN stimmt nicht! Programm-Abbruch.\")\n",
    "\n"
   ]
  },
  {
   "cell_type": "markdown",
   "metadata": {},
   "source": [
    " ## Prüfung von Eingaben\n",
    " Mit Hilfe von `input()` können Sie Eingaben vom Benutzer einlesen. Der Datentyp der Eingabe ist immer `String`.\n",
    " Mit Hilfe der Funktionen int(), bool()usw. können Sie den Datentyp konvertieren. Wir haben bisher\n",
    " häufig folgende Anweisung verwendet.\n",
    " Was passiert, wenn der eingegebene Wert nicht in ein Zahl konvertierbar ist (z.B. bei der Eingabe von 'zwanzig')?"
   ]
  },
  {
   "cell_type": "code",
   "execution_count": 36,
   "metadata": {},
   "outputs": [
    {
     "name": "stdout",
     "output_type": "stream",
     "text": [
      "Bitte eine Zahl eingeben:wrtewrtwe\n"
     ]
    },
    {
     "ename": "ValueError",
     "evalue": "invalid literal for int() with base 10: 'wrtewrtwe'",
     "output_type": "error",
     "traceback": [
      "\u001b[0;31m---------------------------------------------------------------------------\u001b[0m",
      "\u001b[0;31mValueError\u001b[0m                                Traceback (most recent call last)",
      "Input \u001b[0;32mIn [36]\u001b[0m, in \u001b[0;36m<cell line: 1>\u001b[0;34m()\u001b[0m\n\u001b[0;32m----> 1\u001b[0m zahl \u001b[38;5;241m=\u001b[39m \u001b[38;5;28;43mint\u001b[39;49m\u001b[43m(\u001b[49m\u001b[38;5;28;43minput\u001b[39;49m\u001b[43m(\u001b[49m\u001b[38;5;124;43m\"\u001b[39;49m\u001b[38;5;124;43mBitte eine Zahl eingeben:\u001b[39;49m\u001b[38;5;124;43m\"\u001b[39;49m\u001b[43m)\u001b[49m\u001b[43m)\u001b[49m\n",
      "\u001b[0;31mValueError\u001b[0m: invalid literal for int() with base 10: 'wrtewrtwe'"
     ]
    }
   ],
   "source": [
    "zahl = int(input(\"Bitte eine Zahl eingeben:\"))\n"
   ]
  },
  {
   "cell_type": "markdown",
   "metadata": {},
   "source": [
    " Um den Abbruch des Programms und die Fehlermedung zu verhinden, muss geprüft werden, ob sich die Eingabe\n",
    " in einen bestimmten Datentyp konvertieren lässt. Dazu stehen in Python verschiedene\n",
    " [`String`-Methoden](https://docs.python.org/3/library/stdtypes.html#string-methods) zur verfügung:\n",
    "     - isdecimal()\n",
    "     - isalpha()\n",
    "     - isspace()\n",
    " Alle diese `.issomething()` Methoden liefern als Rückgabewert einen boolschen Wert (True oder False).\n",
    " Somit können sie verwendet werden, um zu prüfen, ob ein String konvertiert werden kann."
   ]
  },
  {
   "cell_type": "code",
   "execution_count": 41,
   "metadata": {},
   "outputs": [
    {
     "name": "stdout",
     "output_type": "stream",
     "text": [
      "Geben Sie bitte eine Zahl ein 1000 000 000\n",
      "Sorry, das war keine Zahl\n"
     ]
    }
   ],
   "source": [
    "zahl = input(\"Geben Sie bitte eine Zahl ein \")\n",
    "\n",
    "if zahl.isdigit():\n",
    "    zahl = int(zahl)\n",
    "    print(\"Sehr schön,\", zahl, \"ist meine Lieblingszahl\")\n",
    "else:\n",
    "    print(\"Sorry, das war keine Zahl\")\n"
   ]
  },
  {
   "cell_type": "markdown",
   "metadata": {},
   "source": [
    " ## Aufgabe\n",
    " Ein Kalenderjahr hat bekanntlich 365 oder 366 Tage. Nach dem Gregorianischen Kalenderjahr dauert ein Jahr exakt 365.2425 Tage, also 365 Tage, 5 Stunden, 49 Minuten, 12 Sekunden oder anders ausgedrückt: 31.556.952 Sekunden. Man sieht, dass ein Jahr also grob gesprochen einen Viertel Tag länger ist als 365 Tage.\n",
    " Um diesen Unterschied zu beheben, hat man Schalttage eingefügt. Alle vier Jahre wird mit dem 29. Februar ein Schalttag eingefügt.\n",
    " Allerdings machen wir damit einen neuen kleinen „Fehler”, denn nun haben wir einen Hunderstel Tag zuviel. Aus diesem Grunde wird alle Hundert Jahre – und zwar, wenn die Jahreszahl durch Hundert teilbar ist – auf einen Schalttag verzichtet. So war beispielsweise das Jahr 1900 kein Schaltjahr, obwohl es durch vier teilbar war.\n",
    " Man benötigt jedoch noch alle 400 Jahre ein weiteres Korrektiv, dann wird ein Schalttag eingefügt, obwohl die Jahreszahl durch Hundert teilbar ist. Nach dieser Regel war das Jahr 2000 ein Schaltjahr.\n",
    " <br>\n",
    " Schreiben Sie nun ein Python-Programm, das berechnet, ob eine gegebene Jahreszahl ein Schaltjahr ist oder nicht."
   ]
  },
  {
   "cell_type": "code",
   "execution_count": null,
   "metadata": {},
   "outputs": [],
   "source": [
    "jahr = int(input(\"Bitte Jahr eingeben: \"))\n",
    "\n",
    "if jahr % 4 == 0:\n",
    "    if jahr % 100 == 0:\n",
    "        if jahr % 400 == 0:\n",
    "            print(jahr, \"ist ein Schaltjahr\")\n",
    "        else:\n",
    "            print(jahr, \"ist kein Schaltjahr\")\n",
    "    else:\n",
    "        print(jahr, \"ist Schaltjahr\")\n",
    "else:\n",
    "    print(jahr, \"ist kein Schaltjahr\")\n",
    "\n"
   ]
  },
  {
   "cell_type": "code",
   "execution_count": null,
   "metadata": {},
   "outputs": [],
   "source": [
    "jahr = int(input(\"Bitte Jahr eingeben: \"))\n",
    "\n",
    "if ((jahr % 4 == 0) and (jahr % 100 != 0)) or (jahr % 400 == 0):\n",
    "    print(jahr, \"ist Schaltjahr\")\n",
    "else:\n",
    "    print(jahr, \"ist kein Schaltjahr\")"
   ]
  },
  {
   "cell_type": "code",
   "execution_count": null,
   "metadata": {},
   "outputs": [],
   "source": [
    "jahr = int(input(\"Bitte Jahr eingeben: \"))\n",
    "\n",
    "if jahr % 400 == 0:\n",
    "    print(jahr, \"ist Schaljahr\")\n",
    "elif jahr % 100 == 0:\n",
    "    print(jahr, \"ist kein Schaltjahr\")\n",
    "elif jahr % 4 == 0:\n",
    "    print(jahr, \"ist Schaljahr\")\n",
    "else:\n",
    "    print(jahr, \"ist kein Schaltjahr\")"
   ]
  }
 ],
 "metadata": {
  "file_extension": ".py",
  "kernelspec": {
   "display_name": "Python 3 (ipykernel)",
   "language": "python",
   "name": "python3"
  },
  "language_info": {
   "codemirror_mode": {
    "name": "ipython",
    "version": 3
   },
   "file_extension": ".py",
   "mimetype": "text/x-python",
   "name": "python",
   "nbconvert_exporter": "python",
   "pygments_lexer": "ipython3",
   "version": "3.10.2"
  },
  "mimetype": "text/x-python",
  "name": "python",
  "npconvert_exporter": "python",
  "pygments_lexer": "ipython3",
  "version": 3
 },
 "nbformat": 4,
 "nbformat_minor": 2
}
