{
 "cells": [
  {
   "cell_type": "markdown",
   "metadata": {},
   "source": [
    "# Hausaufgaben: if-else, Listen, for-Schleife\n",
    "Im Folgenden finden Sie eine Reihe von Aufgaben. Wie letztes Mal bitte die entsprechenden Zellen ausfüllen und das Notebook auf Ilias hochladen."
   ]
  },
  {
   "cell_type": "markdown",
   "metadata": {},
   "source": [
    "### Aufgabe 2: Welche Zahlen in der Liste sind gerade?\n",
    "Gegeben ist die Liste `l1` voller Zufallszahlen. Welche der Zahlen sind durch zwei teilbar? Geben Sie die durch 2 teilbaren Zahlen der Reiche nach aus."
   ]
  },
  {
   "cell_type": "code",
   "execution_count": null,
   "metadata": {},
   "outputs": [],
   "source": [
    "l1 = [199, 339, 269, 464, 522, 634, 591, 863, 102, 31, 835, 40, 180, 655, 44, 478, 449, 833, 569, 423, 104, 27, 467, 668, 317, 413, 664, 111, 920, 561, 193, 29, 563, 841, 441, 92, 986, 905, 85, 555, 978, 140, 443, 628, 175, 549, 98, 424, 745, 63, 24, 38, 92, 80, 610, 73, 966, 934, 385, 892, 210, 471, 752, 55, 310, 478, 921, 864, 620, 973, 219, 650, 922, 893, 103, 789, 271, 894, 117, 588, 473, 823, 44, 102, 538, 620, 138, 569, 842, 378, 458, 535, 547, 913, 388, 710, 476, 352, 764, 162, 301, 435, 257, 934, 769, 365, 300, 947, 509, 48, 817, 338, 734, 808, 895, 613, 28, 269, 638, 290, 398, 66, 887]\n",
    "\n",
    "for zahl in l1:\n",
    "    if zahl % 2 == 0:\n",
    "        print(zahl)"
   ]
  },
  {
   "cell_type": "markdown",
   "metadata": {},
   "source": [
    "### Aufgabe 3: Erzeugen Sie Teillisten aus der geraden und ungeraden Zahlen\n",
    "Gegeben ist die gleiche Liste wie eben. Erzeugen Sie die Liste `gl` der geraden Zahlen aus `l1` sowie die Liste `ul` der ungeraden Zahlen aus `l1`. Geben Sie die Anzahl der Elemente beider Liste (die Länge der Liste!) aus."
   ]
  },
  {
   "cell_type": "code",
   "execution_count": null,
   "metadata": {},
   "outputs": [],
   "source": [
    "l1 = [199, 339, 269, 464, 522, 634, 591, 863, 102, 31, 835, 40, 180, 655, 44, 478, 449, 833, 569, 423, 104, 27, 467, 668, 317, 413, 664, 111, 920, 561, 193, 29, 563, 841, 441, 92, 986, 905, 85, 555, 978, 140, 443, 628, 175, 549, 98, 424, 745, 63, 24, 38, 92, 80, 610, 73, 966, 934, 385, 892, 210, 471, 752, 55, 310, 478, 921, 864, 620, 973, 219, 650, 922, 893, 103, 789, 271, 894, 117, 588, 473, 823, 44, 102, 538, 620, 138, 569, 842, 378, 458, 535, 547, 913, 388, 710, 476, 352, 764, 162, 301, 435, 257, 934, 769, 365, 300, 947, 509, 48, 817, 338, 734, 808, 895, 613, 28, 269, 638, 290, 398, 66, 887]\n",
    "\n",
    "gl = []\n",
    "ul = []\n",
    "for zahl in l1:\n",
    "    if zahl % 2 == 0:\n",
    "        gl.append(zahl)\n",
    "    else:\n",
    "        ul.append(zahl)\n",
    "        \n",
    "print(gl)\n",
    "print(ul)\n",
    "\n",
    "print(len(l1), len(ul), len(gl))"
   ]
  },
  {
   "cell_type": "markdown",
   "metadata": {},
   "source": [
    "### Aufgabe 4: Die Zeichen der ASCII-Tabelle in eine Liste schreiben\n",
    "Die Funktion `chr()` gibt zu einer Zahl zwischen 0 und 127 das zugehörige Zeichen aus der ASCII-Tabelle aus. Beispielsweise ist `chr(48)` die Ziffer `0` und `chr(65)` der Buchstabe `A`. Ab 33 liegen *normale* Zeichen, vorher kommen Steuersymbole für eine Schreibmaschine. Erstellen Sie ein Programm, dass die Zeichen der ASCII-Tabelle von Position 33 bis Position 127 in eine Liste schreibt. Geben Sie die Liste anschließend mit `print()` aus. Hinweis: Lassen Sie eine `for`Schleife über einen `range` der entsprechenden Sequenz laufen. Bestimmen Sie die Zeichen mit `chr()` und fügen Sie diese in eine Liste ein."
   ]
  },
  {
   "cell_type": "code",
   "execution_count": null,
   "metadata": {},
   "outputs": [],
   "source": [
    "# Leere Liste erzeugen\n",
    "ascii = []\n",
    "\n",
    "# Liste füllen\n",
    "for i in range(33, 128):\n",
    "    char = chr(i)\n",
    "    ascii.append(char)\n",
    "\n",
    "# Liste ausgeben\n",
    "print(ascii)"
   ]
  },
  {
   "cell_type": "markdown",
   "metadata": {},
   "source": [
    "### Aufgabe 5: Liste von Listen erstellen¶\n",
    "\n",
    "Gegeben sind die gleichen Listen wie in Aufgabe 1. Dort sollten Sie aus allen Listenelementen eine einzige Liste erstellen. In dieser Aufgabe sollen Sie ein Liste der Listen, nicht eine Liste der Einzelelement erstellen.\n"
   ]
  },
  {
   "cell_type": "code",
   "execution_count": null,
   "metadata": {},
   "outputs": [],
   "source": [
    "l1 = [1, 2, 3, 4]\n",
    "l2 = [11, 12, 13, 14]\n",
    "l3 = [101, 102, 103, 104]\n",
    "\n",
    "list_of_lists = [l1, l2, l3]\n",
    "print(list_of_lists)"
   ]
  },
  {
   "cell_type": "markdown",
   "metadata": {},
   "source": [
    "### Aufgabe 6: Liste von Listen mit Hilfe von range erstellen ...\n",
    "Erstellen Sie eine Liste von Listen. Die erste Liste enthält die Werte [1, 2, ... 10], die zweite Liste die Werte [2, 4, ... 20], die zehnte Liste die Werte [10, 20, ... 100]. Diese zehn Listen sollen in eine übergeordnete Liste angeordnet werden. Man erhält im Grunde das kleine Ein-Mal-Eins.\n",
    "Hinweis: Am besten nutzen Sie zwei verschachtelte `for`-Schleifen mit zwei Laufvariablen `i` und`j`. "
   ]
  },
  {
   "cell_type": "code",
   "execution_count": null,
   "metadata": {},
   "outputs": [],
   "source": [
    "ein_mal_eins = []\n",
    "\n",
    "for i in range(1, 11):\n",
    "    l = []\n",
    "    for j in range(1, 11):\n",
    "        l.append(i * j)\n",
    "    ein_mal_eins.append(l)\n",
    "    \n",
    "for l in ein_mal_eins:\n",
    "    print(l)"
   ]
  },
  {
   "cell_type": "markdown",
   "metadata": {},
   "source": [
    "### Aufgabe 7: Range und Teilbarkeit \n",
    "Erstellen Sie ein Programm, dass alle Zahlen zwischen 1500 und 3000 die durch 5 und durch 7 teilbar sind ausgibt."
   ]
  },
  {
   "cell_type": "code",
   "execution_count": null,
   "metadata": {},
   "outputs": [],
   "source": [
    "for zahl in range(1500, 3001):\n",
    "    if zahl % 5 == 0 and zahl % 7 == 0:\n",
    "        print(zahl)"
   ]
  },
  {
   "cell_type": "markdown",
   "metadata": {},
   "source": [
    "### Aufgabe 8: Liste umdrehen\n",
    "Gegeben ist obige Liste. Erstellen Sie die Liste `l2` in der die gleichen Werte in umgekehrter Reihenfolge auftauchen also [887, 66, 398, ..., 339, 199]"
   ]
  },
  {
   "cell_type": "code",
   "execution_count": null,
   "metadata": {},
   "outputs": [],
   "source": [
    "l1 = [199, 339, 269, 464, 522, 634, 591, 863, 102, 31, 835, 40, 180, 655, 44, 478, 449, 833, 569, 423, 104, 27, 467, 668, 317, 413, 664, 111, 920, 561, 193, 29, 563, 841, 441, 92, 986, 905, 85, 555, 978, 140, 443, 628, 175, 549, 98, 424, 745, 63, 24, 38, 92, 80, 610, 73, 966, 934, 385, 892, 210, 471, 752, 55, 310, 478, 921, 864, 620, 973, 219, 650, 922, 893, 103, 789, 271, 894, 117, 588, 473, 823, 44, 102, 538, 620, 138, 569, 842, 378, 458, 535, 547, 913, 388, 710, 476, 352, 764, 162, 301, 435, 257, 934, 769, 365, 300, 947, 509, 48, 817, 338, 734, 808, 895, 613, 28, 269, 638, 290, 398, 66, 887]\n",
    "\n",
    "l2 = []\n",
    "for zahl in l1:\n",
    "    l2.insert(0, zahl)\n",
    "print(l2)"
   ]
  },
  {
   "cell_type": "code",
   "execution_count": null,
   "metadata": {},
   "outputs": [],
   "source": [
    "l1 = [199, 339, 269, 464, 522, 634, 591, 863, 102, 31, 835, 40, 180, 655, 44, 478, 449, 833, 569, 423, 104, 27, 467, 668, 317, 413, 664, 111, 920, 561, 193, 29, 563, 841, 441, 92, 986, 905, 85, 555, 978, 140, 443, 628, 175, 549, 98, 424, 745, 63, 24, 38, 92, 80, 610, 73, 966, 934, 385, 892, 210, 471, 752, 55, 310, 478, 921, 864, 620, 973, 219, 650, 922, 893, 103, 789, 271, 894, 117, 588, 473, 823, 44, 102, 538, 620, 138, 569, 842, 378, 458, 535, 547, 913, 388, 710, 476, 352, 764, 162, 301, 435, 257, 934, 769, 365, 300, 947, 509, 48, 817, 338, 734, 808, 895, 613, 28, 269, 638, 290, 398, 66, 887]\n",
    "\n",
    "l2 = []\n",
    "for i in range(len(l1)-1, -1, -1):\n",
    "    l2.append(l1[i])\n",
    "print(l2)"
   ]
  },
  {
   "cell_type": "code",
   "execution_count": null,
   "metadata": {},
   "outputs": [],
   "source": [
    "l1 = [199, 339, 269, 464, 522, 634, 591, 863, 102, 31, 835, 40, 180, 655, 44, 478, 449, 833, 569, 423, 104, 27, 467, 668, 317, 413, 664, 111, 920, 561, 193, 29, 563, 841, 441, 92, 986, 905, 85, 555, 978, 140, 443, 628, 175, 549, 98, 424, 745, 63, 24, 38, 92, 80, 610, 73, 966, 934, 385, 892, 210, 471, 752, 55, 310, 478, 921, 864, 620, 973, 219, 650, 922, 893, 103, 789, 271, 894, 117, 588, 473, 823, 44, 102, 538, 620, 138, 569, 842, 378, 458, 535, 547, 913, 388, 710, 476, 352, 764, 162, 301, 435, 257, 934, 769, 365, 300, 947, 509, 48, 817, 338, 734, 808, 895, 613, 28, 269, 638, 290, 398, 66, 887]\n",
    "\n",
    "l2 = []\n",
    "for i in range(len(l1)):\n",
    "    zahl = l1.pop()\n",
    "    l2.append(zahl)\n",
    "print(l2)\n",
    "print(l1)"
   ]
  },
  {
   "cell_type": "markdown",
   "metadata": {},
   "source": [
    "### Aufgabe 9: Elemente der Liste summieren\n",
    "Schreiben Sie ein Programm, das alle Zahlen der Liste aufsummiert. Dazu müssen Sie zuerst eine zusätzliche Variable `sum` initialisieren. (Warum 0?) Geben Sie die Summe am Ende aus."
   ]
  },
  {
   "cell_type": "code",
   "execution_count": null,
   "metadata": {},
   "outputs": [],
   "source": [
    "l1 = [199, 339, 269, 464, 522, 634, 591, 863, 102, 31, 835, 40, 180, 655, 44, 478, 449, 833, 569, 423, 104, 27, 467, 668, 317, 413, 664, 111, 920, 561, 193, 29, 563, 841, 441, 92, 986, 905, 85, 555, 978, 140, 443, 628, 175, 549, 98, 424, 745, 63, 24, 38, 92, 80, 610, 73, 966, 934, 385, 892, 210, 471, 752, 55, 310, 478, 921, 864, 620, 973, 219, 650, 922, 893, 103, 789, 271, 894, 117, 588, 473, 823, 44, 102, 538, 620, 138, 569, 842, 378, 458, 535, 547, 913, 388, 710, 476, 352, 764, 162, 301, 435, 257, 934, 769, 365, 300, 947, 509, 48, 817, 338, 734, 808, 895, 613, 28, 269, 638, 290, 398, 66, 887]\n",
    "\n",
    "summe = 0\n",
    "for zahl in l1:\n",
    "    summe += zahl\n",
    "print(summe)\n",
    "print(sum(l1))"
   ]
  }
 ],
 "metadata": {
  "kernelspec": {
   "display_name": "Python 3 (ipykernel)",
   "language": "python",
   "name": "python3"
  },
  "language_info": {
   "codemirror_mode": {
    "name": "ipython",
    "version": 3
   },
   "file_extension": ".py",
   "mimetype": "text/x-python",
   "name": "python",
   "nbconvert_exporter": "python",
   "pygments_lexer": "ipython3",
   "version": "3.10.2"
  }
 },
 "nbformat": 4,
 "nbformat_minor": 4
}
