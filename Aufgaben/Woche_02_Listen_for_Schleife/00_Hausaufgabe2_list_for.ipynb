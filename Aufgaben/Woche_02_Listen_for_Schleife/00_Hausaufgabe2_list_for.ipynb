{
 "cells": [
  {
   "cell_type": "markdown",
   "metadata": {},
   "source": [
    "# Hausaufgaben: Listen, for-Schleife\n",
    "Im Folgenden finden Sie eine Reihe von Aufgaben. Wie letztes Mal bitte die entsprechenden Zellen ausfüllen und das Notebook auf Ilias hochladen."
   ]
  },
  {
   "cell_type": "markdown",
   "metadata": {},
   "source": [
    "### Aufgabe 1: Listen zusammenfügen\n",
    "In der folgenden Zelle sind drei Listen definiert. Fügen Sie die drei Listen zu einer einzigen Liste zusammen."
   ]
  },
  {
   "cell_type": "code",
   "execution_count": null,
   "metadata": {},
   "outputs": [],
   "source": [
    "l1 = [1, 2, 3, 4]\n",
    "l2 = [11, 12, 13, 14]\n",
    "l3 = [101, 102, 103, 104]"
   ]
  },
  {
   "cell_type": "markdown",
   "metadata": {},
   "source": [
    "### Aufgabe 2: Welche Zahlen in der Liste sind gerade?\n",
    "Gegeben ist die Liste `l1` voller Zufallszahlen. Welche der Zahlen sind durch zwei teilbar? Geben Sie die durch 2 teilbaren Zahlen der Reihe nach aus."
   ]
  },
  {
   "cell_type": "code",
   "execution_count": null,
   "metadata": {},
   "outputs": [],
   "source": [
    "l1 = [199, 339, 269, 464, 522, 634, 591, 863, 102, 31, 835, 40, 180, 655, 44, 478, 449, 833, 569, 423, 104, 27, 467, 668, 317, 413, 664, 111, 920, 561, 193, 29, 563, 841, 441, 92, 986, 905, 85, 555, 978, 140, 443, 628, 175, 549, 98, 424, 745, 63, 24, 38, 92, 80, 610, 73, 966, 934, 385, 892, 210, 471, 752, 55, 310, 478, 921, 864, 620, 973, 219, 650, 922, 893, 103, 789, 271, 894, 117, 588, 473, 823, 44, 102, 538, 620, 138, 569, 842, 378, 458, 535, 547, 913, 388, 710, 476, 352, 764, 162, 301, 435, 257, 934, 769, 365, 300, 947, 509, 48, 817, 338, 734, 808, 895, 613, 28, 269, 638, 290, 398, 66, 887]\n"
   ]
  },
  {
   "cell_type": "markdown",
   "metadata": {},
   "source": [
    "### Aufgabe 3: Erzeugen Sie eine Teilliste aus der geraden Zahlen?\n",
    "Gegeben ist die gleiche Liste wie eben. Erzeugen Sie die Liste `gl` der geraden Zahlen aus `l1` sowie die Liste `ul` der ungeraden Zahlen aus `l1`. Geben Sie die Anzahl der Elemente beider Liste (die Länge der Liste!) aus."
   ]
  },
  {
   "cell_type": "code",
   "execution_count": null,
   "metadata": {},
   "outputs": [],
   "source": [
    "l1 = [199, 339, 269, 464, 522, 634, 591, 863, 102, 31, 835, 40, 180, 655, 44, 478, 449, 833, 569, 423, 104, 27, 467, 668, 317, 413, 664, 111, 920, 561, 193, 29, 563, 841, 441, 92, 986, 905, 85, 555, 978, 140, 443, 628, 175, 549, 98, 424, 745, 63, 24, 38, 92, 80, 610, 73, 966, 934, 385, 892, 210, 471, 752, 55, 310, 478, 921, 864, 620, 973, 219, 650, 922, 893, 103, 789, 271, 894, 117, 588, 473, 823, 44, 102, 538, 620, 138, 569, 842, 378, 458, 535, 547, 913, 388, 710, 476, 352, 764, 162, 301, 435, 257, 934, 769, 365, 300, 947, 509, 48, 817, 338, 734, 808, 895, 613, 28, 269, 638, 290, 398, 66, 887]\n",
    "\n"
   ]
  },
  {
   "cell_type": "markdown",
   "metadata": {},
   "source": [
    "### Aufgabe 4: Die Zeichen der ASCII-Tabelle in eine Liste schreiben\n",
    "Die Funktion `chr()` gibt zu einer Zahl zwischen 0 und 127 das zugehörige Zeichen aus der ASCII-Tabelle aus. Beispielsweise ist `chr(48)` die Ziffer `0` und `chr(65)` der Buchstabe `A`. Ab 33 liegen *normale* Zeichen, vorher kommen Steuersymbole für eine Schreibmaschine. Erstellen Sie ein Programm, dass die Zeichen der ASCII-Tabelle von Position 33 bis Position 127 in eine Liste schreibt. Geben Sie die Liste anschließend mit `print()` aus. Hinweis: Lassen Sie eine `for`Schleife über einen `range` der entsprechenden Sequenz laufen. Bestimmen Sie die Zeichen mit `chr()` und fügen Sie diese in eine Liste ein."
   ]
  },
  {
   "cell_type": "code",
   "execution_count": null,
   "metadata": {},
   "outputs": [],
   "source": []
  },
  {
   "cell_type": "markdown",
   "metadata": {},
   "source": [
    "### Aufgabe 5: Liste von Listen erstellen\n",
    "Gegeben sind die gleichen Listen wie in Aufgabe 1. Dort sollten Sie aus allen Listenelementen eine einzige Liste erstellen. In dieser Aufgabe sollen Sie ein Liste der Listen, **nicht** eine Liste der Einzelelement erstellen. "
   ]
  },
  {
   "cell_type": "code",
   "execution_count": null,
   "metadata": {},
   "outputs": [],
   "source": [
    "l1 = [1, 2, 3, 4]\n",
    "l2 = [11, 12, 13, 14]\n",
    "l3 = [101, 102, 103, 104]"
   ]
  },
  {
   "cell_type": "markdown",
   "metadata": {},
   "source": [
    "### Aufgabe 6: Liste von Listen mit Hilfe von range erstellen ...\n",
    "Erstellen Sie eine Liste von Listen. Die erste Liste enthält die Werte [1, 2, ... 10], die zweite Liste die Werte [2, 4, ... 20], die zehnte Liste die Werte [10, 20, ... 100]. Diese zehn Listen sollen in eine übergeordnete Liste angeordnet werden. Man erhält im Grunde das kleine Ein-Mal-Eins.\n",
    "Hinweis: Am besten nutzen Sie zwei verschachtelte `for`-Schleifen mit zwei Laufvariablen `i` und`j`. "
   ]
  },
  {
   "cell_type": "code",
   "execution_count": 9,
   "metadata": {},
   "outputs": [
    {
     "name": "stdout",
     "output_type": "stream",
     "text": [
      "1 2 3 4 5 6 7 8 9 10 \n",
      "2 4 6 8 10 12 14 16 18 20 \n",
      "3 6 9 12 15 18 21 24 27 30 \n",
      "4 8 12 16 20 24 28 32 36 40 \n",
      "5 10 15 20 25 30 35 40 45 50 \n",
      "6 12 18 24 30 36 42 48 54 60 \n",
      "7 14 21 28 35 42 49 56 63 70 \n",
      "8 16 24 32 40 48 56 64 72 80 \n",
      "9 18 27 36 45 54 63 72 81 90 \n",
      "10 20 30 40 50 60 70 80 90 100 \n"
     ]
    }
   ],
   "source": [
    "for i in range(1, 11):\n",
    "    for j in range(1, 11):\n",
    "        print(i*j, end=\" \")\n",
    "    print()"
   ]
  },
  {
   "cell_type": "markdown",
   "metadata": {},
   "source": [
    "### Aufgabe 7: Range und Teilbarkeit \n",
    "Erstellen Sie ein Programm, dass alle Zahlen zwischen 1500 und 3000 die durch 5 und durch 7 teilbar sind ausgibt."
   ]
  },
  {
   "cell_type": "code",
   "execution_count": null,
   "metadata": {},
   "outputs": [],
   "source": []
  },
  {
   "cell_type": "markdown",
   "metadata": {},
   "source": [
    "### Aufgabe 8: Liste umdrehen\n",
    "Gegeben ist obige Liste. Erstellen Sie die Liste `l2` in der die gleichen Werte in umgekehrter Reihenfolge auftauchen also [887, 66, 398, ..., 339, 199]"
   ]
  },
  {
   "cell_type": "code",
   "execution_count": 18,
   "metadata": {},
   "outputs": [
    {
     "name": "stdout",
     "output_type": "stream",
     "text": [
      "[887, 66, 398, 290, 638, 269, 28, 613, 895, 808, 734, 338, 817, 48, 509, 947, 300, 365, 769, 934, 257, 435, 301, 162, 764, 352, 476, 710, 388, 913, 547, 535, 458, 378, 842, 569, 138, 620, 538, 102, 44, 823, 473, 588, 117, 894, 271, 789, 103, 893, 922, 650, 219, 973, 620, 864, 921, 478, 310, 55, 752, 471, 210, 892, 385, 934, 966, 73, 610, 80, 92, 38, 24, 63, 745, 424, 98, 549, 175, 628, 443, 140, 978, 555, 85, 905, 986, 92, 441, 841, 563, 29, 193, 561, 920, 111, 664, 413, 317, 668, 467, 27, 104, 423, 569, 833, 449, 478, 44, 655, 180, 40, 835, 31, 102, 863, 591, 634, 522, 464, 269, 339, 199]\n"
     ]
    }
   ],
   "source": [
    "l1 = [199, 339, 269, 464, 522, 634, 591, 863, 102, 31, 835, 40, 180, 655, 44, 478, 449, 833, 569, 423, 104, 27, 467, 668, 317, 413, 664, 111, 920, 561, 193, 29, 563, 841, 441, 92, 986, 905, 85, 555, 978, 140, 443, 628, 175, 549, 98, 424, 745, 63, 24, 38, 92, 80, 610, 73, 966, 934, 385, 892, 210, 471, 752, 55, 310, 478, 921, 864, 620, 973, 219, 650, 922, 893, 103, 789, 271, 894, 117, 588, 473, 823, 44, 102, 538, 620, 138, 569, 842, 378, 458, 535, 547, 913, 388, 710, 476, 352, 764, 162, 301, 435, 257, 934, 769, 365, 300, 947, 509, 48, 817, 338, 734, 808, 895, 613, 28, 269, 638, 290, 398, 66, 887]\n",
    "\n",
    "l2 = []\n",
    "for ind in range(-1, -len(l1) - 1, -1):\n",
    "    l2.append(l1[ind])\n",
    "print(l2)"
   ]
  },
  {
   "cell_type": "code",
   "execution_count": null,
   "metadata": {},
   "outputs": [],
   "source": []
  },
  {
   "cell_type": "markdown",
   "metadata": {},
   "source": [
    "### Aufgabe 9: Elemente der Liste summieren\n",
    "Schreiben Sie ein Programm, das alle Zahlen der Liste aufsummiert. Dazu müssen Sie zuerst eine zusätzliche Variable `sum` initialisieren. (Warum 0?) Geben Sie die Summe am Ende aus."
   ]
  },
  {
   "cell_type": "code",
   "execution_count": null,
   "metadata": {},
   "outputs": [],
   "source": [
    "l1 = [199, 339, 269, 464, 522, 634, 591, 863, 102, 31, 835, 40, 180, 655, 44, 478, 449, 833, 569, 423, 104, 27, 467, 668, 317, 413, 664, 111, 920, 561, 193, 29, 563, 841, 441, 92, 986, 905, 85, 555, 978, 140, 443, 628, 175, 549, 98, 424, 745, 63, 24, 38, 92, 80, 610, 73, 966, 934, 385, 892, 210, 471, 752, 55, 310, 478, 921, 864, 620, 973, 219, 650, 922, 893, 103, 789, 271, 894, 117, 588, 473, 823, 44, 102, 538, 620, 138, 569, 842, 378, 458, 535, 547, 913, 388, 710, 476, 352, 764, 162, 301, 435, 257, 934, 769, 365, 300, 947, 509, 48, 817, 338, 734, 808, 895, 613, 28, 269, 638, 290, 398, 66, 887]\n",
    "\n"
   ]
  }
 ],
 "metadata": {
  "kernelspec": {
   "display_name": "Python 3 (ipykernel)",
   "language": "python",
   "name": "python3"
  },
  "language_info": {
   "codemirror_mode": {
    "name": "ipython",
    "version": 3
   },
   "file_extension": ".py",
   "mimetype": "text/x-python",
   "name": "python",
   "nbconvert_exporter": "python",
   "pygments_lexer": "ipython3",
   "version": "3.12.2"
  }
 },
 "nbformat": 4,
 "nbformat_minor": 4
}
