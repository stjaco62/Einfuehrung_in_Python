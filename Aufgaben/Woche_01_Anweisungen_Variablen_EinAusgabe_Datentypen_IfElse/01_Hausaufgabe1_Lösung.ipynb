{
 "cells": [
  {
   "cell_type": "markdown",
   "metadata": {},
   "source": [
    "# Hausaufgaben Woche 1\n",
    "# Beispiellösungen\n",
    "### Anweisungen, Variablen, Ein- und Ausgabe, Datentypen\n",
    "Die folgenden Hausaufgaben sind in Form eines Jupyter-Notebooks gestaltet. Programmieren können Sie die Zellen hinter den Aufgaben. Wenn Sie Fragen haben, fügen Sie gerne weitere Zellen hinzu und formulieren Sie Ihre Fragen dort. Oder schreiben Sie ins Forum. Oder schreiben Sie eine E-Mail. **Nur ungestellte Fragen sind dumme Fragen!**\n",
    "\n",
    "Laden Sie Ihr Notebook am Ende in den entsprechenden Aufgabenordner auf Ilias hoch. Beachten Sie die Abgabefrist.\n"
   ]
  },
  {
   "cell_type": "markdown",
   "metadata": {},
   "source": [
    "### Aufgabe 1: Quader berechnen\n",
    "Schreiben Sie ein Programm, das folgendes leistet: Per Eingabe `input()` werden drei Zahlen eingelesen, die die Kantenlänge eines Quaders repräsentieren. Berechnen Sie das Volumen und die Oberfläche des Quaders. Geben Sie einen entsprechenden Output.\n",
    "\n",
    "Denken Sie an die Umwandlung der Eingaben mit Hilfe einer entsprechenden Konvertierungsfunktion (Casting). \n",
    "\n",
    "Was passiert, wenn sie bei der Eingabe keine Zahl eingeben?"
   ]
  },
  {
   "cell_type": "code",
   "execution_count": null,
   "metadata": {},
   "outputs": [],
   "source": [
    "l = int(input(\"Bitte die Länge eingeben: \"))\n",
    "b = int(input(\"Bitte die Breite eingeben: \"))\n",
    "h = int(input(\"Bitte die Höhe eingeben: \"))\n",
    "\n",
    "v = l*b*h\n",
    "o = 2 * (l*b + l*h + b*h)\n",
    "\n",
    "print(v)\n",
    "print(o)"
   ]
  },
  {
   "cell_type": "markdown",
   "metadata": {},
   "source": [
    "### Aufgabe 2: Personendaten einlesen\n",
    "Fragen Sie nach typischen Daten eines neuen Kunden (Name, Vorname, Adresse, ...) und nehmen Sie die Daten mit Hilfe der Eingabe-Funktion auf und speichern Sie die Daten in einer entsprechenden Variable. Wenn alle Daten aufgenommen sind, geben Sie diese Daten in entsprechender Form zur Kontrolle wieder aus. Etwa in der Form:\n",
    "```\n",
    "Name: Jacobs\n",
    "Vorname: Stephan\n",
    "...\n",
    "```"
   ]
  },
  {
   "cell_type": "code",
   "execution_count": null,
   "metadata": {},
   "outputs": [],
   "source": [
    "name = input(\"Bitte Namen eingeben: \")\n",
    "vorname = input(\"Bitte Vornamen eingeben: \")\n",
    "stadt = input(\"Bitte Stadt eingeben: \")\n",
    "strasse = input(\"Bitte Straße eingeben: \")\n",
    "land = input(\"Bitte Land eingeben: \")\n",
    "\n",
    "print(\"Name: \", name)\n",
    "print(\"Vorname:\", vorname)\n",
    "print(\"Stadt:\", stadt)\n",
    "print(\"Straße: \", strasse)\n",
    "print(\"Land:\", land)\n"
   ]
  },
  {
   "cell_type": "markdown",
   "metadata": {},
   "source": [
    "### Aufgabe 3: Logische Funktion\n",
    "In einem Klassenzimmer soll das Fenster genau dann auf gemacht werden, wenn es warm ist und es **nicht** regnet. Über `input()` werden auf die Fragen *Ist es warm?* bzw. *Regnet es?* zwei boolsche Werte eingelesen. Denken Sie an die Konvertierung! Berechnen Sie mit einer boolschen Funktion, ob das Fenster geöffnet wird. Geben Sie diesen Wert über `print()` aus."
   ]
  },
  {
   "cell_type": "code",
   "execution_count": null,
   "metadata": {},
   "outputs": [],
   "source": [
    "# Kommentar: Für diese Aufgabe sind noch nicht die notwendigen Konstrukte\n",
    "# durchgenommen worden! Manchmal verwende ich solche Aufgaben, um auf \n",
    "# offene Punkte hinzuweisen, die dann in späteren Kapiteln geklärt werden.\n",
    "# Das Programm unten löst noch nicht die Aufgabe. Dazu wären noch weitere\n",
    "# Konstrukte notwendig. Es deutet aber an, in welche Richtung das nächste \n",
    "# Kapitel geht.\n",
    "\n",
    "temp = bool(input(\"Ist es warm? \"))\n",
    "#rain = bool(input(\"Regnet es? \"))\n",
    "\n",
    "if temp:\n",
    "    print(\"Fenster öffnen\")\n"
   ]
  },
  {
   "cell_type": "markdown",
   "metadata": {},
   "source": [
    "### Aufgabe 4: Temperatur umwandeln\n",
    "Für die Temperatur gibt es verschiedene Skalen: Celsius, Fahrenheit, Kelvin. Dabei kann die Temperatur aus der einen in eine andere Skala umgewandelt werden. Es gilt:\n",
    "- Celsius = 5/9 * (Fahrenheit - 32).\n",
    "- Celsius = Kelvin - 273.15.\n",
    "\n",
    "Schreiben Sie ein Programm, dass eine Temperatur in Fahrenheit erhält und diese in Celsius ausgibt. Schreiben Sie anschließend (in der nächsten Zelle) ein Programm, dass eine Temperatur in Celsius als Input erhält und in Fahrenheit und in Kelvin ausgibt. Welcher Datentyp bietet sich an?"
   ]
  },
  {
   "cell_type": "code",
   "execution_count": null,
   "metadata": {},
   "outputs": [],
   "source": [
    "fahr = float(input(\"Bitte Temperatur in Fahrenheit eingeben: \"))\n",
    "cels = (5/9) * (fahr - 32)\n",
    "print(cels)"
   ]
  },
  {
   "cell_type": "code",
   "execution_count": null,
   "metadata": {},
   "outputs": [],
   "source": [
    "cels = float(input(\"Bitte Temparatur in Celsius eingeben: \"))\n",
    "fahr = (9/5) * cels + 32\n",
    "kelv = cels + 273.15\n",
    "\n",
    "print(fahr)\n",
    "print(kelv)"
   ]
  },
  {
   "cell_type": "markdown",
   "metadata": {},
   "source": [
    "### Aufgabe 5: Mittelwert berechnen\n",
    "Geben Sie fünf Zahlen ein und berechnen Sie deren Mittelwert. Dieser wird am Ende ausgegeben."
   ]
  },
  {
   "cell_type": "code",
   "execution_count": null,
   "metadata": {},
   "outputs": [],
   "source": [
    "###### Erste Lösung mit fünf Variablen\n",
    "\n",
    "a = int(input(\"Bitte Zahl eingeben: \"))\n",
    "b = int(input(\"Bitte Zahl eingeben: \"))\n",
    "c = int(input(\"Bitte Zahl eingeben: \"))\n",
    "d = int(input(\"Bitte Zahl eingeben: \"))\n",
    "e = int(input(\"Bitte Zahl eingeben: \"))\n",
    "\n",
    "summe = a + b + c + d + e\n",
    "mw = summe/5\n",
    "\n",
    "print(summe)\n",
    "print(mw)"
   ]
  },
  {
   "cell_type": "code",
   "execution_count": null,
   "metadata": {},
   "outputs": [],
   "source": [
    "###### Statt fünf Variablen nutzen wir im Folgenden eine Summenvariable,\n",
    "# Die nach jeder Eingabe aufsummiert wird.\n",
    "summe = 0\n",
    "a = int(input(\"Bitte Zahl eingeben: \"))\n",
    "summe = summe + a\n",
    "a = int(input(\"Bitte Zahl eingeben: \"))\n",
    "summe = summe + a\n",
    "a = int(input(\"Bitte Zahl eingeben: \"))\n",
    "summe = summe + a\n",
    "a = int(input(\"Bitte Zahl eingeben: \"))\n",
    "summe = summe + a\n",
    "a = int(input(\"Bitte Zahl eingeben: \"))\n",
    "summe = summe + a\n",
    "\n",
    "mw = summe/5\n",
    "\n",
    "print(summe)\n",
    "print(mw)\n"
   ]
  },
  {
   "cell_type": "code",
   "execution_count": null,
   "metadata": {},
   "outputs": [],
   "source": [
    "###### Tatsächlich kann auf die Variable a verzichtet und die \n",
    "# Summe direkt berechnet werden. Nach der Initialisierung (sum = 0) folgt\n",
    "# besteht die Aufsummierung nur noch aus der immer wieder gleichen Zeile.\n",
    "# Wenn man den Mittelwert für eine beliebige Anzahl von Zahlen berechnen \n",
    "# möchte, muss man die Anzahl der Wiederholungen dieser Zeile entsprechend\n",
    "# anpassen. Dazu bräuchte man noch ein Konstrukt, so dass man die gleiche\n",
    "# Zeile nicht immer wieder hinschreibt. Dieses Konstrukt heißt \"Schleife\"\n",
    "# und wird in den kommenden Wochen eingeführt werden.\n",
    "\n",
    "summe = 0\n",
    "summe += int(input(\"Bitte Zahl eingeben: \"))\n",
    "summe += int(input(\"Bitte Zahl eingeben: \"))\n",
    "summe += int(input(\"Bitte Zahl eingeben: \"))\n",
    "summe += int(input(\"Bitte Zahl eingeben: \"))\n",
    "summe += int(input(\"Bitte Zahl eingeben: \"))\n",
    "\n",
    "mw = summe/5\n",
    "\n",
    "print(summe)\n",
    "print(mw)"
   ]
  },
  {
   "cell_type": "markdown",
   "metadata": {},
   "source": [
    "### Aufgabe 6: Ist eingegebene Zahl gerade?\n",
    "Über `input()` wird eine Zahl eingelesen. Sie überprüfen, ob diese Zahl gerade oder ungerade ist. Je nachdem wird über `print()` ausgegeben z.B. \"6 ist gerade\" oder \"71 ist ungerade\".\n",
    "Wie kann man überprüfen ob eine Zahl gerade ist? Das ist das gleich wie durch 2 teilbar. Und die Teilbarkeit können Sie mit Hilfe des Modulo-Operators `%`  überprüfen. Wenn `zahl % 2 == 0` dann ist diese Zahl durch 2 teilbar ansonsten nicht. (Die Teilbarkeit durch andere Zahlen geht ganz genauso.)"
   ]
  },
  {
   "cell_type": "code",
   "execution_count": null,
   "metadata": {},
   "outputs": [],
   "source": [
    "zahl = int(input(\"bitte eine Zahl: \"))\n",
    "\n",
    "if zahl % 2 == 0:\n",
    "    print(zahl, \" ist gerade\")\n",
    "else:\n",
    "    print(zahl, \" ist ungerade\")"
   ]
  },
  {
   "cell_type": "markdown",
   "metadata": {},
   "source": [
    "### Aufgabe 7: Drei Zahlen mit if-else sortieren\n",
    "Lesen Sie drei Zahlen a, b, c ein und geben Sie diese von klein nach groß geordnet aus. Dabei dürfen Sie nur die Konstruktion `if-else` nutzen. Funktioniert Ihr Programm auch, wenn zwei Zahlen gleich groß sind?"
   ]
  },
  {
   "cell_type": "code",
   "execution_count": null,
   "metadata": {},
   "outputs": [],
   "source": [
    "a = int(input(\"Bitte eine Zahl eingeben: \"))\n",
    "b = int(input(\"Bitte eine Zahl eingeben: \"))\n",
    "c = int(input(\"Bitte eine Zahl eingeben: \"))\n",
    "\n",
    "if a > b:\n",
    "    if b > c:\n",
    "        print(c, b, a)\n",
    "    else:\n",
    "        if a > c:\n",
    "            print(b, c, a)\n",
    "        else:\n",
    "            print(b, a, c)\n",
    "else:\n",
    "    if b > c:\n",
    "        if a > c:\n",
    "            print(c, a, b)\n",
    "        else:\n",
    "            print(a, c, b)\n",
    "    else:\n",
    "        print(a, b, c)"
   ]
  },
  {
   "cell_type": "markdown",
   "metadata": {},
   "source": [
    "### Aufgabe 8: Punkte und Noten\n",
    "In einer Klausur werden Noten wie folgt vergeben:\n",
    "- weniger als 25: 5.0\n",
    "- 25 - 29: 4.0\n",
    "- 30 - 34: 3.0\n",
    "- 35 - 40: 2.0\n",
    "- mehr als 40: 1.0\n",
    "\n",
    "Schreiben Sie ein Programm, dass die Punktezahl über `input()` einliest und anschließend die entsprechende Note ausgibt. Benutzen Sie nur `if-elif-else`"
   ]
  },
  {
   "cell_type": "code",
   "execution_count": null,
   "metadata": {},
   "outputs": [],
   "source": [
    "punkte = int(input(\"Bitte Anzahl an Punkten eingeben: \"))\n",
    "\n",
    "if punkte < 25:\n",
    "    print(\"mangelhaft\")\n",
    "elif punkte < 30:\n",
    "    print(\"ausreichend\")\n",
    "elif punkte < 35:\n",
    "    print(\"befriedigend\")\n",
    "elif punkte <= 40:\n",
    "    print(\"gut\")\n",
    "else:\n",
    "    print(\"sehr gut\")"
   ]
  },
  {
   "cell_type": "markdown",
   "metadata": {},
   "source": [
    "### Aufgabe 9: Corona Symptome\n",
    "Die folgenden Symptome deuten auf Corona hin (Liste aus dem Internet, nicht vollständig):\n",
    "- Husten\n",
    "- Fieber\n",
    "- Schnupfen\n",
    "- Geruchs- und Geschmacksstörungen\n",
    "\n",
    "Auch diese Symptome können auf COVID-19 hinweisen:\n",
    "- Kurzatmigkeit, Atemnot\n",
    "- Halsschmerzen\n",
    "- Kopf- und Gliederschmerzen\n",
    "- Bauchschmerzen\n",
    "- Magen-Darm-Symptome\n",
    "\n",
    "Erstellen Sie ein Programm das folgendes leistet: Es geht durch die obere Liste und fragt der Reihe nach  die Symptome ab. Der Nutzer des Programms antwortet mit \"j\" oder \"n\". Für jedes \"j\" gibt es einen Punkt. Hat der Nutzer 3 oder mehr Punkte erfolgt die Aussage: \"Risiko, bitte beim Arzt melden\". Falls bei der oberen Liste 2 Punkte erzielt werden, werden zusätzlich die Symptome der zweiten Liste abgefragt. Werden hier 2 oder mehr Symptome bestätigt, gibt es die gleiche Aussage wie oben. Ansonsten antwortet das System mit \"Vermutlich kein Corona\""
   ]
  },
  {
   "cell_type": "code",
   "execution_count": null,
   "metadata": {},
   "outputs": [],
   "source": [
    "# Lösung mit vielen if-else\n",
    "ps = 0\n",
    "hu = input(\"Haben Sie Husten?\")\n",
    "if hu == \"j\":\n",
    "    ps += 1\n",
    "fi = input(\"Haben Sie Fieber?\")\n",
    "if fi == \"j\":\n",
    "    ps += 1\n",
    "sc = input(\"Haben Sie Schnupfen?\")\n",
    "if sc == \"j\":\n",
    "    ps += 1\n",
    "gg = input(\"G+G-Strörungen?\")\n",
    "if gg == \"j\":\n",
    "    ps += 1\n",
    "    \n",
    "if ps < 2:\n",
    "    print(\"Kein Coronaverdacht\")\n",
    "elif ps == 2:\n",
    "    ku = input(\"Kurzatmigkeit?\")\n",
    "    if ku == \"j\":\n",
    "        ss = 1\n",
    "    else:\n",
    "        ss = 0\n",
    "    ha = input(\"Halsschmerzen?\")\n",
    "    if ha == \"j\":\n",
    "        ss += 1\n",
    "    ko = input(\"Kopfschmerzen?\")\n",
    "    if ko == \"j\":\n",
    "        ss += 1\n",
    "    ba = input(\"Bauchschmerzen?\")\n",
    "    if ba == \"j\":\n",
    "        ss += 1\n",
    "    ma = input(\"Magenschmerzen?\")\n",
    "    if ma == \"j\":\n",
    "        ss += 1\n",
    "    if ss < 2:\n",
    "        print(\"Kein Coronaverdacht\")\n",
    "    else:\n",
    "        print(\"Coronaverdacht\")\n",
    "else: \n",
    "    print(\"Coronaverdacht!!!!!!\")"
   ]
  }
 ],
 "metadata": {
  "kernelspec": {
   "display_name": "Python 3",
   "language": "python",
   "name": "python3"
  },
  "language_info": {
   "codemirror_mode": {
    "name": "ipython",
    "version": 3
   },
   "file_extension": ".py",
   "mimetype": "text/x-python",
   "name": "python",
   "nbconvert_exporter": "python",
   "pygments_lexer": "ipython3",
   "version": "3.7.1"
  }
 },
 "nbformat": 4,
 "nbformat_minor": 4
}
