{
 "cells": [
  {
   "cell_type": "markdown",
   "metadata": {},
   "source": [
    "# Hausaufgaben Woche 1\n",
    "### Anweisungen, Variablen, Ein- und Ausgabe, Datentypen, if-elif-else\n",
    "Die folgenden Hausaufgaben sind in Form eines Jupyter-Notebooks gestaltet. Programmieren können Sie die Zellen hinter den Aufgaben. Wenn Sie Fragen haben, fügen Sie gerne weitere Zellen hinzu und formulieren Sie Ihre Fragen dort. Oder schreiben Sie ins Forum. Oder schreiben Sie eine E-Mail. **Nur ungestellte Fragen sind dumme Fragen!**\n",
    "\n",
    "Laden Sie Ihr Notebook am Ende in den entsprechenden Aufgabenordner auf Ilias hoch. Beachten Sie die Abgabefrist.\n"
   ]
  },
  {
   "cell_type": "markdown",
   "metadata": {},
   "source": [
    "### Aufgabe 1: Quader berechnen\n",
    "Schreiben Sie ein Programm, das folgendes leistet: Per Eingabe `input()` werden drei Zahlen eingelesen, die die Kantenlänge eines Quaders repräsentieren. Berechnen Sie das Volumen und die Oberfläche des Quaders. Geben Sie einen entsprechenden Output.\n",
    "\n",
    "Denken Sie an die Umwandlung der Eingaben mit Hilfe einer entsprechenden Konvertierungsfunktion (Casting). \n",
    "\n",
    "Was passiert, wenn sie bei der Eingabe keine Zahl eingeben?"
   ]
  },
  {
   "cell_type": "code",
   "execution_count": null,
   "metadata": {},
   "outputs": [],
   "source": []
  },
  {
   "cell_type": "markdown",
   "metadata": {},
   "source": [
    "### Aufgabe 2: Personendaten einlesen\n",
    "Fragen Sie nach typischen Daten eines neuen Kunden (Name, Vorname, Adresse, ...) und nehmen Sie die Daten mit Hilfe der Eingabe-Funktion auf und speichern Sie die Daten in einer entsprechenden Variable. Wenn alle Daten aufgenommen sind, geben Sie diese Daten in entsprechender Form zur Kontrolle wieder aus. Etwa in der Form:\n",
    "```\n",
    "Name: Jacobs\n",
    "Vorname: Stephan\n",
    "...\n",
    "```"
   ]
  },
  {
   "cell_type": "code",
   "execution_count": null,
   "metadata": {},
   "outputs": [],
   "source": []
  },
  {
   "cell_type": "markdown",
   "metadata": {},
   "source": [
    "### Aufgabe 3: Logische Funktion\n",
    "In einem Klassenzimmer soll das Fenster genau dann auf gemacht werden, wenn es warm ist und es **nicht** regnet. Über `input()` werden auf die Fragen *Ist es warm?* bzw. *Regnet es?* zwei boolsche Werte eingelesen. Denken Sie an die Konvertierung! Berechnen Sie mit einer boolschen Funktion, ob das Fenster geöffnet wird. Geben Sie diesen Wert über `print()` aus."
   ]
  },
  {
   "cell_type": "code",
   "execution_count": null,
   "metadata": {},
   "outputs": [],
   "source": []
  },
  {
   "cell_type": "markdown",
   "metadata": {},
   "source": [
    "### Aufgabe 4: Temperatur umwandeln\n",
    "Für die Temperatur gibt es verschiedene Skalen: Celsius, Fahrenheit, Kelvin. Dabei kann die Temperatur aus der einen in eine andere Skala umgewandelt werden. Es gilt:\n",
    "- Celsius = 5/9 * (Fahrenheit - 32).\n",
    "- Celsius = Kelvin - 273.15.\n",
    "\n",
    "Schreiben Sie ein Programm, dass eine Temperatur in Fahrenheit erhält und diese in Celsius ausgibt. Schreiben Sie anschließend (in der nächsten Zelle) ein Programm, dass eine Temperatur in Celsius als Input erhält und in Fahrenheit und in Kelvin ausgibt. Welcher Datentyp bietet sich an?"
   ]
  },
  {
   "cell_type": "code",
   "execution_count": null,
   "metadata": {},
   "outputs": [],
   "source": []
  },
  {
   "cell_type": "markdown",
   "metadata": {},
   "source": [
    "### Aufgabe 5: Mittelwert berechnen\n",
    "Geben Sie fünf Zahlen ein und berechnen Sie deren Mittelwert. Dieser wird am Ende ausgegeben."
   ]
  },
  {
   "cell_type": "code",
   "execution_count": null,
   "metadata": {},
   "outputs": [],
   "source": []
  },
  {
   "cell_type": "markdown",
   "metadata": {},
   "source": [
    "### Aufgabe 6: Ist eingegebene Zahl gerade?\n",
    "Über `input()` wird eine Zahl eingelesen. Sie überprüfen, ob diese Zahl gerade oder ungerade ist. Je nachdem wird über `print()` ausgegeben z.B. \"6 ist gerade\" oder \"71 ist ungerade\".\n",
    "Wie kann man überprüfen ob eine Zahl gerade ist? Das ist das gleich wie durch 2 teilbar. Und die Teilbarkeit können Sie mit Hilfe des Modulo-Operators `%`  überprüfen. Wenn `zahl % 2 == 0` dann ist diese Zahl durch 2 teilbar ansonsten nicht. (Die Teilbarkeit durch andere Zahlen geht ganz genauso.)"
   ]
  },
  {
   "cell_type": "code",
   "execution_count": null,
   "metadata": {},
   "outputs": [],
   "source": []
  },
  {
   "cell_type": "markdown",
   "metadata": {},
   "source": [
    "### Aufgabe 7: Drei Zahlen mit if-else sortieren\n",
    "Lesen Sie drei Zahlen a, b, c ein und geben Sie diese von klein nach groß geordnet aus. Dabei dürfen Sie nur die Konstruktion `if-else` nutzen. Funktioniert Ihr Programm auch, wenn zwei Zahlen gleich groß sind?"
   ]
  },
  {
   "cell_type": "code",
   "execution_count": null,
   "metadata": {},
   "outputs": [],
   "source": []
  },
  {
   "cell_type": "markdown",
   "metadata": {},
   "source": [
    "### Aufgabe 8: Punkte und Noten\n",
    "In einer Klausur werden Noten wie folgt vergeben:\n",
    "- weniger als 25: 5.0\n",
    "- 25 - 29: 4.0\n",
    "- 30 - 34: 3.0\n",
    "- 35 - 40: 2.0\n",
    "- mehr als 40: 1.0\n",
    "\n",
    "Schreiben Sie ein Programm, dass die Punktezahl über `input()` einliest und anschließend die entsprechende Note ausgibt. Benutzen Sie nur `if-elif-else`"
   ]
  },
  {
   "cell_type": "markdown",
   "metadata": {},
   "source": [
    "## Aufgabe 9: Dreieck\n",
    "Ein Dreieck besteht aus drei Ecken bzw. hat drei Winkel. Die Winkel heißen typischerweise alpha, beta und gamma. Benutzen Sie stattdessen `a`, `b` und `c`. (Die Winkel werden in Grad angegeben, ein ganzer Kreis hat 360°, ein rechter Winkel hat 90°). Für die Winkel gibt es bestimmte, durch die Geometrie von Dreiecken bestimmte Einschränkungen:\n",
    "\n",
    "- Ein Winkel ist immer größer als 0°\n",
    "- Die Summe aller Winkel in einem Dreieck ist immer exakt 180°\n",
    "\n",
    "Darüberhinaus gibt es bestimmte Typen von Dreicken:\n",
    "\n",
    "- Ein Dreieck heißt *rechtwinkliges Dreieck*, wenn ein Winkel gleich 90° ist.\n",
    "- Ein Dreieck heißt *stumpfwinkliges Dreieck*, wenn ein Winkel größer 90° ist.\n",
    "- Sind alle Winkel kleiner als 90°, handelt es sich um ein *spitzwinklikges Dreieck*.\n",
    "- Ein Dreieck ist ein *gleichschenkliges Dreieck*, wenn zwei Winkel gleich groß sind.\n",
    "- Ein Dreieck ist ein *gleichseitiges Dreieck*, wenn alle drei Winkel gleich sind. Aus obiger Einschränkung ergibt sich, dass dann alle Winkel gleich 60° sein müssen.\n",
    "\n",
    "Erstellen Sie ein Programm, das folgendes leistes: Lesen die Größe der Winkel über `input()` ein. Prüfen Sie, ob obige Einschränkungen erfüllt sind. Wenn nicht, geben Sie ein entsprechendes Feedback. Wenn die Bedingungen erfüllt sind, prüfen Sie, was für ein Typ von Dreieck vorliegt und geben Sie einen entsprechenden Output."
   ]
  },
  {
   "cell_type": "code",
   "execution_count": null,
   "metadata": {},
   "outputs": [],
   "source": []
  },
  {
   "cell_type": "code",
   "execution_count": null,
   "metadata": {},
   "outputs": [],
   "source": []
  },
  {
   "cell_type": "code",
   "execution_count": null,
   "metadata": {},
   "outputs": [],
   "source": []
  }
 ],
 "metadata": {
  "kernelspec": {
   "display_name": "Python 3 (ipykernel)",
   "language": "python",
   "name": "python3"
  },
  "language_info": {
   "codemirror_mode": {
    "name": "ipython",
    "version": 3
   },
   "file_extension": ".py",
   "mimetype": "text/x-python",
   "name": "python",
   "nbconvert_exporter": "python",
   "pygments_lexer": "ipython3",
   "version": "3.10.2"
  }
 },
 "nbformat": 4,
 "nbformat_minor": 4
}
