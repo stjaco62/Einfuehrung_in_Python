{
 "cells": [
  {
   "cell_type": "markdown",
   "metadata": {},
   "source": [
    "# Hausaufgaben\n",
    "Laden Sie Ihre Lösung mit den Hausaufgaben auf Ilias bis zum Sonntag hoch. Bei Fragen oder Problemen, bitte Rückmeldung geben.\n",
    "## Hausaufgaben zu Dateien\n",
    "### Aufgabe 1 Zahlen aus Datei lesen\n",
    "Die Datei `zahlen.txt` auf Ilias enthält mehrere Zahlen. In jeder Zeile steht eine Zahl. Lesen Sie die Datei ein. Geben Sie an wie viele Zahlen die Datei enthält und wie groß die Summe der Zahlen ist"
   ]
  },
  {
   "cell_type": "code",
   "execution_count": null,
   "metadata": {},
   "outputs": [],
   "source": []
  },
  {
   "cell_type": "markdown",
   "metadata": {},
   "source": [
    "### Aufgabe 2 Geheimschrift decodieren\n",
    "In der Datei `geheimtext.txt` steht ein Text, der codiert wurde. Statt der Buchstaben stehen da die \"ASCII-Zahlen\". Mit Hilfe des Befehls `chr(zahl)` können Sie diese Zahlen umwandeln. In jeder Zeile steht nur ein Zeichen. decodieren Sie die Datei und schreiben Sie das Ergebnis in die Datei `oeffentlichertext.txt` "
   ]
  },
  {
   "cell_type": "code",
   "execution_count": null,
   "metadata": {},
   "outputs": [],
   "source": []
  },
  {
   "cell_type": "markdown",
   "metadata": {},
   "source": [
    "## Hausaufgaben zu Tupeln\n",
    "### Aufgabe 3 Datei auslesen und in Tupel verwandeln\n",
    "In der Datei `daten.csv` stehen mehrere Datensätze. Jede Zeile enthält einen Datensatz. Alle Datensätze sind von der Struktur gleich augebaut: Name, Vorname, Straße, …\n",
    "Schreiben Sie ein Programm, dass die Datei einliest, die einzelnen Datensätze in geeignete Tupel zerlegt und die Tupel in eine Liste fügt. Zum Schluss soll die Liste Tupel für Tupel ausgegeben werden."
   ]
  },
  {
   "cell_type": "code",
   "execution_count": null,
   "metadata": {},
   "outputs": [],
   "source": []
  },
  {
   "cell_type": "markdown",
   "metadata": {},
   "source": [
    "### Aufgabe 4 Buchstaben zählen\n",
    "Die Datei `schimmelreiter.txt` enthält die ersten Seiten der Novelle \"Der Schimmelreiter\". Lesen Sie die Datei ein und zählen Sie anschließend, wie häufig jeder einzelne Buchstabe vorkommt. Gehen Sie dabei wie folgt vor:\n",
    "\n",
    "- Lesen Sie die Datei ein, fügen Sie die einzelnen Zeilen zu einem langen String zusammen\n",
    "- Ersetzen Sie in diesem Test alle Großbuchstaben durch Kleinbuchstaben (googlen Sie nach einer geeigneten String-Methode)\n",
    "- Ersetzen sie in diesem String alle ä, ö, ü, ß durch ae, oe, ue, ss (googlen Sie nach einer geeigneten String-Methode) \n",
    "- Mit Hilfe der Methode `.count()` können Sie das vorkommen jedes Buchstaben zählen.\n",
    "- Erzeugen Sie eine Liste aus Tupeln. Dabei sieht jedes Tupel wie folgt aus: (Buchstabe, Anzahl). Also z.B. (\"a\", 123)\n",
    "- Geben Sie zum Schluss die Liste tupelweise aus"
   ]
  },
  {
   "cell_type": "code",
   "execution_count": null,
   "metadata": {},
   "outputs": [],
   "source": []
  },
  {
   "cell_type": "markdown",
   "metadata": {},
   "source": [
    "## Hausaufgaben zur `while`-Schleife\n",
    "### Hausaufgabe 5 Collatz-Zahlen\n",
    "Das Collatz-Problem gehört zu den ungelösten Problemen der Mathematik. Es besagt, dass jede Abfolge von Zahlen, welche nach der folgenden Regel gebildet wird, irgendwann bei der Zahl 1 landet:\n",
    "- Die Folge beginnt bei einer beliebigen Zahl.\n",
    "- Ist die momentane Zahl n gerade, so ist die nächste Zahl die Hälfte von dieser, also n/2\n",
    "- Ist die momentane Zahl n ungerade, so ist die nächste Zahl um eins grösser als das dreifache der Zahl, also 3n+1  \n",
    "\n",
    "Bilden wir beispielsweise für die Zahl 23 diese Folge, so lautet sie:\n",
    "23,70,35,106,53,160,80,40,20,10,5,16,8,4,2,1\n",
    "Schreiben Sie ein Programm, welches diese Folge für eine vom Benutzer gewählte Zahl ausgibt und mit der Berechnung stoppt, sobald 1 erreicht wurde."
   ]
  },
  {
   "cell_type": "code",
   "execution_count": null,
   "metadata": {},
   "outputs": [],
   "source": [
    "n = int(input(\"Bitte eine Integer-Zahl eingeben: \"))\n",
    "\n",
    "while n != 1:\n",
    "    if n % 2 == 0:\n",
    "        n = n // 2\n",
    "    else: \n",
    "        n = 3 * n + 1\n",
    "    print(n)\n",
    "        \n"
   ]
  },
  {
   "cell_type": "code",
   "execution_count": null,
   "metadata": {},
   "outputs": [],
   "source": [
    "6 // 3"
   ]
  },
  {
   "cell_type": "markdown",
   "metadata": {},
   "source": [
    "### Hausaufgabe 6 Würfeln\n",
    "Einen Würfel können Sie mit Hilfe der Funktion `(random.randint(1,6)` erzeugen. Dazu muss vorher noch die Bibliothek `random` importiert werden (s.u.). Programmieren Sie jetzt einen Würfel, den man in einem tatsächlichen Spiel verwenden kann. Jedes mal, wenn Sie die Return-Taste drücken, wird ein Wurf gemacht und angezeigt. Solange, bis man ein Leerzeichen vor dem Return eingibt"
   ]
  },
  {
   "cell_type": "code",
   "execution_count": null,
   "metadata": {},
   "outputs": [],
   "source": [
    "import random\n",
    "\n",
    "while True:\n",
    "    z = input(\"Weiter Würfeln: \")\n",
    "    if z != \"\":\n",
    "        break\n",
    "    print(random.randint(1, 6))\n"
   ]
  },
  {
   "cell_type": "markdown",
   "metadata": {},
   "source": [
    "## Gemischte Aufgabe\n",
    "### Aufgabe 7 Studierende in QIS-Light\n",
    "**Liste einlesen** In der Datei `studierende.txt` sind eine Reihe Studierende gespeichert. Jeder Datensatz besteht aus Matrikelnummer, Vorname, Name. Die Werte sind durch Semikolon von einander getrennt.\n",
    "\n",
    "Lesen Sie die Studierenden ein eine Liste von Tupeln ein. Die Liste wird für die nächsten Aufgaben benötigt."
   ]
  },
  {
   "cell_type": "code",
   "execution_count": null,
   "metadata": {},
   "outputs": [],
   "source": []
  },
  {
   "cell_type": "markdown",
   "metadata": {},
   "source": [
    "**Einfügen neuer Studierender:** Fügen Sie mehrere neue Studierende in die Liste ein. (`while`-Schleife, mit leerem Return abbrechen)"
   ]
  },
  {
   "cell_type": "code",
   "execution_count": null,
   "metadata": {},
   "outputs": [],
   "source": []
  },
  {
   "cell_type": "markdown",
   "metadata": {},
   "source": [
    "**Löschen von Studierenden:** Löschen Sie einen Studierenden aus der Liste. Fragen Sie nach der Matrikelnummer und löschen diesen dann aus der Liste."
   ]
  },
  {
   "cell_type": "code",
   "execution_count": null,
   "metadata": {},
   "outputs": [],
   "source": []
  },
  {
   "cell_type": "markdown",
   "metadata": {},
   "source": [
    "**Liste abspeichern:** Speichern Sie die geänderte Liste wieder in obiger Datei ab. (Hinweis: Benutzen Sie erst einen anderen Dateinamne, bis das Programm funktioniert)."
   ]
  },
  {
   "cell_type": "code",
   "execution_count": null,
   "metadata": {},
   "outputs": [],
   "source": []
  }
 ],
 "metadata": {
  "kernelspec": {
   "display_name": "Python 3",
   "language": "python",
   "name": "python3"
  },
  "language_info": {
   "codemirror_mode": {
    "name": "ipython",
    "version": 3
   },
   "file_extension": ".py",
   "mimetype": "text/x-python",
   "name": "python",
   "nbconvert_exporter": "python",
   "pygments_lexer": "ipython3",
   "version": "3.7.7"
  }
 },
 "nbformat": 4,
 "nbformat_minor": 4
}
