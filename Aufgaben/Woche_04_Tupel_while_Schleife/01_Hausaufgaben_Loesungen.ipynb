{
 "cells": [
  {
   "cell_type": "markdown",
   "metadata": {},
   "source": [
    "# Hausaufgaben\n",
    "Laden Sie Ihre Lösung mit den Hausarbeiten auf Ilias bis zum Sonntag, 3.Mai, hoch. Bei Fragen oder Problemen, bitte Rückmeldung geben.\n",
    "## Hausaufgaben zu Dateien\n",
    "### Aufgabe 1 Zahlen aus Datei lesen\n",
    "Die Datei `zahlen.txt` auf Ilias enthält mehrere Zahlen. In jeder Zeile steht eine Zahl. Lesen Sie die Datei ein. Geben Sie an wie viele Zahlen die Datei enthält und wie groß die Summe der Zahlen ist"
   ]
  },
  {
   "cell_type": "code",
   "execution_count": 4,
   "metadata": {},
   "outputs": [
    {
     "name": "stdout",
     "output_type": "stream",
     "text": [
      "1233 6229608\n"
     ]
    }
   ],
   "source": [
    "summe = 0\n",
    "anz = 0\n",
    "\n",
    "numbers = open(\"zahlen.txt\", \"r\")\n",
    "for n in numbers:\n",
    "    n = n.strip()\n",
    "    n = int(n)\n",
    "    summe += n\n",
    "    anz += 1\n",
    "numbers.close()\n",
    "\n",
    "print(anz,summe)"
   ]
  },
  {
   "cell_type": "markdown",
   "metadata": {},
   "source": [
    "### Aufgabe 2 Geheimschrift decodieren\n",
    "In der Datei `geheimtext.txt` steht ein Text, der codiert wurde. Statt der Buchstaben stehen da die \"ASCII-Zahlen\". Mit Hilfe des Befehls `chr(zahl)` können Sie diese Zahlen umwandeln. In jeder Zeile steht nur ein Zeichen. decodieren Sie die Datei und schreiben Sie das Ergebnis in die Datei `oeffentlichertext.txt` "
   ]
  },
  {
   "cell_type": "code",
   "execution_count": 6,
   "metadata": {},
   "outputs": [],
   "source": [
    "text = open(\"geheimText.txt\", \"r\")\n",
    "oetext = open(\"oeffentlichertext.txt\", \"w\")\n",
    "\n",
    "for z in text:\n",
    "    z = z.strip()\n",
    "    z = int(z)\n",
    "    b = chr(z)\n",
    "    oetext.write(b)\n",
    "text.close()\n",
    "oetext.close()"
   ]
  },
  {
   "cell_type": "markdown",
   "metadata": {},
   "source": [
    "## Hausaufgaben zu Tupeln\n",
    "### Aufgabe 3 Datei auslesen und in Tupel verwandeln\n",
    "In der Datei `daten.csv` im Ordner Snippet stehen mehrere Datensätze. Jede Zeile enthält einen Datensatz. Alle Datensätze sind von der Struktur gleich augebaut: Name, Vorname, Straße, …\n",
    "Schreiben Sie ein Programm, dass die Datei einliest, die einzelnen Datensätze in geeignete Tupel zerlegt und die Tupel in eine Liste fügt. Zum Schluss soll die Liste Tupel für Tupel ausgegeben werden."
   ]
  },
  {
   "cell_type": "code",
   "execution_count": 14,
   "metadata": {},
   "outputs": [
    {
     "name": "stdout",
     "output_type": "stream",
     "text": [
      "[('Abbott', 'Jamie', 'Adalbertstraße', '100', '52074', 'Aachen', '0166 / 80062503', '0166 80062503'), ('Adams', 'Jesse', 'Admiralstraße', '94', '52076', 'Aachen', '0163 / 31575400', '0163 31575400'), ('Adkin', 'Jules', 'Alexandrinenstraße', '86', '52078', 'Aachen', '0157 / 47045272', '0157 47045272'), ('Ahearne', 'Kermit', 'Alfred-Döblin-Platz', '20', '52080', 'Aachen', '0162 / 45548773', '0162 45548773'), ('Albertson', 'Lawrence', 'Alte Brauerei', '26', '52134', 'Herzogenrath', '0153 / 55432166', '0153 55432166'), ('Aldrich', 'Liam', 'Alte Jakobstraße', '55', '52146', 'Würselen', '0175 / 72494565', '0175 72494565'), ('Alexander', 'Maddock', 'Am Johannistisch', '80', '52152', 'Simmerath', '0163 / 15001997', '0163 15001997'), ('Allard', 'Mark', 'Am Tempelhofer Berg', '34', '52156', 'Monschau', '0171 / 75739668', '0171 75739668'), ('Alper', 'Michael', 'Am Weinhang', '79', '52159', 'Roetgen', '0159 / 58037150', '0159 58037150'), ('Amherst', 'Morgan', 'An der Barthschen Promenade', '83', '52222', 'Stolberg (Rheinland)', '0173 / 50124658', '0173 50124658'), ('Amiel', 'Jason', 'Anhalter Straße', '19', '52223', 'Stolberg (Rheinland)', '0167 / 78565728', '0167 78565728'), ('Amis', 'Jim', 'Arndtstraße', '100', '52224', 'Stolberg (Rheinland)', '0171 / 77348780', '0171 77348780'), ('Andrew', 'Justin', 'Askanischer Platz', '77', '52249', 'Eschweiler', '0151 / 41164305', '0151 41164305'), ('Ansley', 'Kevin', 'Axel-Springer-Straße', '76', '52349', 'Düren', '0167 / 36937446', '0167 36937446')]\n"
     ]
    }
   ],
   "source": [
    "lop = []\n",
    "\n",
    "datei = open(\"daten.csv\", \"r\")\n",
    "for z in datei:\n",
    "    z = z.strip()\n",
    "    t = z.split(\";\")\n",
    "    t = tuple(t)\n",
    "    lop.append(t)\n",
    "datei.close()\n",
    "\n",
    "print(lop)"
   ]
  },
  {
   "cell_type": "markdown",
   "metadata": {},
   "source": [
    "### Aufgabe 4 Buchstaben zählen\n",
    "Die Datei `schimmelreiter.txt` enthält die ersten Seiten der Novelle \"Der Schimmelreiter\". Lesen Sie die Datei ein und zählen Sie anschließend, wie häufig jeder einzelne Buchstabe vorkommt. Gehen Sie dabei wie folgt vor:\n",
    "\n",
    "- Lesen Sie die Datei ein, fügen Sie die einzelnen Zeilen zu einem langen String zusammen\n",
    "- Ersetzen Sie in diesem Test alle Großbuchstaben durch Kleinbuchstaben\n",
    "- Ersetzen sie in diesem String alle ä, ö, ü, ß durch ae, oe, ue, ss dass eine Liste von Tupeln erzeugt wird. \n",
    "- Mit Hilfe der Methode `.count()` können Sie das vorkommen jedes Buchstaben zählen.\n",
    "- Erzeugen Sie eine Liste aus Tupeln. Dabei sieht jedes Tupel wie folgt aus: (Buchstabe, Anzahl). Also z.B. (\"a\", 123)\n",
    "- Geben Sie zum Schluss die Liste tupelweise aus"
   ]
  },
  {
   "cell_type": "code",
   "execution_count": 27,
   "metadata": {},
   "outputs": [
    {
     "name": "stdout",
     "output_type": "stream",
     "text": [
      "a 2494\n",
      "b 715\n",
      "c 1169\n",
      "d 1940\n",
      "e 6620\n",
      "f 527\n",
      "g 953\n",
      "h 2078\n",
      "i 2709\n",
      "j 124\n",
      "k 474\n",
      "l 1156\n",
      "m 950\n",
      "n 3728\n",
      "o 837\n",
      "p 145\n",
      "q 5\n",
      "r 2616\n",
      "s 2497\n",
      "t 2212\n",
      "u 1603\n",
      "v 269\n",
      "w 629\n",
      "x 0\n",
      "y 0\n",
      "z 333\n"
     ]
    }
   ],
   "source": [
    "text = \"\"\n",
    "datei = open(\"schimmelreiter.txt\", \"r\")\n",
    "for z in datei:\n",
    "    z = z.strip()\n",
    "    z = z.lower()\n",
    "    z = z.replace(\"ß\", \"ss\")\n",
    "    z = z.replace(\"ä\", \"ae\")\n",
    "    z = z.replace(\"ö\", \"oe\")\n",
    "    z = z.replace(\"ü\", \"ue\")\n",
    "    text = text + z\n",
    "datei.close()\n",
    "\n",
    "for i in range(97, 123):\n",
    "    b = chr(i)\n",
    "    print(b, text.count(b))\n",
    "    \n"
   ]
  },
  {
   "cell_type": "markdown",
   "metadata": {},
   "source": [
    "## Hausaufgaben zur `while`-Schleife\n",
    "### Hausaufgabe 5 Collatz-Zahlen\n",
    "Das Collatz-Problem gehört zu den ungelösten Problemen der Mathematik. Es besagt, dass jede Abfolge von Zahlen, welche nach der folgenden Regel gebildet wird, irgendwann bei der Zahl 1 landet:\n",
    "- Die Folge beginnt bei einer beliebigen Zahl.\n",
    "- Ist die momentane Zahl n gerade, so ist die nächste Zahl die Hälfte von dieser, also n/2\n",
    "- Ist die momentane Zahl n ungerade, so ist die nächste Zahl um eins grösser als das dreifache der Zahl, also 3n+1  \n",
    "\n",
    "Bilden wir beispielsweise für die Zahl 23 diese Folge, so lautet sie:\n",
    "23,70,35,106,53,160,80,40,20,10,5,16,8,4,2,1\n",
    "Schreiben Sie ein Programm, welches diese Folge für eine vom Benutzer gewählte Zahl ausgibt und mit der Berechnung stoppt, sobald 1 erreicht wurde."
   ]
  },
  {
   "cell_type": "code",
   "execution_count": 33,
   "metadata": {},
   "outputs": [
    {
     "name": "stdout",
     "output_type": "stream",
     "text": [
      "Bitte eine Zahl eingeben: 123456789\n",
      "370370368\n",
      "185185184\n",
      "92592592\n",
      "46296296\n",
      "23148148\n",
      "11574074\n",
      "5787037\n",
      "17361112\n",
      "8680556\n",
      "4340278\n",
      "2170139\n",
      "6510418\n",
      "3255209\n",
      "9765628\n",
      "4882814\n",
      "2441407\n",
      "7324222\n",
      "3662111\n",
      "10986334\n",
      "5493167\n",
      "16479502\n",
      "8239751\n",
      "24719254\n",
      "12359627\n",
      "37078882\n",
      "18539441\n",
      "55618324\n",
      "27809162\n",
      "13904581\n",
      "41713744\n",
      "20856872\n",
      "10428436\n",
      "5214218\n",
      "2607109\n",
      "7821328\n",
      "3910664\n",
      "1955332\n",
      "977666\n",
      "488833\n",
      "1466500\n",
      "733250\n",
      "366625\n",
      "1099876\n",
      "549938\n",
      "274969\n",
      "824908\n",
      "412454\n",
      "206227\n",
      "618682\n",
      "309341\n",
      "928024\n",
      "464012\n",
      "232006\n",
      "116003\n",
      "348010\n",
      "174005\n",
      "522016\n",
      "261008\n",
      "130504\n",
      "65252\n",
      "32626\n",
      "16313\n",
      "48940\n",
      "24470\n",
      "12235\n",
      "36706\n",
      "18353\n",
      "55060\n",
      "27530\n",
      "13765\n",
      "41296\n",
      "20648\n",
      "10324\n",
      "5162\n",
      "2581\n",
      "7744\n",
      "3872\n",
      "1936\n",
      "968\n",
      "484\n",
      "242\n",
      "121\n",
      "364\n",
      "182\n",
      "91\n",
      "274\n",
      "137\n",
      "412\n",
      "206\n",
      "103\n",
      "310\n",
      "155\n",
      "466\n",
      "233\n",
      "700\n",
      "350\n",
      "175\n",
      "526\n",
      "263\n",
      "790\n",
      "395\n",
      "1186\n",
      "593\n",
      "1780\n",
      "890\n",
      "445\n",
      "1336\n",
      "668\n",
      "334\n",
      "167\n",
      "502\n",
      "251\n",
      "754\n",
      "377\n",
      "1132\n",
      "566\n",
      "283\n",
      "850\n",
      "425\n",
      "1276\n",
      "638\n",
      "319\n",
      "958\n",
      "479\n",
      "1438\n",
      "719\n",
      "2158\n",
      "1079\n",
      "3238\n",
      "1619\n",
      "4858\n",
      "2429\n",
      "7288\n",
      "3644\n",
      "1822\n",
      "911\n",
      "2734\n",
      "1367\n",
      "4102\n",
      "2051\n",
      "6154\n",
      "3077\n",
      "9232\n",
      "4616\n",
      "2308\n",
      "1154\n",
      "577\n",
      "1732\n",
      "866\n",
      "433\n",
      "1300\n",
      "650\n",
      "325\n",
      "976\n",
      "488\n",
      "244\n",
      "122\n",
      "61\n",
      "184\n",
      "92\n",
      "46\n",
      "23\n",
      "70\n",
      "35\n",
      "106\n",
      "53\n",
      "160\n",
      "80\n",
      "40\n",
      "20\n",
      "10\n",
      "5\n",
      "16\n",
      "8\n",
      "4\n",
      "2\n",
      "1\n"
     ]
    }
   ],
   "source": [
    "n = int(input(\"Bitte eine Zahl eingeben: \"))\n",
    "while n != 1:\n",
    "    if n % 2 == 0:\n",
    "        n = int(n/2)\n",
    "    else:\n",
    "        n = 3 * n + 1\n",
    "    print(n)"
   ]
  },
  {
   "cell_type": "markdown",
   "metadata": {},
   "source": [
    "### Hausaufgabe 6 Würfeln\n",
    "In einer der vorherigen Übungen haben Sie schon gewürfelt `(random.randint(1,6)`. Programmieren Sie jetzt einen Würfel, den man in einem tatsächlichen Spiel verwenden kann. Jedes mal, wenn Sie die Return-Taste drücken, wird ein Wurf gemacht und angezeigt. Solange, bis man ein Leerzeichen vor dem Return eingibt"
   ]
  },
  {
   "cell_type": "code",
   "execution_count": 37,
   "metadata": {},
   "outputs": [
    {
     "name": "stdout",
     "output_type": "stream",
     "text": [
      "5\n",
      "\n",
      "4\n",
      "\n",
      "1\n",
      "\n",
      "6\n",
      "\n",
      "1\n",
      "\n",
      "5\n",
      "\n",
      "4\n",
      "\n",
      "2\n",
      "\n",
      "1\n",
      "\n",
      "2\n",
      "\n",
      "5\n",
      "\n",
      "6\n",
      " \n"
     ]
    }
   ],
   "source": [
    "import random\n",
    "x = \"s\"\n",
    "while x != \" \":\n",
    "    print(random.randint(1,6))\n",
    "    x = input(\"\")"
   ]
  },
  {
   "cell_type": "markdown",
   "metadata": {},
   "source": [
    "## Gemischte Aufgabe\n",
    "### Aufgabe 7 Studierende in QIS-Light\n",
    "**Liste einlesen** In der Datei `studierende.txt` sind eine Reihe Studierende gespeichert. Jeder Datensatz besteht aus Matrikelnummer, Vorname, Name. Die Werte sind durch Semikolon von einander getrennt.\n",
    "\n",
    "Lesen Sie die Studierenden ein eine Liste von Tupeln ein. Die Liste wird für die nächsten Aufgaben benötigt."
   ]
  },
  {
   "cell_type": "code",
   "execution_count": 39,
   "metadata": {},
   "outputs": [
    {
     "name": "stdout",
     "output_type": "stream",
     "text": [
      "[('3737170', 'Maria', 'Lange'), ('3600491', 'Lea', 'Neumann'), ('3168860', 'Sophie', 'Herrmann'), ('3654565', 'Tim', 'Roth'), ('3321023', 'Sophie', 'Mayer'), ('3267019', 'Lucas', 'Weiß'), ('3523559', 'Lea', 'Sauer'), ('3493209', 'Maria', 'Wolf'), ('3574919', 'Jonas', 'Haas'), ('3334197', 'Laura', 'Thomas'), ('3236581', 'Lea', 'Kaiser'), ('3721437', 'Tim', 'Lehmann'), ('3624873', 'Emily', 'Arnold'), ('3198803', 'Leon', 'Dietrich'), ('3567015', 'Maximilian', 'Schmitt'), ('3706812', 'Emily', 'Lang'), ('3750317', 'Anna', 'Schuster'), ('3399591', 'Leonie', 'Pohl'), ('3523876', 'Marie', 'Braun'), ('3189668', 'Lea', 'Meyer'), ('3636184', 'Alexander', 'Böhm'), ('3517527', 'Lucas', 'Günther'), ('3442056', 'Maria', 'Heinrich'), ('3772008', 'Sophie', 'Hofmann'), ('3556036', 'Leonie', 'Wolff'), ('3751206', 'Tim', 'Berger'), ('3177045', 'Marie', 'Schäfer'), ('3380364', 'David', 'Möller'), ('3593264', 'Tim', 'Schäfer'), ('3429067', 'Lucas', 'Maier'), ('3658579', 'Leonie', 'Schulz'), ('3710190', 'Alexander', 'Otto'), ('3348131', 'David', 'Krämer'), ('3278178', 'David', 'Schwarz'), ('3313335', 'Lea', 'Wolf')]\n"
     ]
    }
   ],
   "source": [
    "datei = open(\"studierende.txt\", \"r\")\n",
    "los = []\n",
    "for z in datei:\n",
    "    z = z.strip()\n",
    "    t = z.split(\";\")\n",
    "    t = tuple(t)\n",
    "    los.append(t)\n",
    "    \n",
    "datei.close()\n",
    "print(los)"
   ]
  },
  {
   "cell_type": "markdown",
   "metadata": {},
   "source": [
    "**Einfügen neuer Studierender:** Fügen Sie mehrere neue Studierende in die Liste ein. (`while`-Schleife, mit leerem Return abbrechen)"
   ]
  },
  {
   "cell_type": "code",
   "execution_count": 42,
   "metadata": {},
   "outputs": [
    {
     "name": "stdout",
     "output_type": "stream",
     "text": [
      "Bitte eine Matrikelnummer eingeben: 123456\n",
      "Bitte einen Vornamen eingeben: Hans\n",
      "Namen eingeben:Schmitz\n",
      "Bitte eine Matrikelnummer eingeben: 12345678\n",
      "Bitte einen Vornamen eingeben: Hannah\n",
      "Namen eingeben:Peters\n",
      "Bitte eine Matrikelnummer eingeben: \n",
      "[('3737170', 'Maria', 'Lange'), ('3600491', 'Lea', 'Neumann'), ('3168860', 'Sophie', 'Herrmann'), ('3654565', 'Tim', 'Roth'), ('3321023', 'Sophie', 'Mayer'), ('3267019', 'Lucas', 'Weiß'), ('3523559', 'Lea', 'Sauer'), ('3493209', 'Maria', 'Wolf'), ('3574919', 'Jonas', 'Haas'), ('3334197', 'Laura', 'Thomas'), ('3236581', 'Lea', 'Kaiser'), ('3721437', 'Tim', 'Lehmann'), ('3624873', 'Emily', 'Arnold'), ('3198803', 'Leon', 'Dietrich'), ('3567015', 'Maximilian', 'Schmitt'), ('3706812', 'Emily', 'Lang'), ('3750317', 'Anna', 'Schuster'), ('3399591', 'Leonie', 'Pohl'), ('3523876', 'Marie', 'Braun'), ('3189668', 'Lea', 'Meyer'), ('3636184', 'Alexander', 'Böhm'), ('3517527', 'Lucas', 'Günther'), ('3442056', 'Maria', 'Heinrich'), ('3772008', 'Sophie', 'Hofmann'), ('3556036', 'Leonie', 'Wolff'), ('3751206', 'Tim', 'Berger'), ('3177045', 'Marie', 'Schäfer'), ('3380364', 'David', 'Möller'), ('3593264', 'Tim', 'Schäfer'), ('3429067', 'Lucas', 'Maier'), ('3658579', 'Leonie', 'Schulz'), ('3710190', 'Alexander', 'Otto'), ('3348131', 'David', 'Krämer'), ('3278178', 'David', 'Schwarz'), ('3313335', 'Lea', 'Wolf'), ('123456', 'Hans', 'Schmitz'), ('12345678', 'Hannah', 'Peters')]\n"
     ]
    }
   ],
   "source": [
    "while True:\n",
    "    matrnr = input(\"Bitte eine Matrikelnummer eingeben: \")\n",
    "    if matrnr == \"\":\n",
    "        break\n",
    "    vorname = input(\"Bitte einen Vornamen eingeben: \")\n",
    "    name = input(\"Namen eingeben:\")\n",
    "    t = (matrnr, vorname, name)\n",
    "    los.append(t)\n",
    "    \n",
    "print(los)"
   ]
  },
  {
   "cell_type": "markdown",
   "metadata": {},
   "source": [
    "**Löschen von Studierenden:** Löschen Sie einen Studierenden aus der Liste. Fragen Sie nach der Matrikelnummer und löschen diesen dann aus der Liste."
   ]
  },
  {
   "cell_type": "code",
   "execution_count": 48,
   "metadata": {},
   "outputs": [
    {
     "name": "stdout",
     "output_type": "stream",
     "text": [
      "Bitte Matrikelnummer eingeben: 123456\n",
      "[('3737170', 'Maria', 'Lange'), ('3600491', 'Lea', 'Neumann'), ('3168860', 'Sophie', 'Herrmann'), ('3654565', 'Tim', 'Roth'), ('3321023', 'Sophie', 'Mayer'), ('3267019', 'Lucas', 'Weiß'), ('3523559', 'Lea', 'Sauer'), ('3493209', 'Maria', 'Wolf'), ('3574919', 'Jonas', 'Haas'), ('3334197', 'Laura', 'Thomas'), ('3236581', 'Lea', 'Kaiser'), ('3721437', 'Tim', 'Lehmann'), ('3624873', 'Emily', 'Arnold'), ('3198803', 'Leon', 'Dietrich'), ('3567015', 'Maximilian', 'Schmitt'), ('3706812', 'Emily', 'Lang'), ('3750317', 'Anna', 'Schuster'), ('3399591', 'Leonie', 'Pohl'), ('3523876', 'Marie', 'Braun'), ('3189668', 'Lea', 'Meyer'), ('3636184', 'Alexander', 'Böhm'), ('3517527', 'Lucas', 'Günther'), ('3442056', 'Maria', 'Heinrich'), ('3772008', 'Sophie', 'Hofmann'), ('3556036', 'Leonie', 'Wolff'), ('3751206', 'Tim', 'Berger'), ('3177045', 'Marie', 'Schäfer'), ('3380364', 'David', 'Möller'), ('3593264', 'Tim', 'Schäfer'), ('3429067', 'Lucas', 'Maier'), ('3658579', 'Leonie', 'Schulz'), ('3710190', 'Alexander', 'Otto'), ('3348131', 'David', 'Krämer'), ('3278178', 'David', 'Schwarz'), ('3313335', 'Lea', 'Wolf')]\n"
     ]
    }
   ],
   "source": [
    "matrnr = input(\"Bitte Matrikelnummer eingeben: \")\n",
    "s = \"x\"\n",
    "for t in los:\n",
    "    if t[0] == matrnr:\n",
    "        s = t\n",
    "if s != \"x\":\n",
    "    los.remove(s)\n",
    "print(los)"
   ]
  },
  {
   "cell_type": "markdown",
   "metadata": {},
   "source": [
    "**Liste abspeichern:** Speichern Sie die geänderte Liste wieder in obiger Datei ab. (Hinweis: Benutzen Sie erst einen anderen Dateinamne, bis das Programm funktioniert)."
   ]
  },
  {
   "cell_type": "code",
   "execution_count": 49,
   "metadata": {},
   "outputs": [],
   "source": [
    "ndatei = open(\"stud2.txt\", \"w\")\n",
    "for s in los:\n",
    "    stud = s[0] + \";\" + s[1] + \";\" + s[2] + \"\\n\"\n",
    "    ndatei.write(stud)\n",
    "\n",
    "ndatei.close()"
   ]
  },
  {
   "cell_type": "code",
   "execution_count": null,
   "metadata": {},
   "outputs": [],
   "source": []
  }
 ],
 "metadata": {
  "kernelspec": {
   "display_name": "Python 3",
   "language": "python",
   "name": "python3"
  },
  "language_info": {
   "codemirror_mode": {
    "name": "ipython",
    "version": 3
   },
   "file_extension": ".py",
   "mimetype": "text/x-python",
   "name": "python",
   "nbconvert_exporter": "python",
   "pygments_lexer": "ipython3",
   "version": "3.7.1"
  }
 },
 "nbformat": 4,
 "nbformat_minor": 4
}
