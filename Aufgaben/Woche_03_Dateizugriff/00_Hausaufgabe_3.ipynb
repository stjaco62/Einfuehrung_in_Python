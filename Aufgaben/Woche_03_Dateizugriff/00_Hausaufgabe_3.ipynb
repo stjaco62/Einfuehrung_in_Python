{
 "cells": [
  {
   "cell_type": "markdown",
   "metadata": {},
   "source": [
    "# Hausaufgabe: Dateien\n",
    "In den folgenden Hausaufgaben müssen Sie auf Dateien zugreifen. Dabei werden insbesondere auch die `for`-Schleife und Listen benötigt. Bei einigen Aufgaben benötigen Sie neben diesem Notebook auch noch zusätzliche `.txt` oder `.csv` Dateien. Die müssen im gleichen Ordnern wie diese Notebook liegen.\n",
    "\n",
    "### Aufgabe 1: Datei erstellen\n",
    "Erstellen Sie eine Datei mit Namen `zahlen.txt` (Datei im w-Modus öffnen). Schreiben Sie in diese Datei die Zahlen von 1 - 100 mit Hilfe einer `for`-Schleife. Schließen Sie diese Datei wieder. Kontrollieren Sie mit einem Texteditor, dass das Ganze geklappt hat.\n",
    "\n",
    "Verändern Sie das Programm so, dass alle Zahlen in einer Zeile durch Semikolons getrennt sind. Verändern Sie das Programm so, dass alles Zahlen jeweils in einer neuen Zeile stehen."
   ]
  },
  {
   "cell_type": "code",
   "execution_count": null,
   "metadata": {},
   "outputs": [],
   "source": []
  },
  {
   "cell_type": "markdown",
   "metadata": {},
   "source": [
    "### Aufgabe 2: Datei mit Studierenden erstellen\n",
    "Eine Datei mit soll die Studierenden eines Moduls enthalten. In jeder Zeile steht ein Studierender mit Matrikelnummer, Name und Vorname. Die einzelnen Werte sind durch Semikolon voneinander getrennt. Beispiel: \"123456;Jacobs;Stephan\". Die Studierendendatei heißt: studierende.txt\n",
    "Insgesamt drei Studierende werden durch eine `for`-Schleife eingelesen. Innerhalb der Schleife wird durch ein `input()` jeweils nach den drei Werten gefragt, diese werden dann der Reihe nach in die Datei gelesen. Dabei nicht die Semikolon und das Zeilenende vergessen.\n",
    "\n",
    "Überprüfen Sie die Datei im Texteditor?\n",
    "\n",
    "Wie können Sie die Schleife so ändern, dass nicht nur drei Studierende eingegeben werden sondern eine unbekannte Zahl. Erst wenn man bei der Matrikelnummer eine leere Eingabe macht (also direkt die *Return-Taste* drücken), wird die Eingabe unterbrochen."
   ]
  },
  {
   "cell_type": "code",
   "execution_count": null,
   "metadata": {},
   "outputs": [],
   "source": []
  },
  {
   "cell_type": "markdown",
   "metadata": {},
   "source": [
    "### Aufgabe 3: Studierende wieder auslesen\n",
    "Lesen Sie die zuvor erzeugte Datei wieder aus. Lesen Sie die Daten zeilenweise aus. Löschen Sie mit Hilfe der Methode `.strip()` den Zeilenumbruch. Zerlegen Sie jede Zeile mit Hilfe der Methode `.split()` in ihre Bestandteile Matrikelnummer, Name, Vorname. Dazu müssen Sie das Semikolon als Separator angeben: `.split(\";\")`. Geben Sie schließlich die Werte der Liste einzeln aus.\n"
   ]
  },
  {
   "cell_type": "code",
   "execution_count": null,
   "metadata": {},
   "outputs": [],
   "source": []
  },
  {
   "cell_type": "markdown",
   "metadata": {},
   "source": [
    "### Aufgabe 4: Studierenden hinzufügen\n",
    "Jetzt soll zu obiger Datei ein Studierender hinzugefügt werden. Gehen Sie dazu wie folgt vor.\n",
    "\n",
    "- Erstellen Sie eine leere Liste `liste_studierende`\n",
    "- Lesen Sie die Datei aus und fügen Sie jede Zeile als neues Element mit `.append()` in die Liste ein\n",
    "- Fragen Sie nach den Daten für einen neuen Studierenden (`input()`)\n",
    "- Erstellen Sie aus den Daten des neuen Studierenden einen String mit Semikolon und Zeilenende\n",
    "- Fügen Sie diesen String der Liste hinzu\n",
    "- Schreiben Sie alle  Werte in die Datei zurück.\n",
    "\n",
    "Mit welchem Modus muss die Datei geöffnet werden? \n",
    "\n",
    "Man könnte auch auf den Zwischenschritt mit der Liste verzichten. In der Regel liest man aber die Daten aus Dateien vollständig in das Programm ein, um anschließend effizienter arbeiten zu können.\n",
    "\n",
    "Die Datenstruktur ist noch nicht optimal. Zwar kann man auf jeden Studierenden über einen Index zugreifen. Allerdings nicht über seine Matrikelnummer. Dazu werden wir noch eine andere Datenstruktur kennenlernen. Außerdem ist der Zugriff auf die einzelnen Attribute des Studierenden (Name, Vorname) schwierig. Auch hier gibt es noch eine bessere Datenstruktur."
   ]
  },
  {
   "cell_type": "code",
   "execution_count": null,
   "metadata": {},
   "outputs": [],
   "source": []
  },
  {
   "cell_type": "markdown",
   "metadata": {},
   "source": [
    "### Aufgabe 5: Zufallszahlen aufsummieren\n",
    "In der Datei `zufallszahlen.txt` sind eine Reihe Zufallszahlen (Datei kontrollieren). Lesen Sie die Zahlen ein und summieren Sie die Zahlen auf. Sie müssen die Zahlen in eine Integer umwandeln. Sie benötigen eine Summen-Variable, die Sie Zahl für Zahl aufsummieren. Diese Summen-Variable muss am Anfang intialisiert werden.\n",
    "\n",
    "Verändern Sie das Programm so, dass Sie die Summe aller geraden Zahlen sowie die Summe aller ungeraden Zahlen berechnen."
   ]
  },
  {
   "cell_type": "code",
   "execution_count": 21,
   "metadata": {},
   "outputs": [
    {
     "name": "stdout",
     "output_type": "stream",
     "text": [
      "55342 62498 117840\n"
     ]
    }
   ],
   "source": []
  },
  {
   "cell_type": "markdown",
   "metadata": {},
   "source": [
    "### Aufgabe 6: Zufallszahlen in zwei Dateien aufteilen\n",
    "Lesen Sie die Zufallszahlen aus der Datei von Aufgabe 5 ein. Teilen Sie die Zahlen in zwei Listen von geraden und ungeraden Zahlen. Sortieren Sie die Zahlen. Schreiben Sie die Zahlen in zwei Datein `zuf_gerade.txt` und `zuf_ungerade.txt`."
   ]
  },
  {
   "cell_type": "code",
   "execution_count": 28,
   "metadata": {},
   "outputs": [],
   "source": []
  },
  {
   "cell_type": "markdown",
   "metadata": {},
   "source": [
    "### Aufgabe 7: Geheimtext entschlüsseln - schwierig!\n",
    "In der Datei geheim.txt ist stehen lauter Leerzeichen und #. Wenn man diese Zeichen wie folgt anordnet, ergibt sich eine Botschaft: Die Zeichen stehen im Augenblick in einer einzigen Spalte (jeweils Zeichen und Zeilenumbruch). Schreiben Sie die Zeichen so um, dass sie in 6 Zeilen mit jeweils 41 Zeichen stehen. Schreiben Sie die so transformierten Zeilen in eine Datei namens offen.txt und schauen Sie sich das Ergebnis im Texteditor an. Gehen Sie dabei wie folgt vor:\n",
    "\n",
    "- Datei zeilenweise einlesen, dabei immer zuerst mit z = `z[:-1]` das Zeilenende entfernen. `.strip()` funktioniert hier nicht, da strip eben auch die Leerzeichen löschen wurde. Schauen Sie sich das Konstrukt `z[:-1]` nochmal genau an: Der Index `-1` weist auf das letzte Zeichen. Das gesamte Konstrukt schneidet aus dem String (der ja Eigenschaften einer Liste hat) den Teil vom ersten (einschließlich) bis zum letzten (ausschließlich) heraus.\n",
    "- In jeder Zeile steht nur ein Zeichen. Die Zeichen jetzt der Reihe nach an einen String einfügen. Dieser muss vor der Schleife initialisiert werden.\n",
    "- Am Ende stehen alle Zeichen in einer Zeile statt in einer Spalte.\n",
    "- Daher benötigen wir noch einen Zähler, der in jedem Durchgang um eins erhöht wird. Erreicht der Zähler die 41, ist die Zeile zu Ende. Das bisherige Ergebnis wird (z.B. in einer Liste) zwischengespeichert, der Zähler und die Variable, in der die Zeichen eingelesen werden, werden zurückgesetzt."
   ]
  },
  {
   "cell_type": "code",
   "execution_count": null,
   "metadata": {},
   "outputs": [],
   "source": []
  }
 ],
 "metadata": {
  "kernelspec": {
   "display_name": "Python 3",
   "language": "python",
   "name": "python3"
  },
  "language_info": {
   "codemirror_mode": {
    "name": "ipython",
    "version": 3
   },
   "file_extension": ".py",
   "mimetype": "text/x-python",
   "name": "python",
   "nbconvert_exporter": "python",
   "pygments_lexer": "ipython3",
   "version": "3.7.7"
  }
 },
 "nbformat": 4,
 "nbformat_minor": 4
}
